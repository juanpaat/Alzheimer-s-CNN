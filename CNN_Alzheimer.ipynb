{
  "cells": [
    {
      "cell_type": "markdown",
      "metadata": {
        "id": "view-in-github",
        "colab_type": "text"
      },
      "source": [
        "<a href=\"https://colab.research.google.com/github/juanpaat/Alzheimer-s-CNN/blob/main/CNN_Alzheimer.ipynb\" target=\"_parent\"><img src=\"https://colab.research.google.com/assets/colab-badge.svg\" alt=\"Open In Colab\"/></a>"
      ]
    },
    {
      "cell_type": "markdown",
      "metadata": {
        "id": "oMZc723jaZko"
      },
      "source": [
        "Alzheimer is a neurodegenerative desorder that affect mainly people on their elder stage. It is caracterised for the constant forget about recent conversations or event,misplace items, as well as names and troubles finding the right word in a everyday conversation. Sometimes, some more severe symptoms could be trigger by other conditions such as infections, strokes and delirium [NHS](https://www.nhs.uk/conditions/alzheimers-disease/symptoms/).\n",
        "\n",
        "\n",
        " Although it could not have many notoriuos symptoms at the beggining, this is a progressive condition that could develope rapidly, so that the early detection in patients could lead to a early treatment and a significant improvement in quality of life of people with the condition. Moreover, new techniques must be consider so that the detection is more accurate and could be done rapidly and cheap.\n",
        "\n",
        "In the uk, [The Office for National Statistics (ONS)](https://www.ons.gov.uk/) revealed that dementia and Alzheimer’s disease were the leading cause of death in 2022. Collectively they accounted for 65,967 deaths (11.4% of the total), up from 61,250 (10.4%) in 2021.\n",
        "\n",
        "Currently 7 million of Americans are living with Alzheimer's and it is forecasted that by 2050, this number is set to increase to nearly 13 million according to [Alzheimer's Association](https://www.alz.org/alzheimers-dementia/facts-figures). The global cost of dementia has risen by 62% between 2010 and 2019\n",
        "\n",
        "[Alzheimer's Research UK](https://dementiastatistics.org/statistics/the-economic-impact-of-dementia/#:~:text=The%20global%20cost%20of%20dementia,2019%20was%20%241.3%20trillion%20USD.&text=World%20Alzheimer%20Report%202015%20The,%2C%20incidence%2C%20cost%20and%20trends.) estimated that the cost of dementia in the UK for the 2021 year was  £256 billion and globally the cost of dementia was estimated to be $1.3 trillion USD in 2018 (World Alzheimer Report 2018).\n",
        "\n",
        "\n",
        "They can stabilise or improve a person’s symptoms, like thinking and memory problems, for some time and help them to maintain their ability to carry out some daily activities."
      ]
    },
    {
      "cell_type": "markdown",
      "source": [
        "Alzheimer's disease is a neurodegenerative disorder that primarily affects individuals in their later years. It is characterised by symptoms such as forgetfulness in recent conversations or events, misplacement of items, difficulty recalling names, and trouble finding the right words in everyday conversations. In some cases, more severe symptoms may be triggered by other conditions such as infections, strokes, or delirium.\n",
        "\n",
        "Despite initially presenting with subtle symptoms, Alzheimer's is a progressive condition that can rapidly worsen over time. Early detection is crucial, as it can facilitate prompt treatment and significantly improve the quality of life for those affected. Additionally, there is a pressing need to explore new techniques for more accurate and cost-effective detection methods.\n",
        "\n",
        "In the UK, the Office for National Statistics (ONS) reported that dementia and Alzheimer's disease were the leading causes of death in 2022. Together, they accounted for 65,967 deaths, representing 11.4% of the total mortality rate, up from 61,250 (10.4%) in 2021.\n",
        "\n",
        "Currently, approximately 7 million Americans are living with Alzheimer's, with projections indicating that this number will nearly double to nearly 13 million by 2050, according to the Alzheimer's Association. Moreover, the global cost of dementia has surged by 62% between 2010 and 2019.\n",
        "\n",
        "Alzheimer's Research UK estimated the cost of dementia in the UK for the year 2021 to be £256 billion. Globally, the cost of dementia was estimated to be $1.3 trillion USD in 2018, as highlighted in the World Alzheimer Report 2018.\n",
        "\n",
        "Treatment approaches can help stabilise or improve a person's symptoms, such as thinking and memory problems, for a certain period, aiding them in maintaining their ability to perform daily activities."
      ],
      "metadata": {
        "id": "HK_wrp3QcZYZ"
      }
    },
    {
      "cell_type": "markdown",
      "metadata": {
        "id": "6bNtBiu80bBA"
      },
      "source": [
        "# The data"
      ]
    },
    {
      "cell_type": "markdown",
      "metadata": {
        "id": "VW9RMOVX0dtR"
      },
      "source": [
        "Alzheimer_MRI Disease Classification Dataset\n",
        "The Falah/Alzheimer_MRI Disease Classification dataset is a valuable resource for researchers and health medicine applications. This dataset focuses on the classification of Alzheimer's disease based on MRI scans. The dataset consists of brain MRI images labeled into four categories:\n",
        "\n",
        "\n",
        "\n",
        "*  '0': Mild_Demented\n",
        "*  '1': Moderate_Demented\n",
        "*  '2': Non_Demented\n",
        "*  '3': Very_Mild_Demented\n",
        "\n",
        "\n",
        "**Dataset Information**  \n",
        "\n",
        "Train split:\n",
        "\n",
        "* Name: train\n",
        "* Number of bytes: 22,560,791.2\n",
        "* Number of examples: 5,120\n",
        "\n",
        "Test split:\n",
        "* Name: test\n",
        "* Number of bytes: 5,637,447.08\n",
        "* Number of examples: 1,280"
      ]
    },
    {
      "cell_type": "markdown",
      "metadata": {
        "id": "CeA4LAlAkjQB"
      },
      "source": [
        "# Load data\n"
      ]
    },
    {
      "cell_type": "markdown",
      "metadata": {
        "id": "_7ywCoC9rrAY"
      },
      "source": [
        "The data was loaded directly from the source: [huggingface](https://huggingface.co/docs/datasets/en/loading)\n"
      ]
    },
    {
      "cell_type": "code",
      "execution_count": null,
      "metadata": {
        "id": "Kt5hH4szauoK",
        "colab": {
          "base_uri": "https://localhost:8080/"
        },
        "outputId": "21804c0b-f9e4-4f33-93ec-e0d26dc2626e"
      },
      "outputs": [
        {
          "output_type": "stream",
          "name": "stdout",
          "text": [
            "Collecting datasets\n",
            "  Downloading datasets-2.18.0-py3-none-any.whl (510 kB)\n",
            "\u001b[?25l     \u001b[90m━━━━━━━━━━━━━━━━━━━━━━━━━━━━━━━━━━━━━━━━\u001b[0m \u001b[32m0.0/510.5 kB\u001b[0m \u001b[31m?\u001b[0m eta \u001b[36m-:--:--\u001b[0m\r\u001b[2K     \u001b[91m━━━━━━━━━━━━━━━━━━━━━━━━━━━━\u001b[0m\u001b[91m╸\u001b[0m\u001b[90m━━━━━━━━━━━\u001b[0m \u001b[32m368.6/510.5 kB\u001b[0m \u001b[31m11.1 MB/s\u001b[0m eta \u001b[36m0:00:01\u001b[0m\r\u001b[2K     \u001b[90m━━━━━━━━━━━━━━━━━━━━━━━━━━━━━━━━━━━━━━━━\u001b[0m \u001b[32m510.5/510.5 kB\u001b[0m \u001b[31m10.6 MB/s\u001b[0m eta \u001b[36m0:00:00\u001b[0m\n",
            "\u001b[?25hRequirement already satisfied: filelock in /usr/local/lib/python3.10/dist-packages (from datasets) (3.13.3)\n",
            "Requirement already satisfied: numpy>=1.17 in /usr/local/lib/python3.10/dist-packages (from datasets) (1.25.2)\n",
            "Requirement already satisfied: pyarrow>=12.0.0 in /usr/local/lib/python3.10/dist-packages (from datasets) (14.0.2)\n",
            "Requirement already satisfied: pyarrow-hotfix in /usr/local/lib/python3.10/dist-packages (from datasets) (0.6)\n",
            "Collecting dill<0.3.9,>=0.3.0 (from datasets)\n",
            "  Downloading dill-0.3.8-py3-none-any.whl (116 kB)\n",
            "\u001b[2K     \u001b[90m━━━━━━━━━━━━━━━━━━━━━━━━━━━━━━━━━━━━━━━━\u001b[0m \u001b[32m116.3/116.3 kB\u001b[0m \u001b[31m14.2 MB/s\u001b[0m eta \u001b[36m0:00:00\u001b[0m\n",
            "\u001b[?25hRequirement already satisfied: pandas in /usr/local/lib/python3.10/dist-packages (from datasets) (2.0.3)\n",
            "Requirement already satisfied: requests>=2.19.0 in /usr/local/lib/python3.10/dist-packages (from datasets) (2.31.0)\n",
            "Requirement already satisfied: tqdm>=4.62.1 in /usr/local/lib/python3.10/dist-packages (from datasets) (4.66.2)\n",
            "Collecting xxhash (from datasets)\n",
            "  Downloading xxhash-3.4.1-cp310-cp310-manylinux_2_17_x86_64.manylinux2014_x86_64.whl (194 kB)\n",
            "\u001b[2K     \u001b[90m━━━━━━━━━━━━━━━━━━━━━━━━━━━━━━━━━━━━━━━━\u001b[0m \u001b[32m194.1/194.1 kB\u001b[0m \u001b[31m12.1 MB/s\u001b[0m eta \u001b[36m0:00:00\u001b[0m\n",
            "\u001b[?25hCollecting multiprocess (from datasets)\n",
            "  Downloading multiprocess-0.70.16-py310-none-any.whl (134 kB)\n",
            "\u001b[2K     \u001b[90m━━━━━━━━━━━━━━━━━━━━━━━━━━━━━━━━━━━━━━━━\u001b[0m \u001b[32m134.8/134.8 kB\u001b[0m \u001b[31m17.1 MB/s\u001b[0m eta \u001b[36m0:00:00\u001b[0m\n",
            "\u001b[?25hRequirement already satisfied: fsspec[http]<=2024.2.0,>=2023.1.0 in /usr/local/lib/python3.10/dist-packages (from datasets) (2023.6.0)\n",
            "Requirement already satisfied: aiohttp in /usr/local/lib/python3.10/dist-packages (from datasets) (3.9.3)\n",
            "Requirement already satisfied: huggingface-hub>=0.19.4 in /usr/local/lib/python3.10/dist-packages (from datasets) (0.20.3)\n",
            "Requirement already satisfied: packaging in /usr/local/lib/python3.10/dist-packages (from datasets) (24.0)\n",
            "Requirement already satisfied: pyyaml>=5.1 in /usr/local/lib/python3.10/dist-packages (from datasets) (6.0.1)\n",
            "Requirement already satisfied: aiosignal>=1.1.2 in /usr/local/lib/python3.10/dist-packages (from aiohttp->datasets) (1.3.1)\n",
            "Requirement already satisfied: attrs>=17.3.0 in /usr/local/lib/python3.10/dist-packages (from aiohttp->datasets) (23.2.0)\n",
            "Requirement already satisfied: frozenlist>=1.1.1 in /usr/local/lib/python3.10/dist-packages (from aiohttp->datasets) (1.4.1)\n",
            "Requirement already satisfied: multidict<7.0,>=4.5 in /usr/local/lib/python3.10/dist-packages (from aiohttp->datasets) (6.0.5)\n",
            "Requirement already satisfied: yarl<2.0,>=1.0 in /usr/local/lib/python3.10/dist-packages (from aiohttp->datasets) (1.9.4)\n",
            "Requirement already satisfied: async-timeout<5.0,>=4.0 in /usr/local/lib/python3.10/dist-packages (from aiohttp->datasets) (4.0.3)\n",
            "Requirement already satisfied: typing-extensions>=3.7.4.3 in /usr/local/lib/python3.10/dist-packages (from huggingface-hub>=0.19.4->datasets) (4.10.0)\n",
            "Requirement already satisfied: charset-normalizer<4,>=2 in /usr/local/lib/python3.10/dist-packages (from requests>=2.19.0->datasets) (3.3.2)\n",
            "Requirement already satisfied: idna<4,>=2.5 in /usr/local/lib/python3.10/dist-packages (from requests>=2.19.0->datasets) (3.6)\n",
            "Requirement already satisfied: urllib3<3,>=1.21.1 in /usr/local/lib/python3.10/dist-packages (from requests>=2.19.0->datasets) (2.0.7)\n",
            "Requirement already satisfied: certifi>=2017.4.17 in /usr/local/lib/python3.10/dist-packages (from requests>=2.19.0->datasets) (2024.2.2)\n",
            "Requirement already satisfied: python-dateutil>=2.8.2 in /usr/local/lib/python3.10/dist-packages (from pandas->datasets) (2.8.2)\n",
            "Requirement already satisfied: pytz>=2020.1 in /usr/local/lib/python3.10/dist-packages (from pandas->datasets) (2023.4)\n",
            "Requirement already satisfied: tzdata>=2022.1 in /usr/local/lib/python3.10/dist-packages (from pandas->datasets) (2024.1)\n",
            "Requirement already satisfied: six>=1.5 in /usr/local/lib/python3.10/dist-packages (from python-dateutil>=2.8.2->pandas->datasets) (1.16.0)\n",
            "Installing collected packages: xxhash, dill, multiprocess, datasets\n",
            "Successfully installed datasets-2.18.0 dill-0.3.8 multiprocess-0.70.16 xxhash-3.4.1\n"
          ]
        }
      ],
      "source": [
        "# Install the datasets library\n",
        "!pip install datasets"
      ]
    },
    {
      "cell_type": "code",
      "execution_count": null,
      "metadata": {
        "id": "j0sNjZC7aqJs"
      },
      "outputs": [],
      "source": [
        "# Import from dataset the function that will load the data\n",
        "from datasets import load_dataset"
      ]
    },
    {
      "cell_type": "code",
      "execution_count": null,
      "metadata": {
        "id": "tOTPCUYFRAtU"
      },
      "outputs": [],
      "source": [
        "# import Numpy for array manipulation\n",
        "import numpy as np\n",
        "import matplotlib.pyplot as plt"
      ]
    },
    {
      "cell_type": "code",
      "execution_count": null,
      "metadata": {
        "id": "hwAjLYAPPPuj",
        "colab": {
          "base_uri": "https://localhost:8080/",
          "height": 304,
          "referenced_widgets": [
            "8174afa174194ff79e459eec3b283205",
            "923ba952b03343719bd7a7daa27ae658",
            "d14c8f7680e14e45994ec9f267967526",
            "f633f503d409458dbae54a7c9f16e02f",
            "a56723881f8444adb2720e81f447701f",
            "2ee2c45910bb4953abfac845b1cf218b",
            "a741796c66514a7d878b5631f209521e",
            "916c4d64e9604cbb901ebe3ae82903eb",
            "c3d5339b607949189410eff3f5d09c86",
            "4ac79b6339e6433199b304dda808c52e",
            "aad5d00391a54f1995d664bddc192d15",
            "a4d7ee3471674c3998adcd26eb7f8957",
            "26b4cb6961e541e49c5a06c2de95340a",
            "c21853d4667b40d7b3abc27011cae13c",
            "ebd0f2dac7794d40ba9984c8d0fdacf3",
            "23b9c87e97b74bc99457416d6b09f7a2",
            "c975980db123436698c4321de26bc800",
            "737e9889d74a4e21bbca83e1c7c6555a",
            "b078745f123a446a81946131ea09bbb6",
            "0c2762397db44ccd8857d9cfd0e80cd1",
            "12f22ac158ed449f8d31808193c96079",
            "bfc0dbc3894e438cb43530156b78f6be",
            "52a52ed5e1764f5c8b3476a55f51a93d",
            "fcb4486729644cab869f77a2b04ba875",
            "68248637f94a4f9c959b14f244a7ae82",
            "0fec1f168c7e47aba56c30f0f69682ff",
            "e95d2dd8b52c4b2a98bc981e44187ca3",
            "27ac8e3ed0204d5e8f67b0765cb11ba7",
            "06544c24ddb84e559f0e169a41e44612",
            "9b697eeb952c410c9446e93337823144",
            "9c1b98f1a66f46788d57d8d5f833a1a9",
            "310609dac02c40d09148cf6b6b0bbec0",
            "12abdb634d83475483db2929177746fe",
            "ad5ad6bc9f834144977b6f1a2e6395eb",
            "498be9c5a7cf4acc98805ee86dfc4a6b",
            "62ca7ac9d6de475c964017aec7d12013",
            "93c1fdd9de044d83970c4ce6a6f48a2e",
            "965cefb612b54e8387bdfcace0a0d2ef",
            "e304d243c9c24a75a1e863b1c406916b",
            "615110d6e08a44e6baedf4a5c052cd63",
            "d7d5d9820c8f40b89d97cba73b1a48ab",
            "7b40bf8c527e43349a26e03c706a29b2",
            "47aeae4613314a8790ebc8bdf6a45efb",
            "ecb23bf5d1a848e39795ae9a436eba63",
            "b65ba243bbfa4049ab31864ac1149ae8",
            "733340cb17ed44c99c8581a43043d265",
            "d71890ca6eee459995eec6d6c9c6176b",
            "33a3c1801abd4ea9954b109d07573dbc",
            "f4f063b718a64a068986169eff0b10b6",
            "65388ed6449340b6916a035c07ed419c",
            "478987edee84461d87189a0c8039ca25",
            "1904f9859267427d874114656f5097e7",
            "3d928e50a9874085bcc40fb431a2598a",
            "4199ca37869a436cb27ed8063e820228",
            "751ae12459d14b5782061506122052f6"
          ]
        },
        "outputId": "0b8f8316-17ee-4bb5-8a00-a6fc082d926a"
      },
      "outputs": [
        {
          "output_type": "stream",
          "name": "stderr",
          "text": [
            "/usr/local/lib/python3.10/dist-packages/huggingface_hub/utils/_token.py:88: UserWarning: \n",
            "The secret `HF_TOKEN` does not exist in your Colab secrets.\n",
            "To authenticate with the Hugging Face Hub, create a token in your settings tab (https://huggingface.co/settings/tokens), set it as secret in your Google Colab and restart your session.\n",
            "You will be able to reuse this secret in all of your notebooks.\n",
            "Please note that authentication is recommended but still optional to access public models or datasets.\n",
            "  warnings.warn(\n"
          ]
        },
        {
          "output_type": "display_data",
          "data": {
            "text/plain": [
              "Downloading readme:   0%|          | 0.00/2.13k [00:00<?, ?B/s]"
            ],
            "application/vnd.jupyter.widget-view+json": {
              "version_major": 2,
              "version_minor": 0,
              "model_id": "8174afa174194ff79e459eec3b283205"
            }
          },
          "metadata": {}
        },
        {
          "output_type": "display_data",
          "data": {
            "text/plain": [
              "Downloading data:   0%|          | 0.00/22.6M [00:00<?, ?B/s]"
            ],
            "application/vnd.jupyter.widget-view+json": {
              "version_major": 2,
              "version_minor": 0,
              "model_id": "a4d7ee3471674c3998adcd26eb7f8957"
            }
          },
          "metadata": {}
        },
        {
          "output_type": "display_data",
          "data": {
            "text/plain": [
              "Downloading data:   0%|          | 0.00/5.65M [00:00<?, ?B/s]"
            ],
            "application/vnd.jupyter.widget-view+json": {
              "version_major": 2,
              "version_minor": 0,
              "model_id": "52a52ed5e1764f5c8b3476a55f51a93d"
            }
          },
          "metadata": {}
        },
        {
          "output_type": "display_data",
          "data": {
            "text/plain": [
              "Generating train split:   0%|          | 0/5120 [00:00<?, ? examples/s]"
            ],
            "application/vnd.jupyter.widget-view+json": {
              "version_major": 2,
              "version_minor": 0,
              "model_id": "ad5ad6bc9f834144977b6f1a2e6395eb"
            }
          },
          "metadata": {}
        },
        {
          "output_type": "display_data",
          "data": {
            "text/plain": [
              "Generating test split:   0%|          | 0/1280 [00:00<?, ? examples/s]"
            ],
            "application/vnd.jupyter.widget-view+json": {
              "version_major": 2,
              "version_minor": 0,
              "model_id": "b65ba243bbfa4049ab31864ac1149ae8"
            }
          },
          "metadata": {}
        }
      ],
      "source": [
        "# Load the Falah/Alzheimer_MRI train dataset\n",
        "train = load_dataset('Falah/Alzheimer_MRI', split='train')"
      ]
    },
    {
      "cell_type": "code",
      "execution_count": null,
      "metadata": {
        "id": "qL15ky6FPSFz"
      },
      "outputs": [],
      "source": [
        "# Load the Falah/Alzheimer_MRI test dataset\n",
        "test = load_dataset('Falah/Alzheimer_MRI', split='test')"
      ]
    },
    {
      "cell_type": "code",
      "execution_count": null,
      "metadata": {
        "id": "ayQ1NI8SUoRm"
      },
      "outputs": [],
      "source": [
        "# Convert the train dataset into an a numpy array\n",
        "train_data = np.array(train['image'])\n",
        "train_labels = np.array(train['label'])\n",
        "\n",
        "# Convert the test dataset into an a numpy array\n",
        "test_data = np.array(test['image'])\n",
        "test_labels = np.array(test['label'])\n",
        "\n",
        "# Store the dimentions of the images\n",
        "img_height = train_data.shape[1]\n",
        "img_width = train_data.shape[2]"
      ]
    },
    {
      "cell_type": "code",
      "execution_count": null,
      "metadata": {
        "colab": {
          "base_uri": "https://localhost:8080/"
        },
        "id": "ov_blDYGaRZd",
        "outputId": "4cf97858-f8db-449b-9dfd-e403ebe5d2b4"
      },
      "outputs": [
        {
          "output_type": "execute_result",
          "data": {
            "text/plain": [
              "(5120, 128, 128)"
            ]
          },
          "metadata": {},
          "execution_count": 7
        }
      ],
      "source": [
        "train_data.shape"
      ]
    },
    {
      "cell_type": "code",
      "execution_count": null,
      "metadata": {
        "colab": {
          "base_uri": "https://localhost:8080/"
        },
        "id": "kid8tqxn-l5O",
        "outputId": "4a5fa13a-79af-4d83-8a0e-43d7ac4233d5"
      },
      "outputs": [
        {
          "output_type": "stream",
          "name": "stdout",
          "text": [
            "Train: X=(5120, 128, 128), y=(5120,)\n",
            "Test: X=(1280, 128, 128), y=(1280,)\n"
          ]
        }
      ],
      "source": [
        "# Print the dimentions of the training and testing datasets\n",
        "print('Train: X=%s, y=%s' % (train_data.shape, train_labels.shape))\n",
        "print('Test: X=%s, y=%s' % (test_data.shape, test_labels.shape))"
      ]
    },
    {
      "cell_type": "code",
      "execution_count": null,
      "metadata": {
        "colab": {
          "base_uri": "https://localhost:8080/"
        },
        "id": "y6l7Pw1l6Q-A",
        "outputId": "13f95861-25a1-4ed1-aebe-00ec3a736cc4"
      },
      "outputs": [
        {
          "output_type": "execute_result",
          "data": {
            "text/plain": [
              "{0: 724, 1: 49, 2: 2566, 3: 1781}"
            ]
          },
          "metadata": {},
          "execution_count": 9
        }
      ],
      "source": [
        "# Print number of images per category in the training set\n",
        "{x:train['label'].count(x) for x in set(train['label'])}"
      ]
    },
    {
      "cell_type": "code",
      "execution_count": null,
      "metadata": {
        "colab": {
          "base_uri": "https://localhost:8080/"
        },
        "id": "705XG6-iU2-s",
        "outputId": "4bfdeb4b-10e8-4df3-b7c5-3a05793f76c0"
      },
      "outputs": [
        {
          "output_type": "execute_result",
          "data": {
            "text/plain": [
              "{0: 172, 1: 15, 2: 634, 3: 459}"
            ]
          },
          "metadata": {},
          "execution_count": 10
        }
      ],
      "source": [
        "# Print number of images per category in the testing set\n",
        "{x:test['label'].count(x) for x in set(test['label'])}"
      ]
    },
    {
      "cell_type": "markdown",
      "source": [
        "As we can see the data is unbalanced; however, shuffling ensures that our predictions are not affected and prevents the occurrence of mini-batches containing only one class. Although theoretically, more balanced data is preferable, in reality, especially in the context of healthcare, data often appears unbalanced. This is because the majority of individuals do not exhibit a disease or pathology, resulting in a predominance of healthy subjects in the dataset.\n",
        "\n",
        "To address this imbalance, it is crucial to consider various metrics beyond mere accuracy. Metrics such as recall and the F1-score become particularly important. In the final session of this work, we tackled the issue by combining certain classes to achieve a balanced training and testing dataset."
      ],
      "metadata": {
        "id": "70bYce-XkNRI"
      }
    },
    {
      "cell_type": "code",
      "execution_count": null,
      "metadata": {
        "colab": {
          "base_uri": "https://localhost:8080/"
        },
        "id": "jJkKQfmQAzSZ",
        "outputId": "fb2ff756-5087-4537-d986-d73da4a1bed2"
      },
      "outputs": [
        {
          "output_type": "stream",
          "name": "stdout",
          "text": [
            "[[0 0 0 ... 0 0 0]\n",
            " [0 0 0 ... 0 0 0]\n",
            " [0 0 0 ... 0 0 0]\n",
            " ...\n",
            " [0 0 0 ... 0 0 0]\n",
            " [0 0 0 ... 0 0 0]\n",
            " [0 0 0 ... 0 0 0]]\n"
          ]
        }
      ],
      "source": [
        "# print the first image to see the format\n",
        "print(train_data[0])"
      ]
    },
    {
      "cell_type": "code",
      "execution_count": null,
      "metadata": {
        "colab": {
          "base_uri": "https://localhost:8080/",
          "height": 179
        },
        "id": "ZNxk2_vJ8n-1",
        "outputId": "74a6b153-87bf-43ef-8bfb-c7d4dc2bad54"
      },
      "outputs": [
        {
          "output_type": "execute_result",
          "data": {
            "text/plain": [
              "[]"
            ]
          },
          "metadata": {},
          "execution_count": 12
        },
        {
          "output_type": "display_data",
          "data": {
            "text/plain": [
              "<Figure size 640x480 with 4 Axes>"
            ],
            "image/png": "[encoded data removed]"
          },
          "metadata": {}
        }
      ],
      "source": [
        "# plot one figure of each category in the same fig object\n",
        "fig, ax = plt.subplots(1,4)\n",
        "ax[0].imshow(train_data[train_labels == 0][0], cmap='gray')\n",
        "ax[0].set_xlabel('0: Mild_Demented',fontsize=8)\n",
        "# Hide X and Y axes tick marks\n",
        "ax[0].set_xticks([])\n",
        "ax[0].set_yticks([])\n",
        "\n",
        "ax[1].imshow(train_data[train_labels == 1][0], cmap=\"gray\")\n",
        "ax[1].set_xlabel('1: Moderate_Demented',fontsize=8)\n",
        "# Hide X and Y axes tick marks\n",
        "ax[1].set_xticks([])\n",
        "ax[1].set_yticks([])\n",
        "\n",
        "ax[2].imshow(train_data[train_labels == 2][0], cmap=\"gray\")\n",
        "ax[2].set_xlabel('2: Non_Demented', fontsize=8)\n",
        "# Hide X and Y axes tick marks\n",
        "ax[2].set_xticks([])\n",
        "ax[2].set_yticks([])\n",
        "\n",
        "ax[3].imshow(train_data[train_labels == 3][0], cmap=\"gray\")\n",
        "ax[3].set_xlabel('3: Very_Mild_Demented',fontsize=8)\n",
        "# Hide X and Y axes tick marks\n",
        "ax[3].set_xticks([])\n",
        "ax[3].set_yticks([])"
      ]
    },
    {
      "cell_type": "code",
      "execution_count": null,
      "metadata": {
        "colab": {
          "base_uri": "https://localhost:8080/"
        },
        "id": "KAOPksM2ZPrQ",
        "outputId": "fec4fdf4-260c-45ad-e133-a3bcca7e6612"
      },
      "outputs": [
        {
          "output_type": "stream",
          "name": "stdout",
          "text": [
            "Requirement already satisfied: tensorflow in /usr/local/lib/python3.10/dist-packages (2.15.0)\n",
            "Requirement already satisfied: absl-py>=1.0.0 in /usr/local/lib/python3.10/dist-packages (from tensorflow) (1.4.0)\n",
            "Requirement already satisfied: astunparse>=1.6.0 in /usr/local/lib/python3.10/dist-packages (from tensorflow) (1.6.3)\n",
            "Requirement already satisfied: flatbuffers>=23.5.26 in /usr/local/lib/python3.10/dist-packages (from tensorflow) (24.3.25)\n",
            "Requirement already satisfied: gast!=0.5.0,!=0.5.1,!=0.5.2,>=0.2.1 in /usr/local/lib/python3.10/dist-packages (from tensorflow) (0.5.4)\n",
            "Requirement already satisfied: google-pasta>=0.1.1 in /usr/local/lib/python3.10/dist-packages (from tensorflow) (0.2.0)\n",
            "Requirement already satisfied: h5py>=2.9.0 in /usr/local/lib/python3.10/dist-packages (from tensorflow) (3.9.0)\n",
            "Requirement already satisfied: libclang>=13.0.0 in /usr/local/lib/python3.10/dist-packages (from tensorflow) (18.1.1)\n",
            "Requirement already satisfied: ml-dtypes~=0.2.0 in /usr/local/lib/python3.10/dist-packages (from tensorflow) (0.2.0)\n",
            "Requirement already satisfied: numpy<2.0.0,>=1.23.5 in /usr/local/lib/python3.10/dist-packages (from tensorflow) (1.25.2)\n",
            "Requirement already satisfied: opt-einsum>=2.3.2 in /usr/local/lib/python3.10/dist-packages (from tensorflow) (3.3.0)\n",
            "Requirement already satisfied: packaging in /usr/local/lib/python3.10/dist-packages (from tensorflow) (24.0)\n",
            "Requirement already satisfied: protobuf!=4.21.0,!=4.21.1,!=4.21.2,!=4.21.3,!=4.21.4,!=4.21.5,<5.0.0dev,>=3.20.3 in /usr/local/lib/python3.10/dist-packages (from tensorflow) (3.20.3)\n",
            "Requirement already satisfied: setuptools in /usr/local/lib/python3.10/dist-packages (from tensorflow) (67.7.2)\n",
            "Requirement already satisfied: six>=1.12.0 in /usr/local/lib/python3.10/dist-packages (from tensorflow) (1.16.0)\n",
            "Requirement already satisfied: termcolor>=1.1.0 in /usr/local/lib/python3.10/dist-packages (from tensorflow) (2.4.0)\n",
            "Requirement already satisfied: typing-extensions>=3.6.6 in /usr/local/lib/python3.10/dist-packages (from tensorflow) (4.10.0)\n",
            "Requirement already satisfied: wrapt<1.15,>=1.11.0 in /usr/local/lib/python3.10/dist-packages (from tensorflow) (1.14.1)\n",
            "Requirement already satisfied: tensorflow-io-gcs-filesystem>=0.23.1 in /usr/local/lib/python3.10/dist-packages (from tensorflow) (0.36.0)\n",
            "Requirement already satisfied: grpcio<2.0,>=1.24.3 in /usr/local/lib/python3.10/dist-packages (from tensorflow) (1.62.1)\n",
            "Requirement already satisfied: tensorboard<2.16,>=2.15 in /usr/local/lib/python3.10/dist-packages (from tensorflow) (2.15.2)\n",
            "Requirement already satisfied: tensorflow-estimator<2.16,>=2.15.0 in /usr/local/lib/python3.10/dist-packages (from tensorflow) (2.15.0)\n",
            "Requirement already satisfied: keras<2.16,>=2.15.0 in /usr/local/lib/python3.10/dist-packages (from tensorflow) (2.15.0)\n",
            "Requirement already satisfied: wheel<1.0,>=0.23.0 in /usr/local/lib/python3.10/dist-packages (from astunparse>=1.6.0->tensorflow) (0.43.0)\n",
            "Requirement already satisfied: google-auth<3,>=1.6.3 in /usr/local/lib/python3.10/dist-packages (from tensorboard<2.16,>=2.15->tensorflow) (2.27.0)\n",
            "Requirement already satisfied: google-auth-oauthlib<2,>=0.5 in /usr/local/lib/python3.10/dist-packages (from tensorboard<2.16,>=2.15->tensorflow) (1.2.0)\n",
            "Requirement already satisfied: markdown>=2.6.8 in /usr/local/lib/python3.10/dist-packages (from tensorboard<2.16,>=2.15->tensorflow) (3.6)\n",
            "Requirement already satisfied: requests<3,>=2.21.0 in /usr/local/lib/python3.10/dist-packages (from tensorboard<2.16,>=2.15->tensorflow) (2.31.0)\n",
            "Requirement already satisfied: tensorboard-data-server<0.8.0,>=0.7.0 in /usr/local/lib/python3.10/dist-packages (from tensorboard<2.16,>=2.15->tensorflow) (0.7.2)\n",
            "Requirement already satisfied: werkzeug>=1.0.1 in /usr/local/lib/python3.10/dist-packages (from tensorboard<2.16,>=2.15->tensorflow) (3.0.2)\n",
            "Requirement already satisfied: cachetools<6.0,>=2.0.0 in /usr/local/lib/python3.10/dist-packages (from google-auth<3,>=1.6.3->tensorboard<2.16,>=2.15->tensorflow) (5.3.3)\n",
            "Requirement already satisfied: pyasn1-modules>=0.2.1 in /usr/local/lib/python3.10/dist-packages (from google-auth<3,>=1.6.3->tensorboard<2.16,>=2.15->tensorflow) (0.4.0)\n",
            "Requirement already satisfied: rsa<5,>=3.1.4 in /usr/local/lib/python3.10/dist-packages (from google-auth<3,>=1.6.3->tensorboard<2.16,>=2.15->tensorflow) (4.9)\n",
            "Requirement already satisfied: requests-oauthlib>=0.7.0 in /usr/local/lib/python3.10/dist-packages (from google-auth-oauthlib<2,>=0.5->tensorboard<2.16,>=2.15->tensorflow) (1.3.1)\n",
            "Requirement already satisfied: charset-normalizer<4,>=2 in /usr/local/lib/python3.10/dist-packages (from requests<3,>=2.21.0->tensorboard<2.16,>=2.15->tensorflow) (3.3.2)\n",
            "Requirement already satisfied: idna<4,>=2.5 in /usr/local/lib/python3.10/dist-packages (from requests<3,>=2.21.0->tensorboard<2.16,>=2.15->tensorflow) (3.6)\n",
            "Requirement already satisfied: urllib3<3,>=1.21.1 in /usr/local/lib/python3.10/dist-packages (from requests<3,>=2.21.0->tensorboard<2.16,>=2.15->tensorflow) (2.0.7)\n",
            "Requirement already satisfied: certifi>=2017.4.17 in /usr/local/lib/python3.10/dist-packages (from requests<3,>=2.21.0->tensorboard<2.16,>=2.15->tensorflow) (2024.2.2)\n",
            "Requirement already satisfied: MarkupSafe>=2.1.1 in /usr/local/lib/python3.10/dist-packages (from werkzeug>=1.0.1->tensorboard<2.16,>=2.15->tensorflow) (2.1.5)\n",
            "Requirement already satisfied: pyasn1<0.7.0,>=0.4.6 in /usr/local/lib/python3.10/dist-packages (from pyasn1-modules>=0.2.1->google-auth<3,>=1.6.3->tensorboard<2.16,>=2.15->tensorflow) (0.6.0)\n",
            "Requirement already satisfied: oauthlib>=3.0.0 in /usr/local/lib/python3.10/dist-packages (from requests-oauthlib>=0.7.0->google-auth-oauthlib<2,>=0.5->tensorboard<2.16,>=2.15->tensorflow) (3.2.2)\n",
            "Requirement already satisfied: keras in /usr/local/lib/python3.10/dist-packages (2.15.0)\n"
          ]
        }
      ],
      "source": [
        "# install tensoflow and keras, only if it is not yet installed\n",
        "!pip install tensorflow\n",
        "!pip install keras"
      ]
    },
    {
      "cell_type": "markdown",
      "metadata": {
        "id": "bI0CJ478NhNX"
      },
      "source": [
        "# Preprocessing"
      ]
    },
    {
      "cell_type": "markdown",
      "source": [
        "We need to reshape the data and define one channel as the images are black and white."
      ],
      "metadata": {
        "id": "g72SDFummCSb"
      }
    },
    {
      "cell_type": "code",
      "execution_count": null,
      "metadata": {
        "id": "W877vAqCNxe3"
      },
      "outputs": [],
      "source": [
        "# reshape dataset to have a single channel\n",
        "train_data = train_data.reshape(train_data.shape[0], 128, 128,1)\n",
        "test_data = test_data.reshape(test_data.shape[0], 128, 128,1)"
      ]
    },
    {
      "cell_type": "code",
      "execution_count": null,
      "metadata": {
        "colab": {
          "base_uri": "https://localhost:8080/"
        },
        "id": "gelvTc8qNf3q",
        "outputId": "0c8544ec-4886-47a4-ed9d-09f2b8c8289d"
      },
      "outputs": [
        {
          "output_type": "stream",
          "name": "stdout",
          "text": [
            "the minimum value is: 0\n",
            "the maximum value is: 255\n"
          ]
        }
      ],
      "source": [
        "# print the maximun value and the minimum to se the range of the data\n",
        "print(f'the minimum value is: {train_data.min()}')\n",
        "print(f'the maximum value is: {train_data.max()}')"
      ]
    },
    {
      "cell_type": "markdown",
      "source": [
        "(scaling) Since the values are from 0 to 255 we divide  every value /255 so that we have only data between 0 and 1."
      ],
      "metadata": {
        "id": "egFWeyOemWCW"
      }
    },
    {
      "cell_type": "code",
      "execution_count": null,
      "metadata": {
        "id": "WWG-QAnMP1fJ"
      },
      "outputs": [],
      "source": [
        "#Normalise pixel values\n",
        "train_data = train_data / 255.0\n",
        "test_data = test_data / 255.0"
      ]
    },
    {
      "cell_type": "code",
      "execution_count": null,
      "metadata": {
        "colab": {
          "base_uri": "https://localhost:8080/"
        },
        "id": "VWe_2243Qc3c",
        "outputId": "392d0c3d-ca05-4be8-d1b8-4868c0310a20"
      },
      "outputs": [
        {
          "output_type": "stream",
          "name": "stdout",
          "text": [
            "First 9 Train Y values before conversion:\n",
            "[2 0 3 3 2 2 2 2 3]\n",
            "First 9 Train Y values after conversion:\n",
            "[[0. 0. 1. 0.]\n",
            " [1. 0. 0. 0.]\n",
            " [0. 0. 0. 1.]\n",
            " [0. 0. 0. 1.]\n",
            " [0. 0. 1. 0.]\n",
            " [0. 0. 1. 0.]\n",
            " [0. 0. 1. 0.]\n",
            " [0. 0. 1. 0.]\n",
            " [0. 0. 0. 1.]]\n"
          ]
        }
      ],
      "source": [
        "#readjusting the labels\n",
        "from tensorflow.keras.utils import to_categorical\n",
        "\n",
        "print(\"First 10 Train Y values before conversion:\")\n",
        "print(train_labels[:10])\n",
        "\n",
        "# Convert labels to a category (vector)\n",
        "train_labels = to_categorical(train_labels)\n",
        "test_labels = to_categorical(test_labels)\n",
        "#print to see if the format is correct\n",
        "print(\"First 10 Train Y values after conversion:\")\n",
        "print(train_labels[:10])"
      ]
    },
    {
      "cell_type": "markdown",
      "metadata": {
        "id": "h21kDTXgRrSg"
      },
      "source": [
        "# Model0"
      ]
    },
    {
      "cell_type": "code",
      "source": [
        "# Install scikeras and keras-tuner for the hyperparameters tuning (this should be run once)\n",
        "!pip install scikeras\n",
        "!pip install keras-tuner --upgrade"
      ],
      "metadata": {
        "colab": {
          "base_uri": "https://localhost:8080/"
        },
        "id": "uLlJFZkrAAN7",
        "outputId": "9b7998db-45fc-42b2-93dd-5e754911540c"
      },
      "execution_count": null,
      "outputs": [
        {
          "output_type": "stream",
          "name": "stdout",
          "text": [
            "Collecting scikeras\n",
            "  Downloading scikeras-0.12.0-py3-none-any.whl (27 kB)\n",
            "Requirement already satisfied: packaging>=0.21 in /usr/local/lib/python3.10/dist-packages (from scikeras) (24.0)\n",
            "Requirement already satisfied: scikit-learn>=1.0.0 in /usr/local/lib/python3.10/dist-packages (from scikeras) (1.2.2)\n",
            "Requirement already satisfied: numpy>=1.17.3 in /usr/local/lib/python3.10/dist-packages (from scikit-learn>=1.0.0->scikeras) (1.25.2)\n",
            "Requirement already satisfied: scipy>=1.3.2 in /usr/local/lib/python3.10/dist-packages (from scikit-learn>=1.0.0->scikeras) (1.11.4)\n",
            "Requirement already satisfied: joblib>=1.1.1 in /usr/local/lib/python3.10/dist-packages (from scikit-learn>=1.0.0->scikeras) (1.3.2)\n",
            "Requirement already satisfied: threadpoolctl>=2.0.0 in /usr/local/lib/python3.10/dist-packages (from scikit-learn>=1.0.0->scikeras) (3.4.0)\n",
            "Installing collected packages: scikeras\n",
            "Successfully installed scikeras-0.12.0\n",
            "Collecting keras-tuner\n",
            "  Downloading keras_tuner-1.4.7-py3-none-any.whl (129 kB)\n",
            "\u001b[2K     \u001b[90m━━━━━━━━━━━━━━━━━━━━━━━━━━━━━━━━━━━━━━━━\u001b[0m \u001b[32m129.1/129.1 kB\u001b[0m \u001b[31m4.3 MB/s\u001b[0m eta \u001b[36m0:00:00\u001b[0m\n",
            "\u001b[?25hRequirement already satisfied: keras in /usr/local/lib/python3.10/dist-packages (from keras-tuner) (2.15.0)\n",
            "Requirement already satisfied: packaging in /usr/local/lib/python3.10/dist-packages (from keras-tuner) (24.0)\n",
            "Requirement already satisfied: requests in /usr/local/lib/python3.10/dist-packages (from keras-tuner) (2.31.0)\n",
            "Collecting kt-legacy (from keras-tuner)\n",
            "  Downloading kt_legacy-1.0.5-py3-none-any.whl (9.6 kB)\n",
            "Requirement already satisfied: charset-normalizer<4,>=2 in /usr/local/lib/python3.10/dist-packages (from requests->keras-tuner) (3.3.2)\n",
            "Requirement already satisfied: idna<4,>=2.5 in /usr/local/lib/python3.10/dist-packages (from requests->keras-tuner) (3.6)\n",
            "Requirement already satisfied: urllib3<3,>=1.21.1 in /usr/local/lib/python3.10/dist-packages (from requests->keras-tuner) (2.0.7)\n",
            "Requirement already satisfied: certifi>=2017.4.17 in /usr/local/lib/python3.10/dist-packages (from requests->keras-tuner) (2024.2.2)\n",
            "Installing collected packages: kt-legacy, keras-tuner\n",
            "Successfully installed keras-tuner-1.4.7 kt-legacy-1.0.5\n"
          ]
        }
      ]
    },
    {
      "cell_type": "code",
      "execution_count": null,
      "metadata": {
        "id": "FDm-Xp96IGoq"
      },
      "outputs": [],
      "source": [
        "# import tensorflow for ANN models\n",
        "import tensorflow\n",
        "# import keras to run the tensorflow modesl\n",
        "import keras\n",
        "# import sklearn for some funtionalities\n",
        "import sklearn\n",
        "# import layerts from keras tu add layers to the networks\n",
        "from keras import layers\n",
        "# import Sequential as a model of adding layers one after another in Keras\n",
        "from tensorflow.keras.models import Sequential\n",
        "# import different layers for constructing the CNN\n",
        "from tensorflow.keras.layers import Conv2D, MaxPooling2D, Dense, Flatten\n",
        "# Uport the optimizer SGD (stocastic gradient descent)\n",
        "from tensorflow.keras.optimizers import SGD\n",
        "\n",
        "from scikeras.wrappers import KerasClassifier, KerasRegressor\n",
        "from sklearn.model_selection import GridSearchCV\n",
        "\n",
        "# Import keras-tuner for the hyperparameters tuning\n",
        "import keras_tuner\n"
      ]
    },
    {
      "cell_type": "markdown",
      "source": [
        "The initial model architecture, albeit somewhat arbitrary, serves to provide insight into the model's complexity and offers a preliminary evaluation of its performance. For this inaugural architecture, we have delineated a sequential model comprising:\n",
        "\n",
        "- A convolutional layer with 50 kernels, each of size 3x3.\n",
        "- A MaxPooling layer with a 2x2 window.\n",
        "- An additional convolutional layer, this time with 100 filters of 3x3 size.\n",
        "- Another MaxPooling layer, also of size 2x2.\n",
        "- A step to flatten the data.\n",
        "- A fully connected neural network featuring two hidden layers and one output layer.\n",
        "\n",
        "The optimizer employed was Stochastic Gradient Descent (SGD) with a learning rate of 0.01 and a momentum of 0.5. The loss function utilized was categorical crossentropy.\n",
        "\n",
        "The activation function selected was ReLU (Rectified Linear Unit), due to its proven efficacy in enhancing the performance of most models and its status as the most commonly used activation function."
      ],
      "metadata": {
        "id": "_u75uD29mrEd"
      }
    },
    {
      "cell_type": "code",
      "execution_count": null,
      "metadata": {
        "colab": {
          "base_uri": "https://localhost:8080/"
        },
        "id": "zoRSZu56RvNg",
        "outputId": "894318ac-23db-4199-a345-ae6be39d98bf"
      },
      "outputs": [
        {
          "name": "stdout",
          "output_type": "stream",
          "text": [
            "Model: \"sequential\"\n",
            "_________________________________________________________________\n",
            " Layer (type)                Output Shape              Param #   \n",
            "=================================================================\n",
            " conv2d (Conv2D)             (None, 128, 128, 50)      500       \n",
            "                                                                 \n",
            " max_pooling2d (MaxPooling2  (None, 64, 64, 50)        0         \n",
            " D)                                                              \n",
            "                                                                 \n",
            " conv2d_1 (Conv2D)           (None, 62, 62, 100)       45100     \n",
            "                                                                 \n",
            " max_pooling2d_1 (MaxPoolin  (None, 31, 31, 100)       0         \n",
            " g2D)                                                            \n",
            "                                                                 \n",
            " flatten (Flatten)           (None, 96100)             0         \n",
            "                                                                 \n",
            " dense (Dense)               (None, 250)               24025250  \n",
            "                                                                 \n",
            " dense_1 (Dense)             (None, 150)               37650     \n",
            "                                                                 \n",
            " dense_2 (Dense)             (None, 4)                 604       \n",
            "                                                                 \n",
            "=================================================================\n",
            "Total params: 24109104 (91.97 MB)\n",
            "Trainable params: 24109104 (91.97 MB)\n",
            "Non-trainable params: 0 (0.00 Byte)\n",
            "_________________________________________________________________\n"
          ]
        }
      ],
      "source": [
        "def define_model0():\n",
        "    # Define the Sequential model\n",
        "    model = Sequential()\n",
        "    # Define the layers of our network\n",
        "    model.add(Conv2D(filters=50, kernel_size=(3, 3), activation='relu', padding='same',kernel_initializer='he_uniform', input_shape=(128, 128, 1)))\n",
        "    model.add(MaxPooling2D(pool_size=(2, 2)))\n",
        "    model.add(Conv2D(filters=100, kernel_size=(3, 3), activation='relu', kernel_initializer='he_uniform'))\n",
        "    model.add(MaxPooling2D(pool_size=(2, 2)))\n",
        "    model.add(Flatten())\n",
        "    model.add(Dense(250, activation='relu', kernel_initializer='he_uniform'))\n",
        "    model.add(Dense(150, activation='relu', kernel_initializer='he_uniform'))\n",
        "    model.add(Dense(4, activation='softmax'))\n",
        "\n",
        "    # compile model and training configuration\n",
        "    opt = SGD(learning_rate=0.01, momentum=0.5)\n",
        "    model.compile(optimizer=opt, loss='categorical_crossentropy', metrics=['accuracy'])\n",
        "    #return model\n",
        "    return model\n",
        "\n",
        "# Use the function to create a model call model0\n",
        "model0 = define_model0()\n",
        "# print summary of model0\n",
        "model0.summary()"
      ]
    },
    {
      "cell_type": "code",
      "execution_count": null,
      "metadata": {
        "colab": {
          "base_uri": "https://localhost:8080/"
        },
        "id": "EB51SfA4tXl3",
        "outputId": "1a998b35-c971-406f-9caa-515e58a06b8f"
      },
      "outputs": [
        {
          "name": "stdout",
          "output_type": "stream",
          "text": [
            "Epoch 1/20\n",
            "16/16 [==============================] - 15s 271ms/step - loss: 2.6447 - accuracy: 0.4539 - val_loss: 1.0061 - val_accuracy: 0.4990\n",
            "Epoch 2/20\n",
            "16/16 [==============================] - 3s 200ms/step - loss: 0.9964 - accuracy: 0.5181 - val_loss: 0.9673 - val_accuracy: 0.5000\n",
            "Epoch 3/20\n",
            "16/16 [==============================] - 3s 184ms/step - loss: 0.9559 - accuracy: 0.5437 - val_loss: 0.9304 - val_accuracy: 0.5225\n",
            "Epoch 4/20\n",
            "16/16 [==============================] - 3s 176ms/step - loss: 0.9246 - accuracy: 0.5515 - val_loss: 0.9391 - val_accuracy: 0.5068\n",
            "Epoch 5/20\n",
            "16/16 [==============================] - 3s 171ms/step - loss: 0.8864 - accuracy: 0.5898 - val_loss: 0.8618 - val_accuracy: 0.5986\n",
            "Epoch 6/20\n",
            "16/16 [==============================] - 3s 174ms/step - loss: 0.8513 - accuracy: 0.6064 - val_loss: 0.8385 - val_accuracy: 0.6240\n",
            "Epoch 7/20\n",
            "16/16 [==============================] - 3s 188ms/step - loss: 0.8284 - accuracy: 0.6172 - val_loss: 0.8029 - val_accuracy: 0.6396\n",
            "Epoch 8/20\n",
            "16/16 [==============================] - 3s 174ms/step - loss: 0.8163 - accuracy: 0.6396 - val_loss: 0.8218 - val_accuracy: 0.6641\n",
            "Epoch 9/20\n",
            "16/16 [==============================] - 3s 175ms/step - loss: 0.7586 - accuracy: 0.6814 - val_loss: 0.7482 - val_accuracy: 0.6514\n",
            "Epoch 10/20\n",
            "16/16 [==============================] - 3s 175ms/step - loss: 0.7447 - accuracy: 0.6738 - val_loss: 0.8609 - val_accuracy: 0.6445\n",
            "Epoch 11/20\n",
            "16/16 [==============================] - 3s 186ms/step - loss: 0.7905 - accuracy: 0.6626 - val_loss: 0.7501 - val_accuracy: 0.6836\n",
            "Epoch 12/20\n",
            "16/16 [==============================] - 3s 177ms/step - loss: 0.7313 - accuracy: 0.6914 - val_loss: 0.7403 - val_accuracy: 0.6582\n",
            "Epoch 13/20\n",
            "16/16 [==============================] - 3s 177ms/step - loss: 0.6757 - accuracy: 0.7180 - val_loss: 0.6898 - val_accuracy: 0.7354\n",
            "Epoch 14/20\n",
            "16/16 [==============================] - 3s 177ms/step - loss: 0.6184 - accuracy: 0.7498 - val_loss: 0.7260 - val_accuracy: 0.6758\n",
            "Epoch 15/20\n",
            "16/16 [==============================] - 3s 178ms/step - loss: 0.6129 - accuracy: 0.7451 - val_loss: 0.6312 - val_accuracy: 0.7676\n",
            "Epoch 16/20\n",
            "16/16 [==============================] - 3s 192ms/step - loss: 0.6004 - accuracy: 0.7598 - val_loss: 0.7489 - val_accuracy: 0.6484\n",
            "Epoch 17/20\n",
            "16/16 [==============================] - 3s 180ms/step - loss: 0.5465 - accuracy: 0.7866 - val_loss: 0.5533 - val_accuracy: 0.8018\n",
            "Epoch 18/20\n",
            "16/16 [==============================] - 3s 187ms/step - loss: 0.7334 - accuracy: 0.7300 - val_loss: 0.5655 - val_accuracy: 0.7959\n",
            "Epoch 19/20\n",
            "16/16 [==============================] - 3s 189ms/step - loss: 0.5420 - accuracy: 0.7930 - val_loss: 0.6283 - val_accuracy: 0.6846\n",
            "Epoch 20/20\n",
            "16/16 [==============================] - 3s 191ms/step - loss: 0.4935 - accuracy: 0.8035 - val_loss: 1.2315 - val_accuracy: 0.5635\n"
          ]
        }
      ],
      "source": [
        "# fit the model (model0)\n",
        "history0 = model0.fit(train_data,\n",
        "                      train_labels,\n",
        "                      epochs=20,\n",
        "                      batch_size=256,\n",
        "                      validation_split= 0.2,\n",
        "                      verbose=1)"
      ]
    },
    {
      "cell_type": "code",
      "execution_count": null,
      "metadata": {
        "colab": {
          "base_uri": "https://localhost:8080/"
        },
        "id": "qmZaI_bdtbAo",
        "outputId": "661f5618-6e9d-4b07-f6b6-5724e5fa9e91"
      },
      "outputs": [
        {
          "name": "stdout",
          "output_type": "stream",
          "text": [
            "40/40 [==============================] - 0s 8ms/step - loss: 1.3141 - accuracy: 0.5508\n"
          ]
        },
        {
          "data": {
            "text/plain": [
              "[1.3140931129455566, 0.55078125]"
            ]
          },
          "execution_count": 24,
          "metadata": {},
          "output_type": "execute_result"
        }
      ],
      "source": [
        "# Evaluate the model so that I report an accurate accuracy\n",
        "model0.evaluate(test_data, test_labels, verbose = 1, batch_size = 32)"
      ]
    },
    {
      "cell_type": "markdown",
      "source": [
        "After 20 epochs, the model achieved an accuracy of 55%, which is quite promising for a preliminary attempt. Nonetheless, there is significant room for improvement. A critical aspect of model evaluation is examining the loss curves for both the validation and testing datasets. These observations can inform decisions regarding adjustments to the learning rate, batch size, momentum, and the number of epochs. Based on these insights, we can strategically modify the hyperparameters for subsequent model iterations."
      ],
      "metadata": {
        "id": "gOo-S2mIo0Tq"
      }
    },
    {
      "cell_type": "code",
      "execution_count": null,
      "metadata": {
        "id": "7tP76VWeURLg"
      },
      "outputs": [],
      "source": [
        "# save the model\n",
        "model0.save('/content/drive/MyDrive/Colab Notebooks/AL & ML/Final Project/model0_acc_55.keras')"
      ]
    },
    {
      "cell_type": "code",
      "execution_count": null,
      "metadata": {
        "colab": {
          "base_uri": "https://localhost:8080/",
          "height": 256
        },
        "id": "gHPLSLQxwV9m",
        "outputId": "b7d37f1c-19d8-4cc6-913e-bf9b1262ec07"
      },
      "outputs": [
        {
          "data": {
            "image/png": "[encoded data removed]",
            "text/plain": [
              "<Figure size 1000x200 with 2 Axes>"
            ]
          },
          "metadata": {},
          "output_type": "display_data"
        }
      ],
      "source": [
        "# Plot train vs test accuracy per epoch\n",
        "fig, ax = plt.subplots(1,2, figsize=(10, 2))\n",
        "\n",
        "fig.suptitle('Model0', fontsize=16)\n",
        "# Loss\n",
        "ax[0].plot(history0.history['loss'])\n",
        "ax[0].plot(history0.history['val_loss'])\n",
        "ax[0].set_title(\"Loss\")\n",
        "ax[0].set_xlabel('epochs')\n",
        "ax[0].set_ylabel('loss')\n",
        "ax[0].legend(['Train', 'Validation'])\n",
        "# Accuracy\n",
        "ax[1].plot(history0.history['accuracy'])\n",
        "ax[1].plot(history0.history['val_accuracy'])\n",
        "ax[1].set_title(\"Accuracy\")\n",
        "ax[1].set_xlabel('epochs')\n",
        "ax[1].set_ylabel('accuracy')\n",
        "ax[1].legend(['Train', 'Validation'])\n",
        "\n",
        "plt.show()"
      ]
    },
    {
      "cell_type": "markdown",
      "source": [
        "The curve for the training loss begins at a high value and swiftly declines to a level near 1, indicating that the model is learning effectively. This trend is a positive sign of the model's ability to adapt and improve. However, while the validation accuracy reaches a peak of 80%, it subsequently experiences a sharp decline, suggesting that the model begins to overfit beyond this point. Therefore, if we were to proceed with this model, selecting between 16 to 18 epochs as the optimal range would be advisable to prevent overfitting."
      ],
      "metadata": {
        "id": "HVRPhTWmpik1"
      }
    },
    {
      "cell_type": "markdown",
      "metadata": {
        "id": "d8EEXIE8iICN"
      },
      "source": [
        "# Model1\n"
      ]
    },
    {
      "cell_type": "markdown",
      "source": [
        "In this second model, modifications were made to reduce complexity in hopes of achieving improved performance. Specifically, the kernel size was adjusted, and the number of filters, as well as the number of nodes in the hidden layers of the fully connected network, were reduced. These changes were implemented to explore whether a simpler model could enhance effectiveness. Consequently, the number of parameters decreased compared to the previous model, which had required a long training time. The activation function, optimizer, momentum, and learning rate were kept consistent with the initial model settings."
      ],
      "metadata": {
        "id": "rHFuCsNbH883"
      }
    },
    {
      "cell_type": "code",
      "execution_count": null,
      "metadata": {
        "colab": {
          "base_uri": "https://localhost:8080/"
        },
        "id": "AR1QkJp10ASQ",
        "outputId": "f042b9fa-2bc9-45b0-92a2-1721e1a88c78"
      },
      "outputs": [
        {
          "name": "stdout",
          "output_type": "stream",
          "text": [
            "Model: \"sequential_2\"\n",
            "_________________________________________________________________\n",
            " Layer (type)                Output Shape              Param #   \n",
            "=================================================================\n",
            " conv2d_4 (Conv2D)           (None, 124, 124, 6)       156       \n",
            "                                                                 \n",
            " max_pooling2d_4 (MaxPoolin  (None, 62, 62, 6)         0         \n",
            " g2D)                                                            \n",
            "                                                                 \n",
            " conv2d_5 (Conv2D)           (None, 58, 58, 16)        2416      \n",
            "                                                                 \n",
            " max_pooling2d_5 (MaxPoolin  (None, 29, 29, 16)        0         \n",
            " g2D)                                                            \n",
            "                                                                 \n",
            " flatten_2 (Flatten)         (None, 13456)             0         \n",
            "                                                                 \n",
            " dense_6 (Dense)             (None, 150)               2018550   \n",
            "                                                                 \n",
            " dense_7 (Dense)             (None, 100)               15100     \n",
            "                                                                 \n",
            " dense_8 (Dense)             (None, 4)                 404       \n",
            "                                                                 \n",
            "=================================================================\n",
            "Total params: 2036626 (7.77 MB)\n",
            "Trainable params: 2036626 (7.77 MB)\n",
            "Non-trainable params: 0 (0.00 Byte)\n",
            "_________________________________________________________________\n"
          ]
        }
      ],
      "source": [
        "def define_model1():\n",
        "    # Define the Sequential model class\n",
        "    model = Sequential()\n",
        "    # Define the layers of the network\n",
        "    model.add(Conv2D(filters=6, kernel_size=(5, 5), activation='relu',kernel_initializer='he_uniform', input_shape=(128, 128, 1)))\n",
        "    model.add(MaxPooling2D(pool_size=(2, 2)))\n",
        "    model.add(Conv2D(filters=16, kernel_size=(5, 5), activation='relu', kernel_initializer='he_uniform'))\n",
        "    model.add(MaxPooling2D(pool_size=(2, 2)))\n",
        "    model.add(Flatten())\n",
        "    model.add(Dense(150, activation='relu', kernel_initializer='he_uniform'))\n",
        "    model.add(Dense(100, activation='relu', kernel_initializer='he_uniform'))\n",
        "    model.add(Dense(4, activation='softmax'))\n",
        "\n",
        "    # compile model and training configuration\n",
        "    opt = SGD(learning_rate=0.01, momentum=0.5)\n",
        "    model.compile(optimizer=opt, loss='categorical_crossentropy', metrics=['accuracy'])\n",
        "    # Return the model\n",
        "    return model\n",
        "\n",
        "model1 = define_model1()\n",
        "model1.summary()"
      ]
    },
    {
      "cell_type": "code",
      "execution_count": null,
      "metadata": {
        "colab": {
          "base_uri": "https://localhost:8080/"
        },
        "id": "jsMxIz2Uy_ZO",
        "outputId": "e3baee2a-8fec-4267-82be-e53b35f10c07"
      },
      "outputs": [
        {
          "name": "stdout",
          "output_type": "stream",
          "text": [
            "Epoch 1/20\n",
            "64/64 [==============================] - 2s 17ms/step - loss: 1.2248 - accuracy: 0.4915 - val_loss: 0.9291 - val_accuracy: 0.5283\n",
            "Epoch 2/20\n",
            "64/64 [==============================] - 1s 14ms/step - loss: 0.9189 - accuracy: 0.5562 - val_loss: 0.8740 - val_accuracy: 0.5791\n",
            "Epoch 3/20\n",
            "64/64 [==============================] - 1s 13ms/step - loss: 0.8703 - accuracy: 0.5925 - val_loss: 0.8370 - val_accuracy: 0.5947\n",
            "Epoch 4/20\n",
            "64/64 [==============================] - 1s 13ms/step - loss: 0.8141 - accuracy: 0.6243 - val_loss: 0.8065 - val_accuracy: 0.6191\n",
            "Epoch 5/20\n",
            "64/64 [==============================] - 1s 11ms/step - loss: 0.7589 - accuracy: 0.6509 - val_loss: 0.7278 - val_accuracy: 0.6826\n",
            "Epoch 6/20\n",
            "64/64 [==============================] - 1s 11ms/step - loss: 0.6906 - accuracy: 0.6926 - val_loss: 0.6565 - val_accuracy: 0.7119\n",
            "Epoch 7/20\n",
            "64/64 [==============================] - 1s 10ms/step - loss: 0.6300 - accuracy: 0.7300 - val_loss: 0.6014 - val_accuracy: 0.7393\n",
            "Epoch 8/20\n",
            "64/64 [==============================] - 1s 12ms/step - loss: 0.6240 - accuracy: 0.7271 - val_loss: 0.5984 - val_accuracy: 0.7041\n",
            "Epoch 9/20\n",
            "64/64 [==============================] - 1s 10ms/step - loss: 0.5442 - accuracy: 0.7688 - val_loss: 0.6038 - val_accuracy: 0.7354\n",
            "Epoch 10/20\n",
            "64/64 [==============================] - 1s 10ms/step - loss: 0.5008 - accuracy: 0.7952 - val_loss: 0.4878 - val_accuracy: 0.8096\n",
            "Epoch 11/20\n",
            "64/64 [==============================] - 1s 10ms/step - loss: 0.4446 - accuracy: 0.8225 - val_loss: 0.5936 - val_accuracy: 0.7324\n",
            "Epoch 12/20\n",
            "64/64 [==============================] - 1s 10ms/step - loss: 0.3352 - accuracy: 0.8784 - val_loss: 0.4649 - val_accuracy: 0.8145\n",
            "Epoch 13/20\n",
            "64/64 [==============================] - 1s 10ms/step - loss: 0.3118 - accuracy: 0.8855 - val_loss: 0.3259 - val_accuracy: 0.8877\n",
            "Epoch 14/20\n",
            "64/64 [==============================] - 1s 12ms/step - loss: 0.3112 - accuracy: 0.8835 - val_loss: 0.5175 - val_accuracy: 0.7744\n",
            "Epoch 15/20\n",
            "64/64 [==============================] - 1s 10ms/step - loss: 0.1769 - accuracy: 0.9468 - val_loss: 0.6619 - val_accuracy: 0.7158\n",
            "Epoch 16/20\n",
            "64/64 [==============================] - 1s 10ms/step - loss: 0.2112 - accuracy: 0.9309 - val_loss: 0.2628 - val_accuracy: 0.9004\n",
            "Epoch 17/20\n",
            "64/64 [==============================] - 1s 12ms/step - loss: 0.1381 - accuracy: 0.9543 - val_loss: 0.2208 - val_accuracy: 0.9229\n",
            "Epoch 18/20\n",
            "64/64 [==============================] - 1s 12ms/step - loss: 0.1010 - accuracy: 0.9724 - val_loss: 0.2247 - val_accuracy: 0.9160\n",
            "Epoch 19/20\n",
            "64/64 [==============================] - 1s 11ms/step - loss: 0.1035 - accuracy: 0.9692 - val_loss: 0.2053 - val_accuracy: 0.9307\n",
            "Epoch 20/20\n",
            "64/64 [==============================] - 1s 13ms/step - loss: 0.0365 - accuracy: 0.9958 - val_loss: 0.1941 - val_accuracy: 0.9316\n"
          ]
        }
      ],
      "source": [
        "# fit model1\n",
        "history1 = model1.fit(train_data,\n",
        "                      train_labels,\n",
        "                      epochs=20,\n",
        "                      batch_size=64,\n",
        "                      validation_split= 0.2,\n",
        "                      verbose=True)"
      ]
    },
    {
      "cell_type": "code",
      "execution_count": null,
      "metadata": {
        "colab": {
          "base_uri": "https://localhost:8080/"
        },
        "id": "8E37mtt-0dkj",
        "outputId": "baaf658e-ebb2-4728-dc16-1381ebdf401b"
      },
      "outputs": [
        {
          "name": "stdout",
          "output_type": "stream",
          "text": [
            "40/40 [==============================] - 0s 4ms/step - loss: 0.2200 - accuracy: 0.9195\n"
          ]
        },
        {
          "data": {
            "text/plain": [
              "[0.21995608508586884, 0.9195312261581421]"
            ]
          },
          "execution_count": 32,
          "metadata": {},
          "output_type": "execute_result"
        }
      ],
      "source": [
        "# Evaluate model1\n",
        "model1.evaluate(test_data, test_labels, verbose = 1, batch_size = 32)"
      ]
    },
    {
      "cell_type": "markdown",
      "source": [
        "This second architecture is simpler, featuring fewer parameters, and it trains more quickly than the previous one, yet it performs better. The accuracy increased to nearly 92%, and the loss function, with this new architecture and hyperparameters, decreased significantly from 1.34 to 0.22, marking a substantial improvement."
      ],
      "metadata": {
        "id": "UhbIhoWtZEbG"
      }
    },
    {
      "cell_type": "code",
      "execution_count": null,
      "metadata": {
        "id": "QP_IaSGPy_ZP"
      },
      "outputs": [],
      "source": [
        "# save the model to file\n",
        "model1.save('/content/drive/MyDrive/Colab Notebooks/AL & ML/Final Project/model1_acc_92.keras')\n"
      ]
    },
    {
      "cell_type": "code",
      "execution_count": null,
      "metadata": {
        "colab": {
          "base_uri": "https://localhost:8080/",
          "height": 256
        },
        "id": "P8xH2QKfy_ZP",
        "outputId": "364e1c66-2b44-4b88-c31a-4a7fea063842"
      },
      "outputs": [
        {
          "data": {
            "image/png": "[encoded data removed]",
            "text/plain": [
              "<Figure size 1000x200 with 2 Axes>"
            ]
          },
          "metadata": {},
          "output_type": "display_data"
        }
      ],
      "source": [
        "# Plot train vs test accuracy per epoch\n",
        "fig, ax = plt.subplots(1,2, figsize=(10, 2))\n",
        "\n",
        "fig.suptitle('Model1', fontsize=16)\n",
        "#Loss\n",
        "ax[0].plot(history1.history['loss'])\n",
        "ax[0].plot(history1.history['val_loss'])\n",
        "ax[0].set_title(\"Loss\")\n",
        "ax[0].set_xlabel('epochs')\n",
        "ax[0].set_ylabel('loss')\n",
        "ax[0].legend(['Train', 'Validation'])\n",
        "\n",
        "#Accuracy\n",
        "ax[1].plot(history1.history['accuracy'])\n",
        "ax[1].plot(history1.history['val_accuracy'])\n",
        "ax[1].set_title(\"Accuracy\")\n",
        "ax[1].set_xlabel('epochs')\n",
        "ax[1].set_ylabel('accuracy')\n",
        "ax[1].legend(['Train', 'Validation'])\n",
        "\n",
        "plt.show()"
      ]
    },
    {
      "cell_type": "markdown",
      "source": [
        "The loss curve reveals that the training curve consistently decreases in a steady manner, indicating that the parameters are nearing a global minimum. Similarly, the validation loss also shows a decline. This steady decrease suggests that learning is occurring, albeit slowly, and hints at the possibility that extending the number of epochs could yield even better results. Therefore, for future model iterations, we will consider increasing the number of epochs to enhance performance."
      ],
      "metadata": {
        "id": "7TLmhWMHt0PY"
      }
    },
    {
      "cell_type": "markdown",
      "metadata": {
        "id": "nsZoGNFOiLNl"
      },
      "source": [
        "# Model2"
      ]
    },
    {
      "cell_type": "markdown",
      "source": [
        "In this third model, the number of filters in the first convolutional layer was increased while maintaining the same kernel size of 5. Another modification was the adjustment of the number of nodes in the hidden layers: the first hidden layer now contains 120 nodes, and the second one has 100, compared to the previous model, which had 150 and 100 nodes for the first and second hidden layers, respectively. Observations from the previous model indicated that there is potential for further reduction in validation loss. Therefore, we can consider increasing the number of epochs, as it seems the model could benefit from extended training to achieve even lower validation loss values."
      ],
      "metadata": {
        "id": "104-TtNquMXx"
      }
    },
    {
      "cell_type": "code",
      "execution_count": null,
      "metadata": {
        "colab": {
          "base_uri": "https://localhost:8080/"
        },
        "id": "2hduXYJXUoPg",
        "outputId": "e4f5f5bd-66f7-441d-832e-d3d911aeeae9"
      },
      "outputs": [
        {
          "name": "stdout",
          "output_type": "stream",
          "text": [
            "Model: \"sequential_3\"\n",
            "_________________________________________________________________\n",
            " Layer (type)                Output Shape              Param #   \n",
            "=================================================================\n",
            " conv2d_6 (Conv2D)           (None, 124, 124, 9)       234       \n",
            "                                                                 \n",
            " max_pooling2d_6 (MaxPoolin  (None, 62, 62, 9)         0         \n",
            " g2D)                                                            \n",
            "                                                                 \n",
            " conv2d_7 (Conv2D)           (None, 59, 59, 20)        2900      \n",
            "                                                                 \n",
            " max_pooling2d_7 (MaxPoolin  (None, 29, 29, 20)        0         \n",
            " g2D)                                                            \n",
            "                                                                 \n",
            " flatten_3 (Flatten)         (None, 16820)             0         \n",
            "                                                                 \n",
            " dense_9 (Dense)             (None, 120)               2018520   \n",
            "                                                                 \n",
            " dense_10 (Dense)            (None, 100)               12100     \n",
            "                                                                 \n",
            " dense_11 (Dense)            (None, 4)                 404       \n",
            "                                                                 \n",
            "=================================================================\n",
            "Total params: 2034158 (7.76 MB)\n",
            "Trainable params: 2034158 (7.76 MB)\n",
            "Non-trainable params: 0 (0.00 Byte)\n",
            "_________________________________________________________________\n"
          ]
        }
      ],
      "source": [
        "def define_model2():\n",
        "    # Define the Sequential model class for our case\n",
        "    model = Sequential()\n",
        "    # Define the layers of our network\n",
        "    model.add(Conv2D(filters=9, kernel_size=(5, 5), activation='relu',kernel_initializer='he_uniform', input_shape=(128, 128, 1)))\n",
        "    model.add(MaxPooling2D(pool_size=(2, 2)))\n",
        "    model.add(Conv2D(filters=20, kernel_size=(4, 4), activation='relu', kernel_initializer='he_uniform'))\n",
        "    model.add(MaxPooling2D(pool_size=(2, 2)))\n",
        "    model.add(Flatten())\n",
        "    model.add(Dense(120, activation='relu', kernel_initializer='he_uniform'))\n",
        "    model.add(Dense(100, activation='relu', kernel_initializer='he_uniform'))\n",
        "    model.add(Dense(4, activation='softmax'))\n",
        "\n",
        "    # compile model and training configuration\n",
        "    opt = SGD(learning_rate=0.01, momentum=0.9)\n",
        "    model.compile(optimizer=opt, loss='categorical_crossentropy', metrics=['accuracy'])\n",
        "    # return model\n",
        "    return model\n",
        "\n",
        "model2 = define_model2()\n",
        "model2.summary()"
      ]
    },
    {
      "cell_type": "markdown",
      "source": [
        "One effective method to tune the model appropriately and expediently is to establish an early stopping criterion. Given the uncertainty of when the model will reach the global minimum, the training can be interrupted either after a predetermined number of epochs or once the model ceases to learn (indicated by no further decrease in the loss function). To accommodate the possibility that the loss function might briefly increase before continuing its downward trend, we introduce a patience parameter. In this context, we will wait for 3 additional epochs beyond the initial stopping point; if the model shows no improvement in learning, we will then terminate the training process."
      ],
      "metadata": {
        "id": "MSwSAhYD6qT0"
      }
    },
    {
      "cell_type": "code",
      "execution_count": null,
      "metadata": {
        "id": "WERNKqGtz7U7"
      },
      "outputs": [],
      "source": [
        "# Instantiate an early stopping\n",
        "from tensorflow.keras.callbacks import EarlyStopping\n",
        "EarlyStopping = EarlyStopping(monitor='val_loss', patience=3)"
      ]
    },
    {
      "cell_type": "code",
      "execution_count": null,
      "metadata": {
        "colab": {
          "base_uri": "https://localhost:8080/"
        },
        "id": "lEPMi-7t6I5t",
        "outputId": "0809e7c7-1c5c-46b4-d8b7-24de2db49abe"
      },
      "outputs": [
        {
          "name": "stdout",
          "output_type": "stream",
          "text": [
            "Epoch 1/40\n",
            "16/16 [==============================] - 3s 68ms/step - loss: 1.2258 - accuracy: 0.4888 - val_loss: 1.0379 - val_accuracy: 0.4990\n",
            "Epoch 2/40\n",
            "16/16 [==============================] - 1s 44ms/step - loss: 1.0402 - accuracy: 0.4841 - val_loss: 1.0008 - val_accuracy: 0.4990\n",
            "Epoch 3/40\n",
            "16/16 [==============================] - 1s 45ms/step - loss: 1.0099 - accuracy: 0.5088 - val_loss: 0.9668 - val_accuracy: 0.5234\n",
            "Epoch 4/40\n",
            "16/16 [==============================] - 1s 43ms/step - loss: 0.9680 - accuracy: 0.5305 - val_loss: 0.9267 - val_accuracy: 0.5400\n",
            "Epoch 5/40\n",
            "16/16 [==============================] - 1s 45ms/step - loss: 0.9196 - accuracy: 0.5564 - val_loss: 0.9205 - val_accuracy: 0.5811\n",
            "Epoch 6/40\n",
            "16/16 [==============================] - 1s 44ms/step - loss: 0.9007 - accuracy: 0.5703 - val_loss: 0.8771 - val_accuracy: 0.5859\n",
            "Epoch 7/40\n",
            "16/16 [==============================] - 1s 44ms/step - loss: 0.9017 - accuracy: 0.5820 - val_loss: 0.8696 - val_accuracy: 0.6230\n",
            "Epoch 8/40\n",
            "16/16 [==============================] - 1s 53ms/step - loss: 0.8426 - accuracy: 0.6123 - val_loss: 0.8360 - val_accuracy: 0.5869\n",
            "Epoch 9/40\n",
            "16/16 [==============================] - 1s 52ms/step - loss: 0.7855 - accuracy: 0.6538 - val_loss: 0.7887 - val_accuracy: 0.6455\n",
            "Epoch 10/40\n",
            "16/16 [==============================] - 1s 48ms/step - loss: 0.7653 - accuracy: 0.6636 - val_loss: 0.7488 - val_accuracy: 0.6816\n",
            "Epoch 11/40\n",
            "16/16 [==============================] - 1s 53ms/step - loss: 0.6787 - accuracy: 0.7151 - val_loss: 0.7838 - val_accuracy: 0.6475\n",
            "Epoch 12/40\n",
            "16/16 [==============================] - 1s 50ms/step - loss: 0.6223 - accuracy: 0.7539 - val_loss: 0.6173 - val_accuracy: 0.7627\n",
            "Epoch 13/40\n",
            "16/16 [==============================] - 1s 45ms/step - loss: 0.5491 - accuracy: 0.7905 - val_loss: 0.5726 - val_accuracy: 0.7871\n",
            "Epoch 14/40\n",
            "16/16 [==============================] - 1s 45ms/step - loss: 0.6800 - accuracy: 0.7278 - val_loss: 0.6747 - val_accuracy: 0.7314\n",
            "Epoch 15/40\n",
            "16/16 [==============================] - 1s 44ms/step - loss: 0.4934 - accuracy: 0.8096 - val_loss: 0.5637 - val_accuracy: 0.7588\n",
            "Epoch 16/40\n",
            "16/16 [==============================] - 1s 44ms/step - loss: 0.4285 - accuracy: 0.8381 - val_loss: 0.5783 - val_accuracy: 0.7510\n",
            "Epoch 17/40\n",
            "16/16 [==============================] - 1s 44ms/step - loss: 0.4598 - accuracy: 0.8276 - val_loss: 0.4743 - val_accuracy: 0.8047\n",
            "Epoch 18/40\n",
            "16/16 [==============================] - 1s 43ms/step - loss: 0.2569 - accuracy: 0.9138 - val_loss: 0.4427 - val_accuracy: 0.8350\n",
            "Epoch 19/40\n",
            "16/16 [==============================] - 1s 45ms/step - loss: 0.1821 - accuracy: 0.9373 - val_loss: 0.3465 - val_accuracy: 0.8760\n",
            "Epoch 20/40\n",
            "16/16 [==============================] - 1s 53ms/step - loss: 0.1120 - accuracy: 0.9675 - val_loss: 0.2640 - val_accuracy: 0.8984\n",
            "Epoch 21/40\n",
            "16/16 [==============================] - 1s 49ms/step - loss: 0.0695 - accuracy: 0.9849 - val_loss: 0.3126 - val_accuracy: 0.8984\n",
            "Epoch 22/40\n",
            "16/16 [==============================] - 1s 45ms/step - loss: 0.0748 - accuracy: 0.9783 - val_loss: 0.4680 - val_accuracy: 0.8418\n",
            "Epoch 23/40\n",
            "16/16 [==============================] - 1s 46ms/step - loss: 0.1221 - accuracy: 0.9548 - val_loss: 0.1971 - val_accuracy: 0.9229\n",
            "Epoch 24/40\n",
            "16/16 [==============================] - 1s 45ms/step - loss: 0.1527 - accuracy: 0.9412 - val_loss: 0.4355 - val_accuracy: 0.8467\n",
            "Epoch 25/40\n",
            "16/16 [==============================] - 1s 47ms/step - loss: 0.0867 - accuracy: 0.9771 - val_loss: 0.2306 - val_accuracy: 0.9199\n",
            "Epoch 26/40\n",
            "16/16 [==============================] - 1s 53ms/step - loss: 0.0330 - accuracy: 0.9932 - val_loss: 0.1974 - val_accuracy: 0.9385\n"
          ]
        }
      ],
      "source": [
        "# fit model2\n",
        "history2 = model2.fit(train_data,\n",
        "                      train_labels,\n",
        "                      epochs=40,\n",
        "                      batch_size=256,\n",
        "                      validation_split= 0.2,\n",
        "                      verbose=True,\n",
        "                      callbacks = [EarlyStopping])"
      ]
    },
    {
      "cell_type": "code",
      "execution_count": null,
      "metadata": {
        "colab": {
          "base_uri": "https://localhost:8080/"
        },
        "id": "MO_c4f5AWh2y",
        "outputId": "39c0e9bf-d944-486f-a2a5-c4a6a43cfb2c"
      },
      "outputs": [
        {
          "name": "stdout",
          "output_type": "stream",
          "text": [
            "40/40 [==============================] - 1s 7ms/step - loss: 0.2314 - accuracy: 0.9289\n"
          ]
        },
        {
          "data": {
            "text/plain": [
              "[0.23135285079479218, 0.928906261920929]"
            ]
          },
          "execution_count": 38,
          "metadata": {},
          "output_type": "execute_result"
        }
      ],
      "source": [
        "# Evaluate model2\n",
        "model2.evaluate(test_data, test_labels, verbose = 1, batch_size = 32)"
      ]
    },
    {
      "cell_type": "markdown",
      "source": [
        "While the modifications to the model did not significantly enhance its performance, the introduction of early stopping criteria notably reduced training time. The accuracy experienced a modest increase, rising from 91.95% to 92.89%. Although any improvement at this stage is valuable, there is still potential for the model to achieve better results. Therefore, we will explore a different architecture in the next model iteration and also investigate the impact of using an alternative optimizer."
      ],
      "metadata": {
        "id": "N_xeavTD2g29"
      }
    },
    {
      "cell_type": "code",
      "execution_count": null,
      "metadata": {
        "id": "w8f-bQg_6Lqj"
      },
      "outputs": [],
      "source": [
        "# save the model to file\n",
        "model2.save('/content/drive/MyDrive/Colab Notebooks/AL & ML/Final Project/model2_acc_92.keras')"
      ]
    },
    {
      "cell_type": "code",
      "execution_count": null,
      "metadata": {
        "colab": {
          "base_uri": "https://localhost:8080/",
          "height": 256
        },
        "id": "L0_w1xIb6PlW",
        "outputId": "27d8919f-950b-4a97-9769-07a2e9bc4234"
      },
      "outputs": [
        {
          "data": {
            "image/png": "[encoded data removed]",
            "text/plain": [
              "<Figure size 1000x200 with 2 Axes>"
            ]
          },
          "metadata": {},
          "output_type": "display_data"
        }
      ],
      "source": [
        "# Plot train vs test accuracy per epoch\n",
        "fig, ax = plt.subplots(1,2, figsize=(10, 2))\n",
        "\n",
        "fig.suptitle('Model2', fontsize=16)\n",
        "#Loss\n",
        "ax[0].plot(history2.history['loss'])\n",
        "ax[0].plot(history2.history['val_loss'])\n",
        "ax[0].set_title(\"Loss\")\n",
        "ax[0].set_xlabel('epochs')\n",
        "ax[0].set_ylabel('loss')\n",
        "ax[0].legend(['Train', 'Validation'])\n",
        "\n",
        "#Accuracy\n",
        "ax[1].plot(history2.history['accuracy'])\n",
        "ax[1].plot(history2.history['val_accuracy'])\n",
        "ax[1].set_title(\"Accuracy\")\n",
        "ax[1].set_xlabel('epochs')\n",
        "ax[1].set_ylabel('accuracy')\n",
        "ax[1].legend(['Train', 'Validation'])\n",
        "\n",
        "plt.show()"
      ]
    },
    {
      "cell_type": "markdown",
      "source": [
        "The curve exhibits characteristics very similar to that of the previous model. The training loss decreases, reaching its minimum at the last epoch, while the validation loss demonstrates a comparable pattern, with its minimum occurring at 22 epochs. Notably, the validation curve (in orange) oscillates, suggesting that the batch size, momentum, or even the learning rate may not be optimally set. In subsequent models, we will experiment with these parameters to refine the model's performance."
      ],
      "metadata": {
        "id": "pL4FkQyA3WF_"
      }
    },
    {
      "cell_type": "markdown",
      "metadata": {
        "id": "eJg-EJMl2nPU"
      },
      "source": [
        "# Model3"
      ]
    },
    {
      "cell_type": "code",
      "execution_count": null,
      "metadata": {
        "id": "pCIn4zgI3rJ4"
      },
      "outputs": [],
      "source": [
        "# Import the libraries needed for the analysis\n",
        "import tensorflow\n",
        "import keras\n",
        "from keras import layers"
      ]
    },
    {
      "cell_type": "markdown",
      "source": [
        "In the next model, the ADAM optimizer as a new approach will be implemented. The architecture remains largely similar; however, this time we will employ data augmentation techniques to combat overfitting and aim to foster a model that better understands the data, leading to more accurate predictions. Specifically, we will flip some images horizontally, adjust the lighting by altering the contrast, and apply zoom to certain images. These modifications are intended to ensure that variations in image size do not detrimentally affect the model's performance."
      ],
      "metadata": {
        "id": "waU1L98f_QRZ"
      }
    },
    {
      "cell_type": "code",
      "execution_count": null,
      "metadata": {
        "colab": {
          "base_uri": "https://localhost:8080/"
        },
        "id": "nsuiUc4MjjaC",
        "outputId": "26c1b6e9-4b3f-4ba2-f886-124345a0d4c6"
      },
      "outputs": [
        {
          "name": "stdout",
          "output_type": "stream",
          "text": [
            "Model: \"sequential_5\"\n",
            "_________________________________________________________________\n",
            " Layer (type)                Output Shape              Param #   \n",
            "=================================================================\n",
            " conv2d_8 (Conv2D)           (None, 124, 124, 9)       234       \n",
            "                                                                 \n",
            " max_pooling2d_8 (MaxPoolin  (None, 62, 62, 9)         0         \n",
            " g2D)                                                            \n",
            "                                                                 \n",
            " conv2d_9 (Conv2D)           (None, 59, 59, 20)        2900      \n",
            "                                                                 \n",
            " max_pooling2d_9 (MaxPoolin  (None, 29, 29, 20)        0         \n",
            " g2D)                                                            \n",
            "                                                                 \n",
            " flatten_4 (Flatten)         (None, 16820)             0         \n",
            "                                                                 \n",
            " dense_12 (Dense)            (None, 120)               2018520   \n",
            "                                                                 \n",
            " dense_13 (Dense)            (None, 100)               12100     \n",
            "                                                                 \n",
            " dense_14 (Dense)            (None, 4)                 404       \n",
            "                                                                 \n",
            "=================================================================\n",
            "Total params: 2034158 (7.76 MB)\n",
            "Trainable params: 2034158 (7.76 MB)\n",
            "Non-trainable params: 0 (0.00 Byte)\n",
            "_________________________________________________________________\n"
          ]
        }
      ],
      "source": [
        "from tensorflow.keras.models import Sequential\n",
        "from tensorflow.keras.layers import Conv2D, MaxPooling2D, Dense, Flatten\n",
        "from tensorflow.keras.optimizers import SGD\n",
        "\n",
        "# Define data augmentation\n",
        "data_augmentation = tensorflow.keras.Sequential([\n",
        "  layers.RandomFlip(\"horizontal\", seed = 2024),\n",
        "  keras.layers.RandomZoom((.2, .2), seed=2024),\n",
        "  keras.layers.RandomContrast(0.2, seed=2024)\n",
        "])\n",
        "\n",
        "def define_model3():\n",
        "    # Define the Sequential model class for our case\n",
        "    model = Sequential()\n",
        "    # Define the layers of our network\n",
        "    model.add(Conv2D(filters=9, kernel_size=(5, 5), activation='relu',kernel_initializer='he_uniform', input_shape=(128, 128, 1)))\n",
        "    model.add(MaxPooling2D(pool_size=(2, 2)))\n",
        "    model.add(Conv2D(filters=20, kernel_size=(4, 4), activation='relu', kernel_initializer='he_uniform'))\n",
        "    model.add(MaxPooling2D(pool_size=(2, 2)))\n",
        "    model.add(Flatten())\n",
        "    model.add(Dense(120, activation='relu', kernel_initializer='he_uniform'))\n",
        "    model.add(Dense(100, activation='relu', kernel_initializer='he_uniform'))\n",
        "    model.add(Dense(4, activation='softmax'))\n",
        "\n",
        "    # compile model and training configuration\n",
        "    opt = keras.optimizers.Adam(learning_rate=0.01)\n",
        "    model.compile(optimizer=opt, loss='categorical_crossentropy', metrics=['accuracy'])\n",
        "    # Return the model\n",
        "    return model\n",
        "\n",
        "model3= define_model3()\n",
        "model3.summary()"
      ]
    },
    {
      "cell_type": "code",
      "execution_count": null,
      "metadata": {
        "id": "8821o8p_jjXt"
      },
      "outputs": [],
      "source": [
        "# Instantiate an early stopping\n",
        "from tensorflow.keras.callbacks import EarlyStopping\n",
        "EarlyStopping = EarlyStopping(monitor='val_loss', patience=3)"
      ]
    },
    {
      "cell_type": "code",
      "execution_count": null,
      "metadata": {
        "colab": {
          "base_uri": "https://localhost:8080/"
        },
        "id": "ZYWLEewwjjVX",
        "outputId": "dd2f3c08-cdb4-40ba-9efc-d5c7ef5726fd"
      },
      "outputs": [
        {
          "name": "stdout",
          "output_type": "stream",
          "text": [
            "Epoch 1/40\n",
            "16/16 [==============================] - 3s 100ms/step - loss: 2.0871 - accuracy: 0.3901 - val_loss: 1.1281 - val_accuracy: 0.3584\n",
            "Epoch 2/40\n",
            "16/16 [==============================] - 1s 44ms/step - loss: 1.0633 - accuracy: 0.5042 - val_loss: 1.0118 - val_accuracy: 0.4990\n",
            "Epoch 3/40\n",
            "16/16 [==============================] - 1s 44ms/step - loss: 0.9620 - accuracy: 0.5317 - val_loss: 0.8768 - val_accuracy: 0.5898\n",
            "Epoch 4/40\n",
            "16/16 [==============================] - 1s 51ms/step - loss: 0.8474 - accuracy: 0.6272 - val_loss: 0.7736 - val_accuracy: 0.6719\n",
            "Epoch 5/40\n",
            "16/16 [==============================] - 1s 54ms/step - loss: 0.7213 - accuracy: 0.6975 - val_loss: 0.6734 - val_accuracy: 0.7246\n",
            "Epoch 6/40\n",
            "16/16 [==============================] - 1s 50ms/step - loss: 0.5751 - accuracy: 0.7756 - val_loss: 0.5428 - val_accuracy: 0.7939\n",
            "Epoch 7/40\n",
            "16/16 [==============================] - 1s 50ms/step - loss: 0.4451 - accuracy: 0.8318 - val_loss: 0.4626 - val_accuracy: 0.8418\n",
            "Epoch 8/40\n",
            "16/16 [==============================] - 1s 47ms/step - loss: 0.2979 - accuracy: 0.9172 - val_loss: 0.3775 - val_accuracy: 0.8594\n",
            "Epoch 9/40\n",
            "16/16 [==============================] - 1s 44ms/step - loss: 0.1938 - accuracy: 0.9553 - val_loss: 0.3055 - val_accuracy: 0.8965\n",
            "Epoch 10/40\n",
            "16/16 [==============================] - 1s 45ms/step - loss: 0.1219 - accuracy: 0.9783 - val_loss: 0.2497 - val_accuracy: 0.9111\n",
            "Epoch 11/40\n",
            "16/16 [==============================] - 1s 45ms/step - loss: 0.0894 - accuracy: 0.9851 - val_loss: 0.2189 - val_accuracy: 0.9316\n",
            "Epoch 12/40\n",
            "16/16 [==============================] - 1s 50ms/step - loss: 0.0611 - accuracy: 0.9934 - val_loss: 0.2018 - val_accuracy: 0.9209\n",
            "Epoch 13/40\n",
            "16/16 [==============================] - 1s 46ms/step - loss: 0.0395 - accuracy: 0.9961 - val_loss: 0.1908 - val_accuracy: 0.9355\n",
            "Epoch 14/40\n",
            "16/16 [==============================] - 1s 51ms/step - loss: 0.0269 - accuracy: 0.9988 - val_loss: 0.1819 - val_accuracy: 0.9395\n",
            "Epoch 15/40\n",
            "16/16 [==============================] - 1s 45ms/step - loss: 0.0207 - accuracy: 1.0000 - val_loss: 0.1641 - val_accuracy: 0.9473\n",
            "Epoch 16/40\n",
            "16/16 [==============================] - 1s 45ms/step - loss: 0.0144 - accuracy: 1.0000 - val_loss: 0.1677 - val_accuracy: 0.9453\n",
            "Epoch 17/40\n",
            "16/16 [==============================] - 1s 46ms/step - loss: 0.0102 - accuracy: 1.0000 - val_loss: 0.1438 - val_accuracy: 0.9531\n",
            "Epoch 18/40\n",
            "16/16 [==============================] - 1s 45ms/step - loss: 0.0084 - accuracy: 1.0000 - val_loss: 0.1556 - val_accuracy: 0.9502\n",
            "Epoch 19/40\n",
            "16/16 [==============================] - 1s 46ms/step - loss: 0.0078 - accuracy: 1.0000 - val_loss: 0.1420 - val_accuracy: 0.9512\n",
            "Epoch 20/40\n",
            "16/16 [==============================] - 1s 46ms/step - loss: 0.0068 - accuracy: 1.0000 - val_loss: 0.1387 - val_accuracy: 0.9551\n",
            "Epoch 21/40\n",
            "16/16 [==============================] - 1s 45ms/step - loss: 0.0048 - accuracy: 1.0000 - val_loss: 0.1422 - val_accuracy: 0.9570\n",
            "Epoch 22/40\n",
            "16/16 [==============================] - 1s 54ms/step - loss: 0.0040 - accuracy: 1.0000 - val_loss: 0.1404 - val_accuracy: 0.9531\n",
            "Epoch 23/40\n",
            "16/16 [==============================] - 1s 54ms/step - loss: 0.0035 - accuracy: 1.0000 - val_loss: 0.1361 - val_accuracy: 0.9541\n",
            "Epoch 24/40\n",
            "16/16 [==============================] - 1s 56ms/step - loss: 0.0031 - accuracy: 1.0000 - val_loss: 0.1381 - val_accuracy: 0.9541\n",
            "Epoch 25/40\n",
            "16/16 [==============================] - 1s 53ms/step - loss: 0.0027 - accuracy: 1.0000 - val_loss: 0.1342 - val_accuracy: 0.9541\n",
            "Epoch 26/40\n",
            "16/16 [==============================] - 1s 51ms/step - loss: 0.0024 - accuracy: 1.0000 - val_loss: 0.1318 - val_accuracy: 0.9570\n",
            "Epoch 27/40\n",
            "16/16 [==============================] - 1s 46ms/step - loss: 0.0022 - accuracy: 1.0000 - val_loss: 0.1359 - val_accuracy: 0.9570\n",
            "Epoch 28/40\n",
            "16/16 [==============================] - 1s 46ms/step - loss: 0.0020 - accuracy: 1.0000 - val_loss: 0.1376 - val_accuracy: 0.9580\n",
            "Epoch 29/40\n",
            "16/16 [==============================] - 1s 45ms/step - loss: 0.0018 - accuracy: 1.0000 - val_loss: 0.1361 - val_accuracy: 0.9580\n"
          ]
        }
      ],
      "source": [
        "# fit model3\n",
        "history3 = model3.fit(train_data,\n",
        "                      train_labels,\n",
        "                      epochs=40,\n",
        "                      batch_size=256,\n",
        "                      validation_split= 0.2,\n",
        "                      verbose=True,\n",
        "                      callbacks = [EarlyStopping])"
      ]
    },
    {
      "cell_type": "code",
      "execution_count": null,
      "metadata": {
        "colab": {
          "base_uri": "https://localhost:8080/"
        },
        "id": "Zm77MScR4o_W",
        "outputId": "c2c31b77-1145-4a95-9b72-5bf70cc7a4c7"
      },
      "outputs": [
        {
          "name": "stdout",
          "output_type": "stream",
          "text": [
            "40/40 [==============================] - 0s 4ms/step - loss: 0.1714 - accuracy: 0.9500\n"
          ]
        },
        {
          "data": {
            "text/plain": [
              "[0.17136509716510773, 0.949999988079071]"
            ]
          },
          "execution_count": 45,
          "metadata": {},
          "output_type": "execute_result"
        }
      ],
      "source": [
        "# Evaluate model3\n",
        "model3.evaluate(test_data, test_labels)"
      ]
    },
    {
      "cell_type": "markdown",
      "source": [
        "The introduction of data augmentation techniques and the ADAM optimizer significantly enhanced the accuracy of this model, increasing it from 92.8% to 95% compared to the previous model. This improvement underscores the effectiveness of these strategies in boosting model performance.\n"
      ],
      "metadata": {
        "id": "6vglDQfTABea"
      }
    },
    {
      "cell_type": "code",
      "execution_count": null,
      "metadata": {
        "id": "nwA_26KKjjTA"
      },
      "outputs": [],
      "source": [
        "# save the model\n",
        "model3.save('/content/drive/MyDrive/Colab Notebooks/AL & ML/Final Project/model3_acc_95.keras')"
      ]
    },
    {
      "cell_type": "code",
      "execution_count": null,
      "metadata": {
        "colab": {
          "base_uri": "https://localhost:8080/",
          "height": 256
        },
        "id": "RJNDNPNojjQb",
        "outputId": "eb3b4ef3-5c9b-4d8c-ed87-9b58ca0f927e"
      },
      "outputs": [
        {
          "data": {
            "image/png": "[encoded data removed]",
            "text/plain": [
              "<Figure size 1000x200 with 2 Axes>"
            ]
          },
          "metadata": {},
          "output_type": "display_data"
        }
      ],
      "source": [
        "# Plot train vs test accuracy per epoch\n",
        "fig, ax = plt.subplots(1,2, figsize=(10, 2))\n",
        "\n",
        "fig.suptitle('Model3', fontsize=16)\n",
        "#Loss\n",
        "ax[0].plot(history3.history['loss'])\n",
        "ax[0].plot(history3.history['val_loss'])\n",
        "ax[0].set_title(\"Loss\")\n",
        "ax[0].set_xlabel('epochs')\n",
        "ax[0].set_ylabel('loss')\n",
        "ax[0].legend(['Train', 'Validation'])\n",
        "\n",
        "#Accuracy\n",
        "ax[1].plot(history3.history['accuracy'])\n",
        "ax[1].plot(history3.history['val_accuracy'])\n",
        "ax[1].set_title(\"Accuracy\")\n",
        "ax[1].set_xlabel('epochs')\n",
        "ax[1].set_ylabel('accuracy')\n",
        "ax[1].legend(['Train', 'Validation'])\n",
        "\n",
        "plt.show()"
      ]
    },
    {
      "cell_type": "markdown",
      "source": [
        "The loss curves indicate that this model is performing well, characterized by a high accuracy and similar training and validation curves—a positive indicator of model health. It appears to be free of overfitting, likely attributable to the data augmentation techniques employed, as well as the optimal batch size and the implementation of early stopping criteria. These measures have collectively contributed to a robust model that generalizes well to new data."
      ],
      "metadata": {
        "id": "veuowynIAXds"
      }
    },
    {
      "cell_type": "markdown",
      "metadata": {
        "id": "SA7TX64b6o1x"
      },
      "source": [
        "# GridSearch"
      ]
    },
    {
      "cell_type": "markdown",
      "source": [
        "Tuning hyperparameters is crucial to achieving the best possible model for our data. One method to accomplish this is through the use of grid search or random search, which iterates over various parameters and records the validation loss values. Grid search methodically iterates over the first value of one hyperparameter, keeping all others constant, then proceeds with the other values of the same hyperparameter, and so on, until all iterations are completed. However, the challenge with grid search, particularly in this context, is the vast number of hyperparameters to tune, each with multiple options, making it computationally expensive. An alternative is random search, which operates similarly but selects the hyperparameter values randomly for each iteration. This approach then identifies the combination of hyperparameters yielding the best outcome (i.e., the lowest loss function) as the optimal choice."
      ],
      "metadata": {
        "id": "m015goYrA329"
      }
    },
    {
      "cell_type": "code",
      "execution_count": null,
      "metadata": {
        "colab": {
          "base_uri": "https://localhost:8080/"
        },
        "id": "HYGhrhHIHO_8",
        "outputId": "025c3b28-98b5-4968-eb01-eca923af8c6a"
      },
      "outputs": [
        {
          "output_type": "stream",
          "name": "stdout",
          "text": [
            "Collecting scikeras\n",
            "  Downloading scikeras-0.12.0-py3-none-any.whl (27 kB)\n",
            "Requirement already satisfied: packaging>=0.21 in /usr/local/lib/python3.10/dist-packages (from scikeras) (24.0)\n",
            "Requirement already satisfied: scikit-learn>=1.0.0 in /usr/local/lib/python3.10/dist-packages (from scikeras) (1.2.2)\n",
            "Requirement already satisfied: numpy>=1.17.3 in /usr/local/lib/python3.10/dist-packages (from scikit-learn>=1.0.0->scikeras) (1.25.2)\n",
            "Requirement already satisfied: scipy>=1.3.2 in /usr/local/lib/python3.10/dist-packages (from scikit-learn>=1.0.0->scikeras) (1.11.4)\n",
            "Requirement already satisfied: joblib>=1.1.1 in /usr/local/lib/python3.10/dist-packages (from scikit-learn>=1.0.0->scikeras) (1.3.2)\n",
            "Requirement already satisfied: threadpoolctl>=2.0.0 in /usr/local/lib/python3.10/dist-packages (from scikit-learn>=1.0.0->scikeras) (3.4.0)\n",
            "Installing collected packages: scikeras\n",
            "Successfully installed scikeras-0.12.0\n"
          ]
        }
      ],
      "source": [
        "# Install only if it wasent installed before\n",
        "!pip install scikeras"
      ]
    },
    {
      "cell_type": "code",
      "execution_count": null,
      "metadata": {
        "id": "FC3XODBRHjF8"
      },
      "outputs": [],
      "source": [
        "#import libraries for manipulation of the objects to perfome hyperparameter tuning if needed\n",
        "from scikeras.wrappers import KerasClassifier, KerasRegressor"
      ]
    },
    {
      "cell_type": "code",
      "execution_count": null,
      "metadata": {
        "id": "cKojdz40_7HQ"
      },
      "outputs": [],
      "source": [
        "# Import GridSearch for the cross validation GridSearch\n",
        "from sklearn.model_selection import GridSearchCV"
      ]
    },
    {
      "cell_type": "code",
      "execution_count": null,
      "metadata": {
        "colab": {
          "base_uri": "https://localhost:8080/"
        },
        "id": "i-pxpd7IpDR4",
        "outputId": "57eee028-40e1-4f9a-eb96-8e625ebbe0c1"
      },
      "outputs": [
        {
          "output_type": "stream",
          "name": "stdout",
          "text": [
            "Collecting keras-tuner\n",
            "  Downloading keras_tuner-1.4.7-py3-none-any.whl (129 kB)\n",
            "\u001b[?25l     \u001b[90m━━━━━━━━━━━━━━━━━━━━━━━━━━━━━━━━━━━━━━━━\u001b[0m \u001b[32m0.0/129.1 kB\u001b[0m \u001b[31m?\u001b[0m eta \u001b[36m-:--:--\u001b[0m\r\u001b[2K     \u001b[91m━━━━━━━━━━━━━━━━━━━━━━━━━━━━━━━━━━━━━━\u001b[0m\u001b[90m╺\u001b[0m\u001b[90m━\u001b[0m \u001b[32m122.9/129.1 kB\u001b[0m \u001b[31m4.1 MB/s\u001b[0m eta \u001b[36m0:00:01\u001b[0m\r\u001b[2K     \u001b[90m━━━━━━━━━━━━━━━━━━━━━━━━━━━━━━━━━━━━━━━━\u001b[0m \u001b[32m129.1/129.1 kB\u001b[0m \u001b[31m3.2 MB/s\u001b[0m eta \u001b[36m0:00:00\u001b[0m\n",
            "\u001b[?25hRequirement already satisfied: keras in /usr/local/lib/python3.10/dist-packages (from keras-tuner) (2.15.0)\n",
            "Requirement already satisfied: packaging in /usr/local/lib/python3.10/dist-packages (from keras-tuner) (24.0)\n",
            "Requirement already satisfied: requests in /usr/local/lib/python3.10/dist-packages (from keras-tuner) (2.31.0)\n",
            "Collecting kt-legacy (from keras-tuner)\n",
            "  Downloading kt_legacy-1.0.5-py3-none-any.whl (9.6 kB)\n",
            "Requirement already satisfied: charset-normalizer<4,>=2 in /usr/local/lib/python3.10/dist-packages (from requests->keras-tuner) (3.3.2)\n",
            "Requirement already satisfied: idna<4,>=2.5 in /usr/local/lib/python3.10/dist-packages (from requests->keras-tuner) (3.6)\n",
            "Requirement already satisfied: urllib3<3,>=1.21.1 in /usr/local/lib/python3.10/dist-packages (from requests->keras-tuner) (2.0.7)\n",
            "Requirement already satisfied: certifi>=2017.4.17 in /usr/local/lib/python3.10/dist-packages (from requests->keras-tuner) (2024.2.2)\n",
            "Installing collected packages: kt-legacy, keras-tuner\n",
            "Successfully installed keras-tuner-1.4.7 kt-legacy-1.0.5\n"
          ]
        }
      ],
      "source": [
        "# Install the keras-tuner for the GridSearch\n",
        "pip install keras-tuner --upgrade"
      ]
    },
    {
      "cell_type": "code",
      "execution_count": null,
      "metadata": {
        "id": "i5OR_5mCnftc"
      },
      "outputs": [],
      "source": [
        "# import the libraries needed for the RandomSearch\n",
        "import keras_tuner\n",
        "import keras"
      ]
    },
    {
      "cell_type": "code",
      "execution_count": null,
      "metadata": {
        "id": "lzdRYYoA4o7O"
      },
      "outputs": [],
      "source": [
        "#Define the augmentation layer\n",
        "data_augmentation = tensorflow.keras.Sequential([\n",
        "  layers.RandomFlip(\"horizontal\", seed = 2024),\n",
        "  keras.layers.RandomZoom((.2, .2), seed=2024),\n",
        "  keras.layers.RandomContrast(0.2, seed=2024)\n",
        "])\n",
        "\n",
        "def define_modelGS(hp):\n",
        "    # Define the Sequential model class for our case\n",
        "    model = Sequential()\n",
        "    # Define the layers of our network\n",
        "    model.add(Conv2D(filters=9, kernel_size= (5,5), activation='relu',kernel_initializer='he_uniform', input_shape=(128, 128, 1)))\n",
        "    model.add(MaxPooling2D(pool_size=(2, 2)))\n",
        "    model.add(Conv2D(filters=20, kernel_size=(4, 4), activation='relu', kernel_initializer='he_uniform'))\n",
        "    model.add(MaxPooling2D(pool_size=(2, 2)))\n",
        "    model.add(Flatten())\n",
        "    model.add(Dense(120, activation='relu', kernel_initializer='he_uniform'))\n",
        "    model.add(Dense(100, activation='relu', kernel_initializer='he_uniform'))\n",
        "    model.add(Dense(4, activation='softmax'))\n",
        "\n",
        "    # Choose an optimal value from 0.01, 0.001, or 0.0001\n",
        "    hp_learning_rate = hp.Choice('learning_rate', values=[0.01, 0.001, 0.0001])\n",
        "\n",
        "    # Tune the optimizer\n",
        "    hp_optimizer = hp.Choice('optimizer', values=['SGD', 'Adam', 'RMSprop'])\n",
        "\n",
        "    # compile model and training configuration\n",
        "    if hp_optimizer == 'Adam':\n",
        "      optimizer = keras.optimizers.Adam(learning_rate = hp_learning_rate)\n",
        "    elif hp_optimizer == 'SGD':\n",
        "        optimizer = keras.optimizers.SGD(learning_rate = hp_learning_rate)\n",
        "    else:\n",
        "      optimizer = keras.optimizers.RMSprop(learning_rate = hp_learning_rate)\n",
        "\n",
        "    model.compile(optimizer = optimizer, loss='categorical_crossentropy', metrics=['accuracy'])\n",
        "\n",
        "    return model"
      ]
    },
    {
      "cell_type": "code",
      "execution_count": null,
      "metadata": {
        "id": "CvLo3eIupZuU"
      },
      "outputs": [],
      "source": [
        "#Define the tuner\n",
        "tuner = keras_tuner.RandomSearch(\n",
        "    define_modelGS,\n",
        "    objective='val_loss',\n",
        "    max_trials=5)"
      ]
    },
    {
      "cell_type": "code",
      "execution_count": null,
      "metadata": {
        "colab": {
          "base_uri": "https://localhost:8080/"
        },
        "id": "YuJt-xj0p--8",
        "outputId": "7d33fc5a-6aae-4c6b-aad4-db231c5fe6fa"
      },
      "outputs": [
        {
          "name": "stdout",
          "output_type": "stream",
          "text": [
            "Trial 5 Complete [00h 00m 35s]\n",
            "val_loss: 0.09344930946826935\n",
            "\n",
            "Best val_loss So Far: 0.09344930946826935\n",
            "Total elapsed time: 00h 03m 21s\n"
          ]
        }
      ],
      "source": [
        "# Run the RandomSearch\n",
        "tuner.search(train_data, train_labels, epochs= 20, validation_data=(test_data, test_labels))"
      ]
    },
    {
      "cell_type": "markdown",
      "source": [
        "The architecture from the previous model was yielding satisfactory results, so the hyperparameters selected for tuning in the random search were the optimizer (ADAM, SGD, RMSprop) and the learning rate (0.01, 0.001, 0.0001). The outcomes indicated that a learning rate of 0.001 combined with the ADAM optimizer produced the best results."
      ],
      "metadata": {
        "id": "l5k3BEl6zcE7"
      }
    },
    {
      "cell_type": "code",
      "execution_count": null,
      "metadata": {
        "colab": {
          "base_uri": "https://localhost:8080/"
        },
        "id": "A-DAMHz8x0mM",
        "outputId": "65c8d96c-f107-4bfb-bbf2-8912d2151a1b"
      },
      "outputs": [
        {
          "name": "stdout",
          "output_type": "stream",
          "text": [
            "Results summary\n",
            "Results in ./untitled_project\n",
            "Showing 10 best trials\n",
            "Objective(name=\"val_loss\", direction=\"min\")\n",
            "\n",
            "Trial 4 summary\n",
            "Hyperparameters:\n",
            "learning_rate: 0.001\n",
            "optimizer: Adam\n",
            "Score: 0.08374065905809402\n",
            "\n",
            "Trial 2 summary\n",
            "Hyperparameters:\n",
            "learning_rate: 0.001\n",
            "optimizer: RMSprop\n",
            "Score: 0.0862564742565155\n",
            "\n",
            "Trial 0 summary\n",
            "Hyperparameters:\n",
            "learning_rate: 0.0001\n",
            "optimizer: Adam\n",
            "Score: 0.1023196130990982\n",
            "\n",
            "Trial 1 summary\n",
            "Hyperparameters:\n",
            "learning_rate: 0.0001\n",
            "optimizer: SGD\n",
            "Score: 0.8987330198287964\n",
            "\n",
            "Trial 3 summary\n",
            "Hyperparameters:\n",
            "learning_rate: 0.01\n",
            "optimizer: Adam\n",
            "Score: 1.0376441478729248\n"
          ]
        }
      ],
      "source": [
        "# Summary of the tuner\n",
        "tuner.results_summary()"
      ]
    },
    {
      "cell_type": "code",
      "execution_count": null,
      "metadata": {
        "colab": {
          "base_uri": "https://localhost:8080/"
        },
        "id": "8UMo4w8Kr4GA",
        "outputId": "f016e673-0a84-4870-cee1-9fd4e1c4e2f4"
      },
      "outputs": [
        {
          "name": "stdout",
          "output_type": "stream",
          "text": [
            "Search space summary\n",
            "Default search space size: 2\n",
            "learning_rate (Choice)\n",
            "{'default': 0.01, 'conditions': [], 'values': [0.01, 0.001, 0.0001], 'ordered': True}\n",
            "optimizer (Choice)\n",
            "{'default': 'SGD', 'conditions': [], 'values': ['SGD', 'Adam', 'RMSprop'], 'ordered': False}\n"
          ]
        }
      ],
      "source": [
        "# Summary of the search\n",
        "tuner.search_space_summary()"
      ]
    },
    {
      "cell_type": "markdown",
      "metadata": {
        "id": "FcXfFZenyXnI"
      },
      "source": [
        "# Best Model\n"
      ]
    },
    {
      "cell_type": "markdown",
      "source": [
        "Finally, `model_best` is stablished, incorporating the most effective architecture identified from the initial models along with the hyperparameters determined through the Grid Search process. This model represents the culmination of our optimization part, synthesizing the optimal structural and operational parameters to achieve the best possible performance.\n",
        "\n"
      ],
      "metadata": {
        "id": "f8RZMd--0MKk"
      }
    },
    {
      "cell_type": "code",
      "execution_count": null,
      "metadata": {
        "colab": {
          "base_uri": "https://localhost:8080/"
        },
        "id": "NofplyswqFn8",
        "outputId": "af2ef7b0-a18c-4ec9-c483-44332c18fe89"
      },
      "outputs": [
        {
          "name": "stdout",
          "output_type": "stream",
          "text": [
            "Model: \"sequential_4\"\n",
            "_________________________________________________________________\n",
            " Layer (type)                Output Shape              Param #   \n",
            "=================================================================\n",
            " conv2d_4 (Conv2D)           (None, 124, 124, 9)       234       \n",
            "                                                                 \n",
            " max_pooling2d_4 (MaxPoolin  (None, 62, 62, 9)         0         \n",
            " g2D)                                                            \n",
            "                                                                 \n",
            " conv2d_5 (Conv2D)           (None, 59, 59, 20)        2900      \n",
            "                                                                 \n",
            " max_pooling2d_5 (MaxPoolin  (None, 29, 29, 20)        0         \n",
            " g2D)                                                            \n",
            "                                                                 \n",
            " flatten_2 (Flatten)         (None, 16820)             0         \n",
            "                                                                 \n",
            " dense_6 (Dense)             (None, 120)               2018520   \n",
            "                                                                 \n",
            " dense_7 (Dense)             (None, 100)               12100     \n",
            "                                                                 \n",
            " dense_8 (Dense)             (None, 4)                 404       \n",
            "                                                                 \n",
            "=================================================================\n",
            "Total params: 2034158 (7.76 MB)\n",
            "Trainable params: 2034158 (7.76 MB)\n",
            "Non-trainable params: 0 (0.00 Byte)\n",
            "_________________________________________________________________\n"
          ]
        }
      ],
      "source": [
        "# Creating the model with the RandomSearch outcome and name it model_best\n",
        "data_augmentation = tensorflow.keras.Sequential([\n",
        "  layers.RandomFlip(\"horizontal\", seed = 2024),\n",
        "  keras.layers.RandomZoom((.2, .2), seed=2024),\n",
        "  keras.layers.RandomContrast(0.2, seed=2024)\n",
        "])\n",
        "\n",
        "def define_best():\n",
        "    # Define the Sequential model class for our case\n",
        "    model = Sequential()\n",
        "    # Define the layers of our network\n",
        "    model.add(Conv2D(filters=9, kernel_size= (5,5), activation='relu',kernel_initializer='he_uniform', input_shape=(128, 128, 1)))\n",
        "    model.add(MaxPooling2D(pool_size=(2, 2)))\n",
        "    model.add(Conv2D(filters=20, kernel_size=(4, 4), activation='relu', kernel_initializer='he_uniform'))\n",
        "    model.add(MaxPooling2D(pool_size=(2, 2)))\n",
        "    model.add(Flatten())\n",
        "    model.add(Dense(120, activation='relu', kernel_initializer='he_uniform'))\n",
        "    model.add(Dense(100, activation='relu', kernel_initializer='he_uniform'))\n",
        "    model.add(Dense(4, activation='softmax'))\n",
        "\n",
        "    # compile model and training configuration\n",
        "    optimizer = keras.optimizers.Adam(learning_rate = 0.001)\n",
        "\n",
        "    model.compile(optimizer = optimizer, loss='categorical_crossentropy', metrics=['accuracy'])\n",
        "\n",
        "    return model\n",
        "# Assign the model the model_best\n",
        "model_best= define_best()\n",
        "model_best.summary()"
      ]
    },
    {
      "cell_type": "code",
      "execution_count": null,
      "metadata": {
        "id": "LAj9AkQFzD8U"
      },
      "outputs": [],
      "source": [
        "# Instantiate an early stopping\n",
        "from tensorflow.keras.callbacks import EarlyStopping\n",
        "EarlyStopping = EarlyStopping(monitor='val_loss', patience=3)"
      ]
    },
    {
      "cell_type": "code",
      "execution_count": null,
      "metadata": {
        "colab": {
          "base_uri": "https://localhost:8080/"
        },
        "id": "NUe4YY30qFkD",
        "outputId": "3a47d874-5e5f-43fd-d810-15e25e9ce16d"
      },
      "outputs": [
        {
          "name": "stdout",
          "output_type": "stream",
          "text": [
            "Epoch 1/10\n",
            "128/128 [==============================] - 4s 15ms/step - loss: 1.0345 - accuracy: 0.5439 - val_loss: 0.8379 - val_accuracy: 0.5957\n",
            "Epoch 2/10\n",
            "128/128 [==============================] - 2s 14ms/step - loss: 0.5685 - accuracy: 0.7683 - val_loss: 0.5409 - val_accuracy: 0.7588\n",
            "Epoch 3/10\n",
            "128/128 [==============================] - 1s 9ms/step - loss: 0.2170 - accuracy: 0.9243 - val_loss: 0.2829 - val_accuracy: 0.8848\n",
            "Epoch 4/10\n",
            "128/128 [==============================] - 1s 8ms/step - loss: 0.0867 - accuracy: 0.9731 - val_loss: 0.1990 - val_accuracy: 0.9355\n",
            "Epoch 5/10\n",
            "128/128 [==============================] - 1s 8ms/step - loss: 0.0237 - accuracy: 0.9939 - val_loss: 0.2763 - val_accuracy: 0.9102\n",
            "Epoch 6/10\n",
            "128/128 [==============================] - 1s 8ms/step - loss: 0.0124 - accuracy: 0.9978 - val_loss: 0.1536 - val_accuracy: 0.9521\n",
            "Epoch 7/10\n",
            "128/128 [==============================] - 1s 8ms/step - loss: 0.0018 - accuracy: 1.0000 - val_loss: 0.1301 - val_accuracy: 0.9648\n",
            "Epoch 8/10\n",
            "128/128 [==============================] - 1s 8ms/step - loss: 8.7045e-04 - accuracy: 1.0000 - val_loss: 0.1314 - val_accuracy: 0.9639\n",
            "Epoch 9/10\n",
            "128/128 [==============================] - 1s 9ms/step - loss: 4.6850e-04 - accuracy: 1.0000 - val_loss: 0.1331 - val_accuracy: 0.9648\n",
            "Epoch 10/10\n",
            "128/128 [==============================] - 1s 10ms/step - loss: 3.4219e-04 - accuracy: 1.0000 - val_loss: 0.1352 - val_accuracy: 0.9648\n"
          ]
        }
      ],
      "source": [
        "# fit model_best\n",
        "history_best = model_best.fit(train_data,\n",
        "                      train_labels,\n",
        "                      epochs=10,\n",
        "                      batch_size=32,\n",
        "                      validation_split= 0.2,\n",
        "                      verbose=True,\n",
        "                      callbacks = [EarlyStopping]))"
      ]
    },
    {
      "cell_type": "code",
      "execution_count": null,
      "metadata": {
        "colab": {
          "base_uri": "https://localhost:8080/"
        },
        "id": "vU9ZAzlBN93L",
        "outputId": "fb427e6c-7e91-45ee-b84c-3899eb725e0c"
      },
      "outputs": [
        {
          "name": "stdout",
          "output_type": "stream",
          "text": [
            "40/40 [==============================] - 0s 4ms/step - loss: 0.1586 - accuracy: 0.9609\n"
          ]
        },
        {
          "data": {
            "text/plain": [
              "[0.15855829417705536, 0.9609375]"
            ]
          },
          "execution_count": 70,
          "metadata": {},
          "output_type": "execute_result"
        }
      ],
      "source": [
        "# evaluate model_best\n",
        "model_best.evaluate(test_data, test_labels)"
      ]
    },
    {
      "cell_type": "markdown",
      "source": [
        "The accuracy of model_best surpassed all previous models, achieving a 96% accuracy. Remarkably, it required only 8 epochs to reach the minimum validation loss value. This contrasts with Model 3, which, despite its similarities in architecture, differed in terms of the learning rate and batch size during training. These differences underline the impact of fine-tuned hyperparameters on the efficiency and effectiveness of model training.\n",
        "\n"
      ],
      "metadata": {
        "id": "OR8uHrE50l_K"
      }
    },
    {
      "cell_type": "code",
      "execution_count": null,
      "metadata": {
        "id": "uBr1vrtGzL_u"
      },
      "outputs": [],
      "source": [
        "# save the model\n",
        "model_best.save('/content/drive/MyDrive/Colab Notebooks/AL & ML/Final Project/modelbest_acc_96.keras')"
      ]
    },
    {
      "cell_type": "code",
      "execution_count": null,
      "metadata": {
        "colab": {
          "base_uri": "https://localhost:8080/",
          "height": 256
        },
        "id": "9vxDg8pBzL2z",
        "outputId": "61f85c07-7766-413c-fd12-573491a6a062"
      },
      "outputs": [
        {
          "data": {
            "image/png": "[encoded data removed]",
            "text/plain": [
              "<Figure size 1000x200 with 2 Axes>"
            ]
          },
          "metadata": {},
          "output_type": "display_data"
        }
      ],
      "source": [
        "# Plot train vs test accuracy per epoch\n",
        "fig, ax = plt.subplots(1,2, figsize=(10, 2))\n",
        "\n",
        "fig.suptitle('Model Best', fontsize=16)\n",
        "# Loss\n",
        "ax[0].plot(history_best.history['loss'])\n",
        "ax[0].plot(history_best.history['val_loss'])\n",
        "ax[0].set_title(\"Loss\")\n",
        "ax[0].set_xlabel('epochs')\n",
        "ax[0].set_ylabel('loss')\n",
        "ax[0].legend(['Train', 'Validation'])\n",
        "\n",
        "#Accuracy\n",
        "ax[1].plot(history_best.history['accuracy'])\n",
        "ax[1].plot(history_best.history['val_accuracy'])\n",
        "ax[1].set_title(\"Accuracy\")\n",
        "ax[1].set_xlabel('epochs')\n",
        "ax[1].set_ylabel('accuracy')\n",
        "ax[1].legend(['Train', 'Validation'])\n",
        "\n",
        "plt.show()"
      ]
    },
    {
      "cell_type": "markdown",
      "source": [
        "The loss curves for `model_best` are stable and closely aligned, indicating a well-tuned model. They also demonstrate the effectiveness of the early stopping criteria, ceasing training precisely when further improvements cease and the validation loss reaches its minimum. This timely intervention ensures the model is neither under nor over-trained. Overall, model_best exhibits robust performance across both the training and testing datasets, affirming its quality and effectiveness."
      ],
      "metadata": {
        "id": "-CLCRl3C8Mzj"
      }
    },
    {
      "cell_type": "markdown",
      "metadata": {
        "id": "Z3lZZN6UF1vs"
      },
      "source": [
        "# Binary Data"
      ]
    },
    {
      "cell_type": "markdown",
      "source": [
        "In this section of the assignment, an alternative approach to the dataset will be explored. Here, all three types of dementia—Mild_Demented, Moderate_Demented, and Very_Mild_Demented— are joined into a single category, while the `Non_Demented` category remains unchanged.\n",
        "\n",
        "The algorithm is thus configured to make a binary prediction, indicating whether an individual has dementia (encompassing any level of dementia) or not. The labels are assigned as 0 for non-dementia and 1 for dementia."
      ],
      "metadata": {
        "id": "KHWM_9c69XA5"
      }
    },
    {
      "cell_type": "code",
      "execution_count": null,
      "metadata": {
        "id": "8DId3IBGN90j"
      },
      "outputs": [],
      "source": [
        "# Load the data again for the binary model\n",
        "train_binary_data = np.array(train['image'])\n",
        "train_binary_labels = np.array(train['label'])\n",
        "\n",
        "test_binary_data = np.array(test['image'])\n",
        "test_binary_labels = np.array(test['label'])\n",
        "\n",
        "img_height = train_data.shape[1]\n",
        "img_width = train_data.shape[2]"
      ]
    },
    {
      "cell_type": "markdown",
      "source": [
        "To transform our dataset into a binary classification problem, we begin by adjusting the labels. Given that our category Non_Demented currently holds the label 2, we proceed as follows:\n",
        "\n",
        "- Change the label 0 to 4.\n",
        "- Change the label 2 to 0.\n",
        "- Then, assign the label 1 to all instances representing any form of dementia.  \n",
        "\n",
        "Consequently, we establish two categories:\n",
        "\n",
        "- Category 0 for Non_Demented individuals.\n",
        "- Category 1 for Demented individuals.\n"
      ],
      "metadata": {
        "id": "20CgfBCh-rkV"
      }
    },
    {
      "cell_type": "code",
      "execution_count": null,
      "metadata": {
        "id": "o1qVZGHiN9wJ"
      },
      "outputs": [],
      "source": [
        "# change notation so that 0 is not dementia and 1 is any tipe of dementia\n",
        "train_binary_labels[train_binary_labels == 0.0] = 4.0\n",
        "train_binary_labels[train_binary_labels == 2.0] = 0.0\n",
        "\n",
        "test_binary_labels[test_binary_labels == 0.0] = 4.0\n",
        "test_binary_labels[test_binary_labels == 2.0] = 0.0\n",
        "\n",
        "train_binary_labels[train_binary_labels >= 1.0] = 1.0\n",
        "test_binary_labels[test_binary_labels >= 1.0] = 1.0\n",
        "\n",
        "train_binary_labels = np.asfarray(train_binary_labels)\n",
        "test_binary_labels = np.asfarray(test_binary_labels)"
      ]
    },
    {
      "cell_type": "code",
      "execution_count": null,
      "metadata": {
        "colab": {
          "base_uri": "https://localhost:8080/"
        },
        "id": "w2UoP16jN9mf",
        "outputId": "9afbfc08-2fc8-4406-f23b-5ad903ca9e18"
      },
      "outputs": [
        {
          "output_type": "execute_result",
          "data": {
            "text/plain": [
              "{0.0: 2566, 1.0: 2554}"
            ]
          },
          "metadata": {},
          "execution_count": 26
        }
      ],
      "source": [
        "# count and display the number of observations per class of the training\n",
        "unique, counts = np.unique(train_binary_labels, return_counts=True)\n",
        "dict(zip(unique, counts))"
      ]
    },
    {
      "cell_type": "code",
      "execution_count": null,
      "metadata": {
        "colab": {
          "base_uri": "https://localhost:8080/"
        },
        "id": "5p1vaKavS5Z6",
        "outputId": "ced263ce-aeba-4467-b6b9-4e97c9b2ca9e"
      },
      "outputs": [
        {
          "output_type": "execute_result",
          "data": {
            "text/plain": [
              "{0.0: 634, 1.0: 646}"
            ]
          },
          "metadata": {},
          "execution_count": 27
        }
      ],
      "source": [
        "# count and display the number of observations per class of the testing\n",
        "unique, counts = np.unique(test_binary_labels, return_counts=True)\n",
        "dict(zip(unique, counts))"
      ]
    },
    {
      "cell_type": "markdown",
      "source": [
        "Here we can see that the \"new\" dataset is fairly balanced. It consists of 2566 samples for the training set and 2554 samples for testing. Additionally, there are 634 samples in the training set and 646 samples in the testing set. This balance is generally beneficial for training the model effectively."
      ],
      "metadata": {
        "id": "-4BWB1Gr-ovt"
      }
    },
    {
      "cell_type": "code",
      "source": [
        "# Defining a model for finding the best hyperparameters\n",
        "def define_model_binary(hp):\n",
        "    # Define the Sequential model class for our case\n",
        "    model = Sequential()\n",
        "    # Define the layers of our network\n",
        "    model.add(Conv2D(filters=20, kernel_size=(5, 5), activation='relu',kernel_initializer='he_uniform', input_shape=(128, 128, 1)))\n",
        "    model.add(MaxPooling2D(pool_size=(2, 2)))\n",
        "    model.add(Conv2D(filters=60, kernel_size=(4, 4), activation='relu', kernel_initializer='he_uniform'))\n",
        "    model.add(MaxPooling2D(pool_size=(2, 2)))\n",
        "    model.add(Flatten())\n",
        "    for i in range(hp.Int('layers', 1,4)):\n",
        "      model.add(Dense(units = hp.Int('units_'+str(i), min_value = 60, max_value = 250, step = 10), activation='relu', kernel_initializer='he_uniform'))\n",
        "    model.add(Dense(1, activation='sigmoid'))\n",
        "\n",
        "    # Choose an optimal value from 0.01, 0.001, or 0.0001\n",
        "    hp_learning_rate = hp.Choice('learning_rate', values=[0.01, 0.001, 0.0001])\n",
        "\n",
        "    # Tune the optimizer\n",
        "    hp_optimizer = hp.Choice('optimizer', values=['SGD', 'Adam', 'RMSprop'])\n",
        "\n",
        "    # compile model and training configuration\n",
        "    if hp_optimizer == 'Adam':\n",
        "      optimizer = keras.optimizers.Adam(learning_rate = hp_learning_rate)\n",
        "    elif hp_optimizer == 'SGD':\n",
        "        optimizer = keras.optimizers.SGD(learning_rate = hp_learning_rate)\n",
        "    else:\n",
        "      optimizer = keras.optimizers.RMSprop(learning_rate = hp_learning_rate)\n",
        "\n",
        "    model.compile(optimizer = optimizer, loss='binary_crossentropy', metrics=[keras.metrics.Precision(), keras.metrics.Recall(), 'accuracy'])\n",
        "\n",
        "    return model"
      ],
      "metadata": {
        "id": "Rg2Vf-jJxoUK"
      },
      "execution_count": null,
      "outputs": []
    },
    {
      "cell_type": "markdown",
      "source": [
        "For this model, the RandomSearch will be executed to determine the number of layers for the Multilayer Perceptron (MLP), the optimal optimizer, and the suitable learning rate. In this instance, the loss function will be binary_crossentropy, unlike the other models where it was categorical_crossentropy due to having more than two categories. Additionally, the final layer will consist of a single node with a sigmoid activation function, essentially providing the probability of dementia occurrence."
      ],
      "metadata": {
        "id": "aNYkaiLwA4oT"
      }
    },
    {
      "cell_type": "code",
      "source": [
        "# define tuner for the RandomSearch\n",
        "tuner = keras_tuner.RandomSearch(\n",
        "    define_model_binary,\n",
        "    objective='val_loss',\n",
        "    max_trials=5)"
      ],
      "metadata": {
        "id": "q0errbPFyuhe"
      },
      "execution_count": null,
      "outputs": []
    },
    {
      "cell_type": "code",
      "source": [
        "# Find the best parameters\n",
        "tuner.search(train_data, train_binary_labels, epochs= 20, validation_data=(test_data, test_binary_labels))"
      ],
      "metadata": {
        "colab": {
          "base_uri": "https://localhost:8080/"
        },
        "id": "leh-qZHDyyNE",
        "outputId": "962366cb-ad16-473e-c1c6-f9c0ce271a8f"
      },
      "execution_count": null,
      "outputs": [
        {
          "output_type": "stream",
          "name": "stdout",
          "text": [
            "Trial 5 Complete [00h 26m 42s]\n",
            "val_loss: 0.6931040287017822\n",
            "\n",
            "Best val_loss So Far: 0.027780169621109962\n",
            "Total elapsed time: 02h 21m 16s\n"
          ]
        }
      ]
    },
    {
      "cell_type": "markdown",
      "source": [
        "The results of the RandomSearch indicate that the optimal number of hidden layers in the perceptron is 4, with 210, 160, 70, and 200 nodes respectively, and that the preferred optimizer should be RMSprop. Furthermore, the learning rate that yields the lowest loss function value is 0.001. Therefore, we will construct the model with these parameters and assess its performance."
      ],
      "metadata": {
        "id": "n5gIbsTqDPNA"
      }
    },
    {
      "cell_type": "code",
      "source": [
        "# summary of the best 10 hyperparameters\n",
        "tuner.results_summary()"
      ],
      "metadata": {
        "colab": {
          "base_uri": "https://localhost:8080/"
        },
        "id": "GPbRkS0ly3rF",
        "outputId": "9fc24278-0b2f-49d0-dc56-210059e2e2b5"
      },
      "execution_count": null,
      "outputs": [
        {
          "output_type": "stream",
          "name": "stdout",
          "text": [
            "Results summary\n",
            "Results in ./untitled_project\n",
            "Showing 10 best trials\n",
            "Objective(name=\"val_loss\", direction=\"min\")\n",
            "\n",
            "Trial 1 summary\n",
            "Hyperparameters:\n",
            "layers: 4\n",
            "units_0: 210\n",
            "learning_rate: 0.0001\n",
            "optimizer: RMSprop\n",
            "units_1: 160\n",
            "units_2: 70\n",
            "units_3: 200\n",
            "Score: 0.027780169621109962\n",
            "\n",
            "Trial 0 summary\n",
            "Hyperparameters:\n",
            "layers: 4\n",
            "units_0: 200\n",
            "learning_rate: 0.0001\n",
            "optimizer: RMSprop\n",
            "units_1: 60\n",
            "units_2: 60\n",
            "units_3: 60\n",
            "Score: 0.04046725481748581\n",
            "\n",
            "Trial 2 summary\n",
            "Hyperparameters:\n",
            "layers: 4\n",
            "units_0: 150\n",
            "learning_rate: 0.0001\n",
            "optimizer: SGD\n",
            "units_1: 60\n",
            "units_2: 200\n",
            "units_3: 90\n",
            "Score: 0.5182310342788696\n",
            "\n",
            "Trial 3 summary\n",
            "Hyperparameters:\n",
            "layers: 4\n",
            "units_0: 200\n",
            "learning_rate: 0.0001\n",
            "optimizer: SGD\n",
            "units_1: 170\n",
            "units_2: 170\n",
            "units_3: 60\n",
            "Score: 0.5614988803863525\n",
            "\n",
            "Trial 4 summary\n",
            "Hyperparameters:\n",
            "layers: 3\n",
            "units_0: 160\n",
            "learning_rate: 0.01\n",
            "optimizer: RMSprop\n",
            "units_1: 70\n",
            "units_2: 130\n",
            "units_3: 100\n",
            "Score: 0.6931040287017822\n"
          ]
        }
      ]
    },
    {
      "cell_type": "code",
      "execution_count": null,
      "metadata": {
        "colab": {
          "base_uri": "https://localhost:8080/"
        },
        "id": "Hu1JaIPJN9aw",
        "outputId": "314d3458-510c-4783-cf6a-d8d24de50e70"
      },
      "outputs": [
        {
          "output_type": "stream",
          "name": "stdout",
          "text": [
            "Model: \"sequential_2\"\n",
            "_________________________________________________________________\n",
            " Layer (type)                Output Shape              Param #   \n",
            "=================================================================\n",
            " conv2d_2 (Conv2D)           (None, 124, 124, 20)      520       \n",
            "                                                                 \n",
            " max_pooling2d_2 (MaxPoolin  (None, 62, 62, 20)        0         \n",
            " g2D)                                                            \n",
            "                                                                 \n",
            " conv2d_3 (Conv2D)           (None, 59, 59, 60)        19260     \n",
            "                                                                 \n",
            " max_pooling2d_3 (MaxPoolin  (None, 29, 29, 60)        0         \n",
            " g2D)                                                            \n",
            "                                                                 \n",
            " flatten_1 (Flatten)         (None, 50460)             0         \n",
            "                                                                 \n",
            " dense_4 (Dense)             (None, 210)               10596810  \n",
            "                                                                 \n",
            " dense_5 (Dense)             (None, 160)               33760     \n",
            "                                                                 \n",
            " dense_6 (Dense)             (None, 70)                11270     \n",
            "                                                                 \n",
            " dense_7 (Dense)             (None, 200)               14200     \n",
            "                                                                 \n",
            " dense_8 (Dense)             (None, 1)                 201       \n",
            "                                                                 \n",
            "=================================================================\n",
            "Total params: 10676021 (40.73 MB)\n",
            "Trainable params: 10676021 (40.73 MB)\n",
            "Non-trainable params: 0 (0.00 Byte)\n",
            "_________________________________________________________________\n"
          ]
        }
      ],
      "source": [
        "# import again the layes that are needed for the architecture\n",
        "from tensorflow.keras.models import Sequential\n",
        "from tensorflow.keras.layers import Conv2D, MaxPooling2D, Dense, Flatten\n",
        "from tensorflow.keras.optimizers import SGD\n",
        "\n",
        "#Define the augmentation data\n",
        "data_augmentation = tensorflow.keras.Sequential([\n",
        "  layers.RandomFlip(\"horizontal\", seed = 2024),\n",
        "  keras.layers.RandomZoom((.2, .2), seed=2024),\n",
        "  keras.layers.RandomContrast(0.2, seed=2024)\n",
        "])\n",
        "\n",
        "def define_model_binary():\n",
        "    # Define the Sequential model class for our case\n",
        "    model = Sequential()\n",
        "    # Define the layers of our network\n",
        "    model.add(Conv2D(filters=20, kernel_size=(5, 5), activation='relu',kernel_initializer='he_uniform', input_shape=(128, 128, 1)))\n",
        "    model.add(MaxPooling2D(pool_size=(2, 2)))\n",
        "    model.add(Conv2D(filters=60, kernel_size=(4, 4), activation='relu', kernel_initializer='he_uniform'))\n",
        "    model.add(MaxPooling2D(pool_size=(2, 2)))\n",
        "    model.add(Flatten())\n",
        "    model.add(Dense(210, activation='relu', kernel_initializer='he_uniform'))\n",
        "    model.add(Dense(160, activation='relu', kernel_initializer='he_uniform'))\n",
        "    model.add(Dense(70, activation='relu', kernel_initializer='he_uniform'))\n",
        "    model.add(Dense(200, activation='relu', kernel_initializer='he_uniform'))\n",
        "    model.add(Dense(1, activation='sigmoid'))\n",
        "\n",
        "    # compile model and training configuration\n",
        "    opt = keras.optimizers.RMSprop(learning_rate=0.0001)\n",
        "    model.compile(optimizer=opt, loss='binary_crossentropy', metrics=[keras.metrics.Precision(), keras.metrics.Recall(), 'accuracy'])\n",
        "\n",
        "    return model\n",
        "\n",
        "model_binary= define_model_binary()\n",
        "model_binary.summary()"
      ]
    },
    {
      "cell_type": "code",
      "execution_count": null,
      "metadata": {
        "id": "gCEHScUUN9YO"
      },
      "outputs": [],
      "source": [
        "# Instantiate an early stopping\n",
        "from tensorflow.keras.callbacks import EarlyStopping\n",
        "EarlyStopping = EarlyStopping(monitor='val_loss', patience=3)"
      ]
    },
    {
      "cell_type": "code",
      "execution_count": null,
      "metadata": {
        "colab": {
          "base_uri": "https://localhost:8080/"
        },
        "id": "SceMTXC6kUIy",
        "outputId": "b3ebb787-fe04-459a-b96c-ff01e3541489"
      },
      "outputs": [
        {
          "output_type": "stream",
          "name": "stdout",
          "text": [
            "Epoch 1/40\n",
            "128/128 [==============================] - 77s 599ms/step - loss: 0.7007 - precision_1: 0.5854 - recall_1: 0.5659 - accuracy: 0.5840 - val_loss: 0.5780 - val_precision_1: 0.7435 - val_recall_1: 0.6667 - val_accuracy: 0.7178\n",
            "Epoch 2/40\n",
            "128/128 [==============================] - 72s 561ms/step - loss: 0.5829 - precision_1: 0.6906 - recall_1: 0.7251 - accuracy: 0.7012 - val_loss: 0.6232 - val_precision_1: 0.6057 - val_recall_1: 0.9552 - val_accuracy: 0.6660\n",
            "Epoch 3/40\n",
            "128/128 [==============================] - 73s 569ms/step - loss: 0.5379 - precision_1: 0.7088 - recall_1: 0.7825 - accuracy: 0.7314 - val_loss: 0.4799 - val_precision_1: 0.7550 - val_recall_1: 0.8168 - val_accuracy: 0.7754\n",
            "Epoch 4/40\n",
            "128/128 [==============================] - 71s 556ms/step - loss: 0.4641 - precision_1: 0.7506 - recall_1: 0.8153 - accuracy: 0.7729 - val_loss: 0.4258 - val_precision_1: 0.7475 - val_recall_1: 0.8889 - val_accuracy: 0.7939\n",
            "Epoch 5/40\n",
            "128/128 [==============================] - 70s 549ms/step - loss: 0.3951 - precision_1: 0.8003 - recall_1: 0.8383 - accuracy: 0.8152 - val_loss: 0.3882 - val_precision_1: 0.7238 - val_recall_1: 0.9552 - val_accuracy: 0.7949\n",
            "Epoch 6/40\n",
            "128/128 [==============================] - 71s 555ms/step - loss: 0.3201 - precision_1: 0.8470 - recall_1: 0.8682 - accuracy: 0.8562 - val_loss: 0.3468 - val_precision_1: 0.9768 - val_recall_1: 0.7388 - val_accuracy: 0.8604\n",
            "Epoch 7/40\n",
            "128/128 [==============================] - 71s 552ms/step - loss: 0.2397 - precision_1: 0.9034 - recall_1: 0.9069 - accuracy: 0.9053 - val_loss: 0.2719 - val_precision_1: 0.8140 - val_recall_1: 0.9727 - val_accuracy: 0.8750\n",
            "Epoch 8/40\n",
            "128/128 [==============================] - 71s 552ms/step - loss: 0.1824 - precision_1: 0.9307 - recall_1: 0.9285 - accuracy: 0.9299 - val_loss: 0.1893 - val_precision_1: 0.9588 - val_recall_1: 0.9064 - val_accuracy: 0.9336\n",
            "Epoch 9/40\n",
            "128/128 [==============================] - 71s 556ms/step - loss: 0.1154 - precision_1: 0.9591 - recall_1: 0.9657 - accuracy: 0.9624 - val_loss: 0.2269 - val_precision_1: 0.9886 - val_recall_1: 0.8460 - val_accuracy: 0.9180\n",
            "Epoch 10/40\n",
            "128/128 [==============================] - 71s 558ms/step - loss: 0.0929 - precision_1: 0.9699 - recall_1: 0.9623 - accuracy: 0.9663 - val_loss: 0.1293 - val_precision_1: 0.9816 - val_recall_1: 0.9357 - val_accuracy: 0.9590\n",
            "Epoch 11/40\n",
            "128/128 [==============================] - 70s 546ms/step - loss: 0.0686 - precision_1: 0.9794 - recall_1: 0.9799 - accuracy: 0.9797 - val_loss: 0.1038 - val_precision_1: 0.9761 - val_recall_1: 0.9571 - val_accuracy: 0.9668\n",
            "Epoch 12/40\n",
            "128/128 [==============================] - 71s 557ms/step - loss: 0.0452 - precision_1: 0.9863 - recall_1: 0.9848 - accuracy: 0.9856 - val_loss: 0.0963 - val_precision_1: 0.9820 - val_recall_1: 0.9591 - val_accuracy: 0.9707\n",
            "Epoch 13/40\n",
            "128/128 [==============================] - 71s 557ms/step - loss: 0.0425 - precision_1: 0.9863 - recall_1: 0.9887 - accuracy: 0.9875 - val_loss: 0.1255 - val_precision_1: 0.9255 - val_recall_1: 0.9922 - val_accuracy: 0.9561\n",
            "Epoch 14/40\n",
            "128/128 [==============================] - 72s 563ms/step - loss: 0.0562 - precision_1: 0.9848 - recall_1: 0.9833 - accuracy: 0.9841 - val_loss: 0.0939 - val_precision_1: 0.9803 - val_recall_1: 0.9688 - val_accuracy: 0.9746\n",
            "Epoch 15/40\n",
            "128/128 [==============================] - 73s 566ms/step - loss: 0.0253 - precision_1: 0.9927 - recall_1: 0.9951 - accuracy: 0.9939 - val_loss: 0.0856 - val_precision_1: 0.9842 - val_recall_1: 0.9708 - val_accuracy: 0.9775\n",
            "Epoch 16/40\n",
            "128/128 [==============================] - 71s 555ms/step - loss: 0.0220 - precision_1: 0.9927 - recall_1: 0.9966 - accuracy: 0.9946 - val_loss: 2.4316 - val_precision_1: 1.0000 - val_recall_1: 0.1598 - val_accuracy: 0.5791\n",
            "Epoch 17/40\n",
            "128/128 [==============================] - 71s 554ms/step - loss: 0.0533 - precision_1: 0.9955 - recall_1: 0.9858 - accuracy: 0.9907 - val_loss: 0.0864 - val_precision_1: 0.9803 - val_recall_1: 0.9688 - val_accuracy: 0.9746\n",
            "Epoch 18/40\n",
            "128/128 [==============================] - 70s 548ms/step - loss: 0.0206 - precision_1: 0.9966 - recall_1: 0.9936 - accuracy: 0.9951 - val_loss: 0.0889 - val_precision_1: 0.9823 - val_recall_1: 0.9727 - val_accuracy: 0.9775\n"
          ]
        }
      ],
      "source": [
        "# fit model_binary\n",
        "history_binary = model_binary.fit(train_data,\n",
        "                      train_binary_labels,\n",
        "                      epochs = 40,\n",
        "                      batch_size = 32,\n",
        "                      validation_split = 0.2,\n",
        "                      verbose = 1,\n",
        "                      callbacks = [EarlyStopping])"
      ]
    },
    {
      "cell_type": "code",
      "execution_count": null,
      "metadata": {
        "colab": {
          "base_uri": "https://localhost:8080/"
        },
        "id": "BlJqKQhGkgG6",
        "outputId": "953fb004-5c97-4ac2-cef6-89f9b4c10679"
      },
      "outputs": [
        {
          "output_type": "stream",
          "name": "stdout",
          "text": [
            "40/40 [==============================] - 6s 142ms/step - loss: 0.0810 - precision_1: 0.9828 - recall_1: 0.9737 - accuracy: 0.9781\n"
          ]
        },
        {
          "output_type": "execute_result",
          "data": {
            "text/plain": [
              "[0.08095204830169678,\n",
              " 0.9828125238418579,\n",
              " 0.9736841917037964,\n",
              " 0.9781249761581421]"
            ]
          },
          "metadata": {},
          "execution_count": 35
        }
      ],
      "source": [
        "model_binary.evaluate(test_data, test_binary_labels)"
      ]
    },
    {
      "cell_type": "markdown",
      "source": [
        "The model needed 18 epochs to train accuracy is 97% and the precision is 98 and recall is 97.\n"
      ],
      "metadata": {
        "id": "0tq7t5IkGgRP"
      }
    },
    {
      "cell_type": "code",
      "execution_count": null,
      "metadata": {
        "colab": {
          "base_uri": "https://localhost:8080/",
          "height": 256
        },
        "id": "35Imzkjg5wbn",
        "outputId": "954124e7-0efb-4206-afb1-784d864f2f83"
      },
      "outputs": [
        {
          "output_type": "display_data",
          "data": {
            "text/plain": [
              "<Figure size 1000x200 with 2 Axes>"
            ],
            "image/png": "[encoded data removed]"
          },
          "metadata": {}
        }
      ],
      "source": [
        "# Plot train vs validation accuracy and Recall per epoch\n",
        "fig, ax = plt.subplots(1,2, figsize=(10, 2))\n",
        "\n",
        "fig.suptitle('Model binary', fontsize=16)\n",
        "# Loss\n",
        "ax[0].plot(history_binary.history['loss'])\n",
        "ax[0].plot(history_binary.history['val_loss'])\n",
        "ax[0].set_title(\"Loss\")\n",
        "ax[0].set_xlabel('epochs')\n",
        "ax[0].set_ylabel('Loss')\n",
        "ax[0].legend(['Train', 'Validation'])\n",
        "# Recall\n",
        "ax[1].plot(history_binary.history['recall_1'])\n",
        "ax[1].plot(history_binary.history['val_recall_1'])\n",
        "ax[1].set_title(\"Recall\")\n",
        "ax[1].set_xlabel('epochs')\n",
        "ax[1].set_ylabel('Recall')\n",
        "ax[1].legend(['Train', 'Validation'])\n",
        "\n",
        "plt.show()\n"
      ]
    },
    {
      "cell_type": "code",
      "execution_count": null,
      "metadata": {
        "colab": {
          "base_uri": "https://localhost:8080/"
        },
        "id": "JZ4UuDTZkG_K",
        "outputId": "a923c79e-dbe2-4b1a-a9da-80a59da8b9c6"
      },
      "outputs": [
        {
          "output_type": "stream",
          "name": "stdout",
          "text": [
            "40/40 [==============================] - 5s 127ms/step\n"
          ]
        },
        {
          "output_type": "execute_result",
          "data": {
            "text/plain": [
              "array([[ True],\n",
              "       [ True],\n",
              "       [False],\n",
              "       ...,\n",
              "       [ True],\n",
              "       [False],\n",
              "       [ True]])"
            ]
          },
          "metadata": {},
          "execution_count": 40
        }
      ],
      "source": [
        "# make predictions\n",
        "pred_binary  = model_binary.predict(test_data)\n",
        "pred_binary = pred_binary > 0.5\n",
        "pred_binary"
      ]
    },
    {
      "cell_type": "code",
      "execution_count": null,
      "metadata": {
        "colab": {
          "base_uri": "https://localhost:8080/",
          "height": 467
        },
        "id": "qxRsR_Pz7H11",
        "outputId": "06273475-ee40-4d66-fdcd-2edb812c2d75"
      },
      "outputs": [
        {
          "output_type": "execute_result",
          "data": {
            "text/plain": [
              "<sklearn.metrics._plot.confusion_matrix.ConfusionMatrixDisplay at 0x793089f5fe20>"
            ]
          },
          "metadata": {},
          "execution_count": 43
        },
        {
          "output_type": "display_data",
          "data": {
            "text/plain": [
              "<Figure size 640x480 with 2 Axes>"
            ],
            "image/png": "[encoded data removed]"
          },
          "metadata": {}
        }
      ],
      "source": [
        "from sklearn.metrics import confusion_matrix\n",
        "from sklearn import metrics\n",
        "# Draw the confussion matrix\n",
        "cm_binary =confusion_matrix(test_binary_labels , pred_binary)\n",
        "cm_binary = metrics.ConfusionMatrixDisplay(confusion_matrix = cm_binary , display_labels = [True, False])\n",
        "cm_binary.plot()"
      ]
    },
    {
      "cell_type": "markdown",
      "source": [
        "Here is the confusion matrix for the binary classification. When selecting a model, understanding the context of the problem is crucial, as it directs the choice of the appropriate metric. In medical scenarios, accuracy is often not the most critical metric because falsely diagnosing a patient with a condition they don't have carries different implications than failing to diagnose a condition they do have. With this in mind, a binary model was constructed to maximize recall (the model's ability to identify true positive cases) rather than overall accuracy. It is evident from the matrix that the model performs well in identifying both true positive and true negative cases, resulting in a high overall accuracy."
      ],
      "metadata": {
        "id": "ClRKhSSwI5hW"
      }
    },
    {
      "cell_type": "markdown",
      "source": [
        "# Conclusion"
      ],
      "metadata": {
        "id": "m49qszrCKoVn"
      }
    },
    {
      "cell_type": "markdown",
      "source": [
        "CNNs are widely used techniques in computer vision, particularly in machine learning models designed for image recognition and classification. Their application in analysing medical image data is key for enhancing the early detection of pathologies, offering a more accurate, cost-effective, and efficient means of diagnosis. This contributes significantly to improving the quality of healthcare systems globally, reducing treatment costs, and enhancing early detection and prevention programmes.\n",
        "\n",
        "AS could be seen in the models, experimentation with CNN architecture is essential for achieving satisfactory results and accurate predictions. While there is no predefined recipe dictating the optimal number of layers and nodes, initial explorations of different architectures provide valuable insights into the complexity of the problem. These findings guide professionals towards determining the most effective architecture for leveraging artificial neural networks (ANNs) in addressing the specific problem at hand.\n",
        "\n",
        "In this study, the best-performing model achieved a classification accuracy of 96%, which is notable for a model with four categories, where images from different categories may exhibit significant similarities. Additionally, the binary classification model demonstrated high accuracy, precision, and recall, effectively identifying positive cases of dementia.\n",
        "\n"
      ],
      "metadata": {
        "id": "vqbbr0oiKrES"
      }
    }
  ],
  "metadata": {
    "accelerator": "GPU",
    "colab": {
      "gpuType": "T4",
      "toc_visible": true,
      "provenance": [],
      "mount_file_id": "1kebdfab3FNN_lXBc0lkDyxZs0zCOwBNc",
      "authorship_tag": "ABX9TyOJMhMWzpoEpH23H9uHwW7B",
      "include_colab_link": true
    },
    "kernelspec": {
      "display_name": "Python 3",
      "name": "python3"
    },
    "language_info": {
      "name": "python"
    },
    "widgets": {
      "application/vnd.jupyter.widget-state+json": {
        "8174afa174194ff79e459eec3b283205": {
          "model_module": "@jupyter-widgets/controls",
          "model_name": "HBoxModel",
          "model_module_version": "1.5.0",
          "state": {
            "_dom_classes": [],
            "_model_module": "@jupyter-widgets/controls",
            "_model_module_version": "1.5.0",
            "_model_name": "HBoxModel",
            "_view_count": null,
            "_view_module": "@jupyter-widgets/controls",
            "_view_module_version": "1.5.0",
            "_view_name": "HBoxView",
            "box_style": "",
            "children": [
              "IPY_MODEL_923ba952b03343719bd7a7daa27ae658",
              "IPY_MODEL_d14c8f7680e14e45994ec9f267967526",
              "IPY_MODEL_f633f503d409458dbae54a7c9f16e02f"
            ],
            "layout": "IPY_MODEL_a56723881f8444adb2720e81f447701f"
          }
        },
        "923ba952b03343719bd7a7daa27ae658": {
          "model_module": "@jupyter-widgets/controls",
          "model_name": "HTMLModel",
          "model_module_version": "1.5.0",
          "state": {
            "_dom_classes": [],
            "_model_module": "@jupyter-widgets/controls",
            "_model_module_version": "1.5.0",
            "_model_name": "HTMLModel",
            "_view_count": null,
            "_view_module": "@jupyter-widgets/controls",
            "_view_module_version": "1.5.0",
            "_view_name": "HTMLView",
            "description": "",
            "description_tooltip": null,
            "layout": "IPY_MODEL_2ee2c45910bb4953abfac845b1cf218b",
            "placeholder": "​",
            "style": "IPY_MODEL_a741796c66514a7d878b5631f209521e",
            "value": "Downloading readme: 100%"
          }
        },
        "d14c8f7680e14e45994ec9f267967526": {
          "model_module": "@jupyter-widgets/controls",
          "model_name": "FloatProgressModel",
          "model_module_version": "1.5.0",
          "state": {
            "_dom_classes": [],
            "_model_module": "@jupyter-widgets/controls",
            "_model_module_version": "1.5.0",
            "_model_name": "FloatProgressModel",
            "_view_count": null,
            "_view_module": "@jupyter-widgets/controls",
            "_view_module_version": "1.5.0",
            "_view_name": "ProgressView",
            "bar_style": "success",
            "description": "",
            "description_tooltip": null,
            "layout": "IPY_MODEL_916c4d64e9604cbb901ebe3ae82903eb",
            "max": 2130,
            "min": 0,
            "orientation": "horizontal",
            "style": "IPY_MODEL_c3d5339b607949189410eff3f5d09c86",
            "value": 2130
          }
        },
        "f633f503d409458dbae54a7c9f16e02f": {
          "model_module": "@jupyter-widgets/controls",
          "model_name": "HTMLModel",
          "model_module_version": "1.5.0",
          "state": {
            "_dom_classes": [],
            "_model_module": "@jupyter-widgets/controls",
            "_model_module_version": "1.5.0",
            "_model_name": "HTMLModel",
            "_view_count": null,
            "_view_module": "@jupyter-widgets/controls",
            "_view_module_version": "1.5.0",
            "_view_name": "HTMLView",
            "description": "",
            "description_tooltip": null,
            "layout": "IPY_MODEL_4ac79b6339e6433199b304dda808c52e",
            "placeholder": "​",
            "style": "IPY_MODEL_aad5d00391a54f1995d664bddc192d15",
            "value": " 2.13k/2.13k [00:00&lt;00:00, 63.0kB/s]"
          }
        },
        "a56723881f8444adb2720e81f447701f": {
          "model_module": "@jupyter-widgets/base",
          "model_name": "LayoutModel",
          "model_module_version": "1.2.0",
          "state": {
            "_model_module": "@jupyter-widgets/base",
            "_model_module_version": "1.2.0",
            "_model_name": "LayoutModel",
            "_view_count": null,
            "_view_module": "@jupyter-widgets/base",
            "_view_module_version": "1.2.0",
            "_view_name": "LayoutView",
            "align_content": null,
            "align_items": null,
            "align_self": null,
            "border": null,
            "bottom": null,
            "display": null,
            "flex": null,
            "flex_flow": null,
            "grid_area": null,
            "grid_auto_columns": null,
            "grid_auto_flow": null,
            "grid_auto_rows": null,
            "grid_column": null,
            "grid_gap": null,
            "grid_row": null,
            "grid_template_areas": null,
            "grid_template_columns": null,
            "grid_template_rows": null,
            "height": null,
            "justify_content": null,
            "justify_items": null,
            "left": null,
            "margin": null,
            "max_height": null,
            "max_width": null,
            "min_height": null,
            "min_width": null,
            "object_fit": null,
            "object_position": null,
            "order": null,
            "overflow": null,
            "overflow_x": null,
            "overflow_y": null,
            "padding": null,
            "right": null,
            "top": null,
            "visibility": null,
            "width": null
          }
        },
        "2ee2c45910bb4953abfac845b1cf218b": {
          "model_module": "@jupyter-widgets/base",
          "model_name": "LayoutModel",
          "model_module_version": "1.2.0",
          "state": {
            "_model_module": "@jupyter-widgets/base",
            "_model_module_version": "1.2.0",
            "_model_name": "LayoutModel",
            "_view_count": null,
            "_view_module": "@jupyter-widgets/base",
            "_view_module_version": "1.2.0",
            "_view_name": "LayoutView",
            "align_content": null,
            "align_items": null,
            "align_self": null,
            "border": null,
            "bottom": null,
            "display": null,
            "flex": null,
            "flex_flow": null,
            "grid_area": null,
            "grid_auto_columns": null,
            "grid_auto_flow": null,
            "grid_auto_rows": null,
            "grid_column": null,
            "grid_gap": null,
            "grid_row": null,
            "grid_template_areas": null,
            "grid_template_columns": null,
            "grid_template_rows": null,
            "height": null,
            "justify_content": null,
            "justify_items": null,
            "left": null,
            "margin": null,
            "max_height": null,
            "max_width": null,
            "min_height": null,
            "min_width": null,
            "object_fit": null,
            "object_position": null,
            "order": null,
            "overflow": null,
            "overflow_x": null,
            "overflow_y": null,
            "padding": null,
            "right": null,
            "top": null,
            "visibility": null,
            "width": null
          }
        },
        "a741796c66514a7d878b5631f209521e": {
          "model_module": "@jupyter-widgets/controls",
          "model_name": "DescriptionStyleModel",
          "model_module_version": "1.5.0",
          "state": {
            "_model_module": "@jupyter-widgets/controls",
            "_model_module_version": "1.5.0",
            "_model_name": "DescriptionStyleModel",
            "_view_count": null,
            "_view_module": "@jupyter-widgets/base",
            "_view_module_version": "1.2.0",
            "_view_name": "StyleView",
            "description_width": ""
          }
        },
        "916c4d64e9604cbb901ebe3ae82903eb": {
          "model_module": "@jupyter-widgets/base",
          "model_name": "LayoutModel",
          "model_module_version": "1.2.0",
          "state": {
            "_model_module": "@jupyter-widgets/base",
            "_model_module_version": "1.2.0",
            "_model_name": "LayoutModel",
            "_view_count": null,
            "_view_module": "@jupyter-widgets/base",
            "_view_module_version": "1.2.0",
            "_view_name": "LayoutView",
            "align_content": null,
            "align_items": null,
            "align_self": null,
            "border": null,
            "bottom": null,
            "display": null,
            "flex": null,
            "flex_flow": null,
            "grid_area": null,
            "grid_auto_columns": null,
            "grid_auto_flow": null,
            "grid_auto_rows": null,
            "grid_column": null,
            "grid_gap": null,
            "grid_row": null,
            "grid_template_areas": null,
            "grid_template_columns": null,
            "grid_template_rows": null,
            "height": null,
            "justify_content": null,
            "justify_items": null,
            "left": null,
            "margin": null,
            "max_height": null,
            "max_width": null,
            "min_height": null,
            "min_width": null,
            "object_fit": null,
            "object_position": null,
            "order": null,
            "overflow": null,
            "overflow_x": null,
            "overflow_y": null,
            "padding": null,
            "right": null,
            "top": null,
            "visibility": null,
            "width": null
          }
        },
        "c3d5339b607949189410eff3f5d09c86": {
          "model_module": "@jupyter-widgets/controls",
          "model_name": "ProgressStyleModel",
          "model_module_version": "1.5.0",
          "state": {
            "_model_module": "@jupyter-widgets/controls",
            "_model_module_version": "1.5.0",
            "_model_name": "ProgressStyleModel",
            "_view_count": null,
            "_view_module": "@jupyter-widgets/base",
            "_view_module_version": "1.2.0",
            "_view_name": "StyleView",
            "bar_color": null,
            "description_width": ""
          }
        },
        "4ac79b6339e6433199b304dda808c52e": {
          "model_module": "@jupyter-widgets/base",
          "model_name": "LayoutModel",
          "model_module_version": "1.2.0",
          "state": {
            "_model_module": "@jupyter-widgets/base",
            "_model_module_version": "1.2.0",
            "_model_name": "LayoutModel",
            "_view_count": null,
            "_view_module": "@jupyter-widgets/base",
            "_view_module_version": "1.2.0",
            "_view_name": "LayoutView",
            "align_content": null,
            "align_items": null,
            "align_self": null,
            "border": null,
            "bottom": null,
            "display": null,
            "flex": null,
            "flex_flow": null,
            "grid_area": null,
            "grid_auto_columns": null,
            "grid_auto_flow": null,
            "grid_auto_rows": null,
            "grid_column": null,
            "grid_gap": null,
            "grid_row": null,
            "grid_template_areas": null,
            "grid_template_columns": null,
            "grid_template_rows": null,
            "height": null,
            "justify_content": null,
            "justify_items": null,
            "left": null,
            "margin": null,
            "max_height": null,
            "max_width": null,
            "min_height": null,
            "min_width": null,
            "object_fit": null,
            "object_position": null,
            "order": null,
            "overflow": null,
            "overflow_x": null,
            "overflow_y": null,
            "padding": null,
            "right": null,
            "top": null,
            "visibility": null,
            "width": null
          }
        },
        "aad5d00391a54f1995d664bddc192d15": {
          "model_module": "@jupyter-widgets/controls",
          "model_name": "DescriptionStyleModel",
          "model_module_version": "1.5.0",
          "state": {
            "_model_module": "@jupyter-widgets/controls",
            "_model_module_version": "1.5.0",
            "_model_name": "DescriptionStyleModel",
            "_view_count": null,
            "_view_module": "@jupyter-widgets/base",
            "_view_module_version": "1.2.0",
            "_view_name": "StyleView",
            "description_width": ""
          }
        },
        "a4d7ee3471674c3998adcd26eb7f8957": {
          "model_module": "@jupyter-widgets/controls",
          "model_name": "HBoxModel",
          "model_module_version": "1.5.0",
          "state": {
            "_dom_classes": [],
            "_model_module": "@jupyter-widgets/controls",
            "_model_module_version": "1.5.0",
            "_model_name": "HBoxModel",
            "_view_count": null,
            "_view_module": "@jupyter-widgets/controls",
            "_view_module_version": "1.5.0",
            "_view_name": "HBoxView",
            "box_style": "",
            "children": [
              "IPY_MODEL_26b4cb6961e541e49c5a06c2de95340a",
              "IPY_MODEL_c21853d4667b40d7b3abc27011cae13c",
              "IPY_MODEL_ebd0f2dac7794d40ba9984c8d0fdacf3"
            ],
            "layout": "IPY_MODEL_23b9c87e97b74bc99457416d6b09f7a2"
          }
        },
        "26b4cb6961e541e49c5a06c2de95340a": {
          "model_module": "@jupyter-widgets/controls",
          "model_name": "HTMLModel",
          "model_module_version": "1.5.0",
          "state": {
            "_dom_classes": [],
            "_model_module": "@jupyter-widgets/controls",
            "_model_module_version": "1.5.0",
            "_model_name": "HTMLModel",
            "_view_count": null,
            "_view_module": "@jupyter-widgets/controls",
            "_view_module_version": "1.5.0",
            "_view_name": "HTMLView",
            "description": "",
            "description_tooltip": null,
            "layout": "IPY_MODEL_c975980db123436698c4321de26bc800",
            "placeholder": "​",
            "style": "IPY_MODEL_737e9889d74a4e21bbca83e1c7c6555a",
            "value": "Downloading data: 100%"
          }
        },
        "c21853d4667b40d7b3abc27011cae13c": {
          "model_module": "@jupyter-widgets/controls",
          "model_name": "FloatProgressModel",
          "model_module_version": "1.5.0",
          "state": {
            "_dom_classes": [],
            "_model_module": "@jupyter-widgets/controls",
            "_model_module_version": "1.5.0",
            "_model_name": "FloatProgressModel",
            "_view_count": null,
            "_view_module": "@jupyter-widgets/controls",
            "_view_module_version": "1.5.0",
            "_view_name": "ProgressView",
            "bar_style": "success",
            "description": "",
            "description_tooltip": null,
            "layout": "IPY_MODEL_b078745f123a446a81946131ea09bbb6",
            "max": 22643887,
            "min": 0,
            "orientation": "horizontal",
            "style": "IPY_MODEL_0c2762397db44ccd8857d9cfd0e80cd1",
            "value": 22643887
          }
        },
        "ebd0f2dac7794d40ba9984c8d0fdacf3": {
          "model_module": "@jupyter-widgets/controls",
          "model_name": "HTMLModel",
          "model_module_version": "1.5.0",
          "state": {
            "_dom_classes": [],
            "_model_module": "@jupyter-widgets/controls",
            "_model_module_version": "1.5.0",
            "_model_name": "HTMLModel",
            "_view_count": null,
            "_view_module": "@jupyter-widgets/controls",
            "_view_module_version": "1.5.0",
            "_view_name": "HTMLView",
            "description": "",
            "description_tooltip": null,
            "layout": "IPY_MODEL_12f22ac158ed449f8d31808193c96079",
            "placeholder": "​",
            "style": "IPY_MODEL_bfc0dbc3894e438cb43530156b78f6be",
            "value": " 22.6M/22.6M [00:00&lt;00:00, 34.6MB/s]"
          }
        },
        "23b9c87e97b74bc99457416d6b09f7a2": {
          "model_module": "@jupyter-widgets/base",
          "model_name": "LayoutModel",
          "model_module_version": "1.2.0",
          "state": {
            "_model_module": "@jupyter-widgets/base",
            "_model_module_version": "1.2.0",
            "_model_name": "LayoutModel",
            "_view_count": null,
            "_view_module": "@jupyter-widgets/base",
            "_view_module_version": "1.2.0",
            "_view_name": "LayoutView",
            "align_content": null,
            "align_items": null,
            "align_self": null,
            "border": null,
            "bottom": null,
            "display": null,
            "flex": null,
            "flex_flow": null,
            "grid_area": null,
            "grid_auto_columns": null,
            "grid_auto_flow": null,
            "grid_auto_rows": null,
            "grid_column": null,
            "grid_gap": null,
            "grid_row": null,
            "grid_template_areas": null,
            "grid_template_columns": null,
            "grid_template_rows": null,
            "height": null,
            "justify_content": null,
            "justify_items": null,
            "left": null,
            "margin": null,
            "max_height": null,
            "max_width": null,
            "min_height": null,
            "min_width": null,
            "object_fit": null,
            "object_position": null,
            "order": null,
            "overflow": null,
            "overflow_x": null,
            "overflow_y": null,
            "padding": null,
            "right": null,
            "top": null,
            "visibility": null,
            "width": null
          }
        },
        "c975980db123436698c4321de26bc800": {
          "model_module": "@jupyter-widgets/base",
          "model_name": "LayoutModel",
          "model_module_version": "1.2.0",
          "state": {
            "_model_module": "@jupyter-widgets/base",
            "_model_module_version": "1.2.0",
            "_model_name": "LayoutModel",
            "_view_count": null,
            "_view_module": "@jupyter-widgets/base",
            "_view_module_version": "1.2.0",
            "_view_name": "LayoutView",
            "align_content": null,
            "align_items": null,
            "align_self": null,
            "border": null,
            "bottom": null,
            "display": null,
            "flex": null,
            "flex_flow": null,
            "grid_area": null,
            "grid_auto_columns": null,
            "grid_auto_flow": null,
            "grid_auto_rows": null,
            "grid_column": null,
            "grid_gap": null,
            "grid_row": null,
            "grid_template_areas": null,
            "grid_template_columns": null,
            "grid_template_rows": null,
            "height": null,
            "justify_content": null,
            "justify_items": null,
            "left": null,
            "margin": null,
            "max_height": null,
            "max_width": null,
            "min_height": null,
            "min_width": null,
            "object_fit": null,
            "object_position": null,
            "order": null,
            "overflow": null,
            "overflow_x": null,
            "overflow_y": null,
            "padding": null,
            "right": null,
            "top": null,
            "visibility": null,
            "width": null
          }
        },
        "737e9889d74a4e21bbca83e1c7c6555a": {
          "model_module": "@jupyter-widgets/controls",
          "model_name": "DescriptionStyleModel",
          "model_module_version": "1.5.0",
          "state": {
            "_model_module": "@jupyter-widgets/controls",
            "_model_module_version": "1.5.0",
            "_model_name": "DescriptionStyleModel",
            "_view_count": null,
            "_view_module": "@jupyter-widgets/base",
            "_view_module_version": "1.2.0",
            "_view_name": "StyleView",
            "description_width": ""
          }
        },
        "b078745f123a446a81946131ea09bbb6": {
          "model_module": "@jupyter-widgets/base",
          "model_name": "LayoutModel",
          "model_module_version": "1.2.0",
          "state": {
            "_model_module": "@jupyter-widgets/base",
            "_model_module_version": "1.2.0",
            "_model_name": "LayoutModel",
            "_view_count": null,
            "_view_module": "@jupyter-widgets/base",
            "_view_module_version": "1.2.0",
            "_view_name": "LayoutView",
            "align_content": null,
            "align_items": null,
            "align_self": null,
            "border": null,
            "bottom": null,
            "display": null,
            "flex": null,
            "flex_flow": null,
            "grid_area": null,
            "grid_auto_columns": null,
            "grid_auto_flow": null,
            "grid_auto_rows": null,
            "grid_column": null,
            "grid_gap": null,
            "grid_row": null,
            "grid_template_areas": null,
            "grid_template_columns": null,
            "grid_template_rows": null,
            "height": null,
            "justify_content": null,
            "justify_items": null,
            "left": null,
            "margin": null,
            "max_height": null,
            "max_width": null,
            "min_height": null,
            "min_width": null,
            "object_fit": null,
            "object_position": null,
            "order": null,
            "overflow": null,
            "overflow_x": null,
            "overflow_y": null,
            "padding": null,
            "right": null,
            "top": null,
            "visibility": null,
            "width": null
          }
        },
        "0c2762397db44ccd8857d9cfd0e80cd1": {
          "model_module": "@jupyter-widgets/controls",
          "model_name": "ProgressStyleModel",
          "model_module_version": "1.5.0",
          "state": {
            "_model_module": "@jupyter-widgets/controls",
            "_model_module_version": "1.5.0",
            "_model_name": "ProgressStyleModel",
            "_view_count": null,
            "_view_module": "@jupyter-widgets/base",
            "_view_module_version": "1.2.0",
            "_view_name": "StyleView",
            "bar_color": null,
            "description_width": ""
          }
        },
        "12f22ac158ed449f8d31808193c96079": {
          "model_module": "@jupyter-widgets/base",
          "model_name": "LayoutModel",
          "model_module_version": "1.2.0",
          "state": {
            "_model_module": "@jupyter-widgets/base",
            "_model_module_version": "1.2.0",
            "_model_name": "LayoutModel",
            "_view_count": null,
            "_view_module": "@jupyter-widgets/base",
            "_view_module_version": "1.2.0",
            "_view_name": "LayoutView",
            "align_content": null,
            "align_items": null,
            "align_self": null,
            "border": null,
            "bottom": null,
            "display": null,
            "flex": null,
            "flex_flow": null,
            "grid_area": null,
            "grid_auto_columns": null,
            "grid_auto_flow": null,
            "grid_auto_rows": null,
            "grid_column": null,
            "grid_gap": null,
            "grid_row": null,
            "grid_template_areas": null,
            "grid_template_columns": null,
            "grid_template_rows": null,
            "height": null,
            "justify_content": null,
            "justify_items": null,
            "left": null,
            "margin": null,
            "max_height": null,
            "max_width": null,
            "min_height": null,
            "min_width": null,
            "object_fit": null,
            "object_position": null,
            "order": null,
            "overflow": null,
            "overflow_x": null,
            "overflow_y": null,
            "padding": null,
            "right": null,
            "top": null,
            "visibility": null,
            "width": null
          }
        },
        "bfc0dbc3894e438cb43530156b78f6be": {
          "model_module": "@jupyter-widgets/controls",
          "model_name": "DescriptionStyleModel",
          "model_module_version": "1.5.0",
          "state": {
            "_model_module": "@jupyter-widgets/controls",
            "_model_module_version": "1.5.0",
            "_model_name": "DescriptionStyleModel",
            "_view_count": null,
            "_view_module": "@jupyter-widgets/base",
            "_view_module_version": "1.2.0",
            "_view_name": "StyleView",
            "description_width": ""
          }
        },
        "52a52ed5e1764f5c8b3476a55f51a93d": {
          "model_module": "@jupyter-widgets/controls",
          "model_name": "HBoxModel",
          "model_module_version": "1.5.0",
          "state": {
            "_dom_classes": [],
            "_model_module": "@jupyter-widgets/controls",
            "_model_module_version": "1.5.0",
            "_model_name": "HBoxModel",
            "_view_count": null,
            "_view_module": "@jupyter-widgets/controls",
            "_view_module_version": "1.5.0",
            "_view_name": "HBoxView",
            "box_style": "",
            "children": [
              "IPY_MODEL_fcb4486729644cab869f77a2b04ba875",
              "IPY_MODEL_68248637f94a4f9c959b14f244a7ae82",
              "IPY_MODEL_0fec1f168c7e47aba56c30f0f69682ff"
            ],
            "layout": "IPY_MODEL_e95d2dd8b52c4b2a98bc981e44187ca3"
          }
        },
        "fcb4486729644cab869f77a2b04ba875": {
          "model_module": "@jupyter-widgets/controls",
          "model_name": "HTMLModel",
          "model_module_version": "1.5.0",
          "state": {
            "_dom_classes": [],
            "_model_module": "@jupyter-widgets/controls",
            "_model_module_version": "1.5.0",
            "_model_name": "HTMLModel",
            "_view_count": null,
            "_view_module": "@jupyter-widgets/controls",
            "_view_module_version": "1.5.0",
            "_view_name": "HTMLView",
            "description": "",
            "description_tooltip": null,
            "layout": "IPY_MODEL_27ac8e3ed0204d5e8f67b0765cb11ba7",
            "placeholder": "​",
            "style": "IPY_MODEL_06544c24ddb84e559f0e169a41e44612",
            "value": "Downloading data: 100%"
          }
        },
        "68248637f94a4f9c959b14f244a7ae82": {
          "model_module": "@jupyter-widgets/controls",
          "model_name": "FloatProgressModel",
          "model_module_version": "1.5.0",
          "state": {
            "_dom_classes": [],
            "_model_module": "@jupyter-widgets/controls",
            "_model_module_version": "1.5.0",
            "_model_name": "FloatProgressModel",
            "_view_count": null,
            "_view_module": "@jupyter-widgets/controls",
            "_view_module_version": "1.5.0",
            "_view_name": "ProgressView",
            "bar_style": "success",
            "description": "",
            "description_tooltip": null,
            "layout": "IPY_MODEL_9b697eeb952c410c9446e93337823144",
            "max": 5645961,
            "min": 0,
            "orientation": "horizontal",
            "style": "IPY_MODEL_9c1b98f1a66f46788d57d8d5f833a1a9",
            "value": 5645961
          }
        },
        "0fec1f168c7e47aba56c30f0f69682ff": {
          "model_module": "@jupyter-widgets/controls",
          "model_name": "HTMLModel",
          "model_module_version": "1.5.0",
          "state": {
            "_dom_classes": [],
            "_model_module": "@jupyter-widgets/controls",
            "_model_module_version": "1.5.0",
            "_model_name": "HTMLModel",
            "_view_count": null,
            "_view_module": "@jupyter-widgets/controls",
            "_view_module_version": "1.5.0",
            "_view_name": "HTMLView",
            "description": "",
            "description_tooltip": null,
            "layout": "IPY_MODEL_310609dac02c40d09148cf6b6b0bbec0",
            "placeholder": "​",
            "style": "IPY_MODEL_12abdb634d83475483db2929177746fe",
            "value": " 5.65M/5.65M [00:00&lt;00:00, 16.1MB/s]"
          }
        },
        "e95d2dd8b52c4b2a98bc981e44187ca3": {
          "model_module": "@jupyter-widgets/base",
          "model_name": "LayoutModel",
          "model_module_version": "1.2.0",
          "state": {
            "_model_module": "@jupyter-widgets/base",
            "_model_module_version": "1.2.0",
            "_model_name": "LayoutModel",
            "_view_count": null,
            "_view_module": "@jupyter-widgets/base",
            "_view_module_version": "1.2.0",
            "_view_name": "LayoutView",
            "align_content": null,
            "align_items": null,
            "align_self": null,
            "border": null,
            "bottom": null,
            "display": null,
            "flex": null,
            "flex_flow": null,
            "grid_area": null,
            "grid_auto_columns": null,
            "grid_auto_flow": null,
            "grid_auto_rows": null,
            "grid_column": null,
            "grid_gap": null,
            "grid_row": null,
            "grid_template_areas": null,
            "grid_template_columns": null,
            "grid_template_rows": null,
            "height": null,
            "justify_content": null,
            "justify_items": null,
            "left": null,
            "margin": null,
            "max_height": null,
            "max_width": null,
            "min_height": null,
            "min_width": null,
            "object_fit": null,
            "object_position": null,
            "order": null,
            "overflow": null,
            "overflow_x": null,
            "overflow_y": null,
            "padding": null,
            "right": null,
            "top": null,
            "visibility": null,
            "width": null
          }
        },
        "27ac8e3ed0204d5e8f67b0765cb11ba7": {
          "model_module": "@jupyter-widgets/base",
          "model_name": "LayoutModel",
          "model_module_version": "1.2.0",
          "state": {
            "_model_module": "@jupyter-widgets/base",
            "_model_module_version": "1.2.0",
            "_model_name": "LayoutModel",
            "_view_count": null,
            "_view_module": "@jupyter-widgets/base",
            "_view_module_version": "1.2.0",
            "_view_name": "LayoutView",
            "align_content": null,
            "align_items": null,
            "align_self": null,
            "border": null,
            "bottom": null,
            "display": null,
            "flex": null,
            "flex_flow": null,
            "grid_area": null,
            "grid_auto_columns": null,
            "grid_auto_flow": null,
            "grid_auto_rows": null,
            "grid_column": null,
            "grid_gap": null,
            "grid_row": null,
            "grid_template_areas": null,
            "grid_template_columns": null,
            "grid_template_rows": null,
            "height": null,
            "justify_content": null,
            "justify_items": null,
            "left": null,
            "margin": null,
            "max_height": null,
            "max_width": null,
            "min_height": null,
            "min_width": null,
            "object_fit": null,
            "object_position": null,
            "order": null,
            "overflow": null,
            "overflow_x": null,
            "overflow_y": null,
            "padding": null,
            "right": null,
            "top": null,
            "visibility": null,
            "width": null
          }
        },
        "06544c24ddb84e559f0e169a41e44612": {
          "model_module": "@jupyter-widgets/controls",
          "model_name": "DescriptionStyleModel",
          "model_module_version": "1.5.0",
          "state": {
            "_model_module": "@jupyter-widgets/controls",
            "_model_module_version": "1.5.0",
            "_model_name": "DescriptionStyleModel",
            "_view_count": null,
            "_view_module": "@jupyter-widgets/base",
            "_view_module_version": "1.2.0",
            "_view_name": "StyleView",
            "description_width": ""
          }
        },
        "9b697eeb952c410c9446e93337823144": {
          "model_module": "@jupyter-widgets/base",
          "model_name": "LayoutModel",
          "model_module_version": "1.2.0",
          "state": {
            "_model_module": "@jupyter-widgets/base",
            "_model_module_version": "1.2.0",
            "_model_name": "LayoutModel",
            "_view_count": null,
            "_view_module": "@jupyter-widgets/base",
            "_view_module_version": "1.2.0",
            "_view_name": "LayoutView",
            "align_content": null,
            "align_items": null,
            "align_self": null,
            "border": null,
            "bottom": null,
            "display": null,
            "flex": null,
            "flex_flow": null,
            "grid_area": null,
            "grid_auto_columns": null,
            "grid_auto_flow": null,
            "grid_auto_rows": null,
            "grid_column": null,
            "grid_gap": null,
            "grid_row": null,
            "grid_template_areas": null,
            "grid_template_columns": null,
            "grid_template_rows": null,
            "height": null,
            "justify_content": null,
            "justify_items": null,
            "left": null,
            "margin": null,
            "max_height": null,
            "max_width": null,
            "min_height": null,
            "min_width": null,
            "object_fit": null,
            "object_position": null,
            "order": null,
            "overflow": null,
            "overflow_x": null,
            "overflow_y": null,
            "padding": null,
            "right": null,
            "top": null,
            "visibility": null,
            "width": null
          }
        },
        "9c1b98f1a66f46788d57d8d5f833a1a9": {
          "model_module": "@jupyter-widgets/controls",
          "model_name": "ProgressStyleModel",
          "model_module_version": "1.5.0",
          "state": {
            "_model_module": "@jupyter-widgets/controls",
            "_model_module_version": "1.5.0",
            "_model_name": "ProgressStyleModel",
            "_view_count": null,
            "_view_module": "@jupyter-widgets/base",
            "_view_module_version": "1.2.0",
            "_view_name": "StyleView",
            "bar_color": null,
            "description_width": ""
          }
        },
        "310609dac02c40d09148cf6b6b0bbec0": {
          "model_module": "@jupyter-widgets/base",
          "model_name": "LayoutModel",
          "model_module_version": "1.2.0",
          "state": {
            "_model_module": "@jupyter-widgets/base",
            "_model_module_version": "1.2.0",
            "_model_name": "LayoutModel",
            "_view_count": null,
            "_view_module": "@jupyter-widgets/base",
            "_view_module_version": "1.2.0",
            "_view_name": "LayoutView",
            "align_content": null,
            "align_items": null,
            "align_self": null,
            "border": null,
            "bottom": null,
            "display": null,
            "flex": null,
            "flex_flow": null,
            "grid_area": null,
            "grid_auto_columns": null,
            "grid_auto_flow": null,
            "grid_auto_rows": null,
            "grid_column": null,
            "grid_gap": null,
            "grid_row": null,
            "grid_template_areas": null,
            "grid_template_columns": null,
            "grid_template_rows": null,
            "height": null,
            "justify_content": null,
            "justify_items": null,
            "left": null,
            "margin": null,
            "max_height": null,
            "max_width": null,
            "min_height": null,
            "min_width": null,
            "object_fit": null,
            "object_position": null,
            "order": null,
            "overflow": null,
            "overflow_x": null,
            "overflow_y": null,
            "padding": null,
            "right": null,
            "top": null,
            "visibility": null,
            "width": null
          }
        },
        "12abdb634d83475483db2929177746fe": {
          "model_module": "@jupyter-widgets/controls",
          "model_name": "DescriptionStyleModel",
          "model_module_version": "1.5.0",
          "state": {
            "_model_module": "@jupyter-widgets/controls",
            "_model_module_version": "1.5.0",
            "_model_name": "DescriptionStyleModel",
            "_view_count": null,
            "_view_module": "@jupyter-widgets/base",
            "_view_module_version": "1.2.0",
            "_view_name": "StyleView",
            "description_width": ""
          }
        },
        "ad5ad6bc9f834144977b6f1a2e6395eb": {
          "model_module": "@jupyter-widgets/controls",
          "model_name": "HBoxModel",
          "model_module_version": "1.5.0",
          "state": {
            "_dom_classes": [],
            "_model_module": "@jupyter-widgets/controls",
            "_model_module_version": "1.5.0",
            "_model_name": "HBoxModel",
            "_view_count": null,
            "_view_module": "@jupyter-widgets/controls",
            "_view_module_version": "1.5.0",
            "_view_name": "HBoxView",
            "box_style": "",
            "children": [
              "IPY_MODEL_498be9c5a7cf4acc98805ee86dfc4a6b",
              "IPY_MODEL_62ca7ac9d6de475c964017aec7d12013",
              "IPY_MODEL_93c1fdd9de044d83970c4ce6a6f48a2e"
            ],
            "layout": "IPY_MODEL_965cefb612b54e8387bdfcace0a0d2ef"
          }
        },
        "498be9c5a7cf4acc98805ee86dfc4a6b": {
          "model_module": "@jupyter-widgets/controls",
          "model_name": "HTMLModel",
          "model_module_version": "1.5.0",
          "state": {
            "_dom_classes": [],
            "_model_module": "@jupyter-widgets/controls",
            "_model_module_version": "1.5.0",
            "_model_name": "HTMLModel",
            "_view_count": null,
            "_view_module": "@jupyter-widgets/controls",
            "_view_module_version": "1.5.0",
            "_view_name": "HTMLView",
            "description": "",
            "description_tooltip": null,
            "layout": "IPY_MODEL_e304d243c9c24a75a1e863b1c406916b",
            "placeholder": "​",
            "style": "IPY_MODEL_615110d6e08a44e6baedf4a5c052cd63",
            "value": "Generating train split: 100%"
          }
        },
        "62ca7ac9d6de475c964017aec7d12013": {
          "model_module": "@jupyter-widgets/controls",
          "model_name": "FloatProgressModel",
          "model_module_version": "1.5.0",
          "state": {
            "_dom_classes": [],
            "_model_module": "@jupyter-widgets/controls",
            "_model_module_version": "1.5.0",
            "_model_name": "FloatProgressModel",
            "_view_count": null,
            "_view_module": "@jupyter-widgets/controls",
            "_view_module_version": "1.5.0",
            "_view_name": "ProgressView",
            "bar_style": "success",
            "description": "",
            "description_tooltip": null,
            "layout": "IPY_MODEL_d7d5d9820c8f40b89d97cba73b1a48ab",
            "max": 5120,
            "min": 0,
            "orientation": "horizontal",
            "style": "IPY_MODEL_7b40bf8c527e43349a26e03c706a29b2",
            "value": 5120
          }
        },
        "93c1fdd9de044d83970c4ce6a6f48a2e": {
          "model_module": "@jupyter-widgets/controls",
          "model_name": "HTMLModel",
          "model_module_version": "1.5.0",
          "state": {
            "_dom_classes": [],
            "_model_module": "@jupyter-widgets/controls",
            "_model_module_version": "1.5.0",
            "_model_name": "HTMLModel",
            "_view_count": null,
            "_view_module": "@jupyter-widgets/controls",
            "_view_module_version": "1.5.0",
            "_view_name": "HTMLView",
            "description": "",
            "description_tooltip": null,
            "layout": "IPY_MODEL_47aeae4613314a8790ebc8bdf6a45efb",
            "placeholder": "​",
            "style": "IPY_MODEL_ecb23bf5d1a848e39795ae9a436eba63",
            "value": " 5120/5120 [00:00&lt;00:00, 8352.39 examples/s]"
          }
        },
        "965cefb612b54e8387bdfcace0a0d2ef": {
          "model_module": "@jupyter-widgets/base",
          "model_name": "LayoutModel",
          "model_module_version": "1.2.0",
          "state": {
            "_model_module": "@jupyter-widgets/base",
            "_model_module_version": "1.2.0",
            "_model_name": "LayoutModel",
            "_view_count": null,
            "_view_module": "@jupyter-widgets/base",
            "_view_module_version": "1.2.0",
            "_view_name": "LayoutView",
            "align_content": null,
            "align_items": null,
            "align_self": null,
            "border": null,
            "bottom": null,
            "display": null,
            "flex": null,
            "flex_flow": null,
            "grid_area": null,
            "grid_auto_columns": null,
            "grid_auto_flow": null,
            "grid_auto_rows": null,
            "grid_column": null,
            "grid_gap": null,
            "grid_row": null,
            "grid_template_areas": null,
            "grid_template_columns": null,
            "grid_template_rows": null,
            "height": null,
            "justify_content": null,
            "justify_items": null,
            "left": null,
            "margin": null,
            "max_height": null,
            "max_width": null,
            "min_height": null,
            "min_width": null,
            "object_fit": null,
            "object_position": null,
            "order": null,
            "overflow": null,
            "overflow_x": null,
            "overflow_y": null,
            "padding": null,
            "right": null,
            "top": null,
            "visibility": null,
            "width": null
          }
        },
        "e304d243c9c24a75a1e863b1c406916b": {
          "model_module": "@jupyter-widgets/base",
          "model_name": "LayoutModel",
          "model_module_version": "1.2.0",
          "state": {
            "_model_module": "@jupyter-widgets/base",
            "_model_module_version": "1.2.0",
            "_model_name": "LayoutModel",
            "_view_count": null,
            "_view_module": "@jupyter-widgets/base",
            "_view_module_version": "1.2.0",
            "_view_name": "LayoutView",
            "align_content": null,
            "align_items": null,
            "align_self": null,
            "border": null,
            "bottom": null,
            "display": null,
            "flex": null,
            "flex_flow": null,
            "grid_area": null,
            "grid_auto_columns": null,
            "grid_auto_flow": null,
            "grid_auto_rows": null,
            "grid_column": null,
            "grid_gap": null,
            "grid_row": null,
            "grid_template_areas": null,
            "grid_template_columns": null,
            "grid_template_rows": null,
            "height": null,
            "justify_content": null,
            "justify_items": null,
            "left": null,
            "margin": null,
            "max_height": null,
            "max_width": null,
            "min_height": null,
            "min_width": null,
            "object_fit": null,
            "object_position": null,
            "order": null,
            "overflow": null,
            "overflow_x": null,
            "overflow_y": null,
            "padding": null,
            "right": null,
            "top": null,
            "visibility": null,
            "width": null
          }
        },
        "615110d6e08a44e6baedf4a5c052cd63": {
          "model_module": "@jupyter-widgets/controls",
          "model_name": "DescriptionStyleModel",
          "model_module_version": "1.5.0",
          "state": {
            "_model_module": "@jupyter-widgets/controls",
            "_model_module_version": "1.5.0",
            "_model_name": "DescriptionStyleModel",
            "_view_count": null,
            "_view_module": "@jupyter-widgets/base",
            "_view_module_version": "1.2.0",
            "_view_name": "StyleView",
            "description_width": ""
          }
        },
        "d7d5d9820c8f40b89d97cba73b1a48ab": {
          "model_module": "@jupyter-widgets/base",
          "model_name": "LayoutModel",
          "model_module_version": "1.2.0",
          "state": {
            "_model_module": "@jupyter-widgets/base",
            "_model_module_version": "1.2.0",
            "_model_name": "LayoutModel",
            "_view_count": null,
            "_view_module": "@jupyter-widgets/base",
            "_view_module_version": "1.2.0",
            "_view_name": "LayoutView",
            "align_content": null,
            "align_items": null,
            "align_self": null,
            "border": null,
            "bottom": null,
            "display": null,
            "flex": null,
            "flex_flow": null,
            "grid_area": null,
            "grid_auto_columns": null,
            "grid_auto_flow": null,
            "grid_auto_rows": null,
            "grid_column": null,
            "grid_gap": null,
            "grid_row": null,
            "grid_template_areas": null,
            "grid_template_columns": null,
            "grid_template_rows": null,
            "height": null,
            "justify_content": null,
            "justify_items": null,
            "left": null,
            "margin": null,
            "max_height": null,
            "max_width": null,
            "min_height": null,
            "min_width": null,
            "object_fit": null,
            "object_position": null,
            "order": null,
            "overflow": null,
            "overflow_x": null,
            "overflow_y": null,
            "padding": null,
            "right": null,
            "top": null,
            "visibility": null,
            "width": null
          }
        },
        "7b40bf8c527e43349a26e03c706a29b2": {
          "model_module": "@jupyter-widgets/controls",
          "model_name": "ProgressStyleModel",
          "model_module_version": "1.5.0",
          "state": {
            "_model_module": "@jupyter-widgets/controls",
            "_model_module_version": "1.5.0",
            "_model_name": "ProgressStyleModel",
            "_view_count": null,
            "_view_module": "@jupyter-widgets/base",
            "_view_module_version": "1.2.0",
            "_view_name": "StyleView",
            "bar_color": null,
            "description_width": ""
          }
        },
        "47aeae4613314a8790ebc8bdf6a45efb": {
          "model_module": "@jupyter-widgets/base",
          "model_name": "LayoutModel",
          "model_module_version": "1.2.0",
          "state": {
            "_model_module": "@jupyter-widgets/base",
            "_model_module_version": "1.2.0",
            "_model_name": "LayoutModel",
            "_view_count": null,
            "_view_module": "@jupyter-widgets/base",
            "_view_module_version": "1.2.0",
            "_view_name": "LayoutView",
            "align_content": null,
            "align_items": null,
            "align_self": null,
            "border": null,
            "bottom": null,
            "display": null,
            "flex": null,
            "flex_flow": null,
            "grid_area": null,
            "grid_auto_columns": null,
            "grid_auto_flow": null,
            "grid_auto_rows": null,
            "grid_column": null,
            "grid_gap": null,
            "grid_row": null,
            "grid_template_areas": null,
            "grid_template_columns": null,
            "grid_template_rows": null,
            "height": null,
            "justify_content": null,
            "justify_items": null,
            "left": null,
            "margin": null,
            "max_height": null,
            "max_width": null,
            "min_height": null,
            "min_width": null,
            "object_fit": null,
            "object_position": null,
            "order": null,
            "overflow": null,
            "overflow_x": null,
            "overflow_y": null,
            "padding": null,
            "right": null,
            "top": null,
            "visibility": null,
            "width": null
          }
        },
        "ecb23bf5d1a848e39795ae9a436eba63": {
          "model_module": "@jupyter-widgets/controls",
          "model_name": "DescriptionStyleModel",
          "model_module_version": "1.5.0",
          "state": {
            "_model_module": "@jupyter-widgets/controls",
            "_model_module_version": "1.5.0",
            "_model_name": "DescriptionStyleModel",
            "_view_count": null,
            "_view_module": "@jupyter-widgets/base",
            "_view_module_version": "1.2.0",
            "_view_name": "StyleView",
            "description_width": ""
          }
        },
        "b65ba243bbfa4049ab31864ac1149ae8": {
          "model_module": "@jupyter-widgets/controls",
          "model_name": "HBoxModel",
          "model_module_version": "1.5.0",
          "state": {
            "_dom_classes": [],
            "_model_module": "@jupyter-widgets/controls",
            "_model_module_version": "1.5.0",
            "_model_name": "HBoxModel",
            "_view_count": null,
            "_view_module": "@jupyter-widgets/controls",
            "_view_module_version": "1.5.0",
            "_view_name": "HBoxView",
            "box_style": "",
            "children": [
              "IPY_MODEL_733340cb17ed44c99c8581a43043d265",
              "IPY_MODEL_d71890ca6eee459995eec6d6c9c6176b",
              "IPY_MODEL_33a3c1801abd4ea9954b109d07573dbc"
            ],
            "layout": "IPY_MODEL_f4f063b718a64a068986169eff0b10b6"
          }
        },
        "733340cb17ed44c99c8581a43043d265": {
          "model_module": "@jupyter-widgets/controls",
          "model_name": "HTMLModel",
          "model_module_version": "1.5.0",
          "state": {
            "_dom_classes": [],
            "_model_module": "@jupyter-widgets/controls",
            "_model_module_version": "1.5.0",
            "_model_name": "HTMLModel",
            "_view_count": null,
            "_view_module": "@jupyter-widgets/controls",
            "_view_module_version": "1.5.0",
            "_view_name": "HTMLView",
            "description": "",
            "description_tooltip": null,
            "layout": "IPY_MODEL_65388ed6449340b6916a035c07ed419c",
            "placeholder": "​",
            "style": "IPY_MODEL_478987edee84461d87189a0c8039ca25",
            "value": "Generating test split: 100%"
          }
        },
        "d71890ca6eee459995eec6d6c9c6176b": {
          "model_module": "@jupyter-widgets/controls",
          "model_name": "FloatProgressModel",
          "model_module_version": "1.5.0",
          "state": {
            "_dom_classes": [],
            "_model_module": "@jupyter-widgets/controls",
            "_model_module_version": "1.5.0",
            "_model_name": "FloatProgressModel",
            "_view_count": null,
            "_view_module": "@jupyter-widgets/controls",
            "_view_module_version": "1.5.0",
            "_view_name": "ProgressView",
            "bar_style": "success",
            "description": "",
            "description_tooltip": null,
            "layout": "IPY_MODEL_1904f9859267427d874114656f5097e7",
            "max": 1280,
            "min": 0,
            "orientation": "horizontal",
            "style": "IPY_MODEL_3d928e50a9874085bcc40fb431a2598a",
            "value": 1280
          }
        },
        "33a3c1801abd4ea9954b109d07573dbc": {
          "model_module": "@jupyter-widgets/controls",
          "model_name": "HTMLModel",
          "model_module_version": "1.5.0",
          "state": {
            "_dom_classes": [],
            "_model_module": "@jupyter-widgets/controls",
            "_model_module_version": "1.5.0",
            "_model_name": "HTMLModel",
            "_view_count": null,
            "_view_module": "@jupyter-widgets/controls",
            "_view_module_version": "1.5.0",
            "_view_name": "HTMLView",
            "description": "",
            "description_tooltip": null,
            "layout": "IPY_MODEL_4199ca37869a436cb27ed8063e820228",
            "placeholder": "​",
            "style": "IPY_MODEL_751ae12459d14b5782061506122052f6",
            "value": " 1280/1280 [00:00&lt;00:00, 15128.92 examples/s]"
          }
        },
        "f4f063b718a64a068986169eff0b10b6": {
          "model_module": "@jupyter-widgets/base",
          "model_name": "LayoutModel",
          "model_module_version": "1.2.0",
          "state": {
            "_model_module": "@jupyter-widgets/base",
            "_model_module_version": "1.2.0",
            "_model_name": "LayoutModel",
            "_view_count": null,
            "_view_module": "@jupyter-widgets/base",
            "_view_module_version": "1.2.0",
            "_view_name": "LayoutView",
            "align_content": null,
            "align_items": null,
            "align_self": null,
            "border": null,
            "bottom": null,
            "display": null,
            "flex": null,
            "flex_flow": null,
            "grid_area": null,
            "grid_auto_columns": null,
            "grid_auto_flow": null,
            "grid_auto_rows": null,
            "grid_column": null,
            "grid_gap": null,
            "grid_row": null,
            "grid_template_areas": null,
            "grid_template_columns": null,
            "grid_template_rows": null,
            "height": null,
            "justify_content": null,
            "justify_items": null,
            "left": null,
            "margin": null,
            "max_height": null,
            "max_width": null,
            "min_height": null,
            "min_width": null,
            "object_fit": null,
            "object_position": null,
            "order": null,
            "overflow": null,
            "overflow_x": null,
            "overflow_y": null,
            "padding": null,
            "right": null,
            "top": null,
            "visibility": null,
            "width": null
          }
        },
        "65388ed6449340b6916a035c07ed419c": {
          "model_module": "@jupyter-widgets/base",
          "model_name": "LayoutModel",
          "model_module_version": "1.2.0",
          "state": {
            "_model_module": "@jupyter-widgets/base",
            "_model_module_version": "1.2.0",
            "_model_name": "LayoutModel",
            "_view_count": null,
            "_view_module": "@jupyter-widgets/base",
            "_view_module_version": "1.2.0",
            "_view_name": "LayoutView",
            "align_content": null,
            "align_items": null,
            "align_self": null,
            "border": null,
            "bottom": null,
            "display": null,
            "flex": null,
            "flex_flow": null,
            "grid_area": null,
            "grid_auto_columns": null,
            "grid_auto_flow": null,
            "grid_auto_rows": null,
            "grid_column": null,
            "grid_gap": null,
            "grid_row": null,
            "grid_template_areas": null,
            "grid_template_columns": null,
            "grid_template_rows": null,
            "height": null,
            "justify_content": null,
            "justify_items": null,
            "left": null,
            "margin": null,
            "max_height": null,
            "max_width": null,
            "min_height": null,
            "min_width": null,
            "object_fit": null,
            "object_position": null,
            "order": null,
            "overflow": null,
            "overflow_x": null,
            "overflow_y": null,
            "padding": null,
            "right": null,
            "top": null,
            "visibility": null,
            "width": null
          }
        },
        "478987edee84461d87189a0c8039ca25": {
          "model_module": "@jupyter-widgets/controls",
          "model_name": "DescriptionStyleModel",
          "model_module_version": "1.5.0",
          "state": {
            "_model_module": "@jupyter-widgets/controls",
            "_model_module_version": "1.5.0",
            "_model_name": "DescriptionStyleModel",
            "_view_count": null,
            "_view_module": "@jupyter-widgets/base",
            "_view_module_version": "1.2.0",
            "_view_name": "StyleView",
            "description_width": ""
          }
        },
        "1904f9859267427d874114656f5097e7": {
          "model_module": "@jupyter-widgets/base",
          "model_name": "LayoutModel",
          "model_module_version": "1.2.0",
          "state": {
            "_model_module": "@jupyter-widgets/base",
            "_model_module_version": "1.2.0",
            "_model_name": "LayoutModel",
            "_view_count": null,
            "_view_module": "@jupyter-widgets/base",
            "_view_module_version": "1.2.0",
            "_view_name": "LayoutView",
            "align_content": null,
            "align_items": null,
            "align_self": null,
            "border": null,
            "bottom": null,
            "display": null,
            "flex": null,
            "flex_flow": null,
            "grid_area": null,
            "grid_auto_columns": null,
            "grid_auto_flow": null,
            "grid_auto_rows": null,
            "grid_column": null,
            "grid_gap": null,
            "grid_row": null,
            "grid_template_areas": null,
            "grid_template_columns": null,
            "grid_template_rows": null,
            "height": null,
            "justify_content": null,
            "justify_items": null,
            "left": null,
            "margin": null,
            "max_height": null,
            "max_width": null,
            "min_height": null,
            "min_width": null,
            "object_fit": null,
            "object_position": null,
            "order": null,
            "overflow": null,
            "overflow_x": null,
            "overflow_y": null,
            "padding": null,
            "right": null,
            "top": null,
            "visibility": null,
            "width": null
          }
        },
        "3d928e50a9874085bcc40fb431a2598a": {
          "model_module": "@jupyter-widgets/controls",
          "model_name": "ProgressStyleModel",
          "model_module_version": "1.5.0",
          "state": {
            "_model_module": "@jupyter-widgets/controls",
            "_model_module_version": "1.5.0",
            "_model_name": "ProgressStyleModel",
            "_view_count": null,
            "_view_module": "@jupyter-widgets/base",
            "_view_module_version": "1.2.0",
            "_view_name": "StyleView",
            "bar_color": null,
            "description_width": ""
          }
        },
        "4199ca37869a436cb27ed8063e820228": {
          "model_module": "@jupyter-widgets/base",
          "model_name": "LayoutModel",
          "model_module_version": "1.2.0",
          "state": {
            "_model_module": "@jupyter-widgets/base",
            "_model_module_version": "1.2.0",
            "_model_name": "LayoutModel",
            "_view_count": null,
            "_view_module": "@jupyter-widgets/base",
            "_view_module_version": "1.2.0",
            "_view_name": "LayoutView",
            "align_content": null,
            "align_items": null,
            "align_self": null,
            "border": null,
            "bottom": null,
            "display": null,
            "flex": null,
            "flex_flow": null,
            "grid_area": null,
            "grid_auto_columns": null,
            "grid_auto_flow": null,
            "grid_auto_rows": null,
            "grid_column": null,
            "grid_gap": null,
            "grid_row": null,
            "grid_template_areas": null,
            "grid_template_columns": null,
            "grid_template_rows": null,
            "height": null,
            "justify_content": null,
            "justify_items": null,
            "left": null,
            "margin": null,
            "max_height": null,
            "max_width": null,
            "min_height": null,
            "min_width": null,
            "object_fit": null,
            "object_position": null,
            "order": null,
            "overflow": null,
            "overflow_x": null,
            "overflow_y": null,
            "padding": null,
            "right": null,
            "top": null,
            "visibility": null,
            "width": null
          }
        },
        "751ae12459d14b5782061506122052f6": {
          "model_module": "@jupyter-widgets/controls",
          "model_name": "DescriptionStyleModel",
          "model_module_version": "1.5.0",
          "state": {
            "_model_module": "@jupyter-widgets/controls",
            "_model_module_version": "1.5.0",
            "_model_name": "DescriptionStyleModel",
            "_view_count": null,
            "_view_module": "@jupyter-widgets/base",
            "_view_module_version": "1.2.0",
            "_view_name": "StyleView",
            "description_width": ""
          }
        }
      }
    }
  },
  "nbformat": 4,
  "nbformat_minor": 0
}